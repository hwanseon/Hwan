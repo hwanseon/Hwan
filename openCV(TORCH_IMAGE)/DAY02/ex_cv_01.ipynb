{
 "cells": [
  {
   "cell_type": "markdown",
   "metadata": {},
   "source": [
    "#### Image Data 처리\n",
    "- 채널 관련\n",
    "    * 컬러 : 3개의 채널 => shape을 뽑으면 (행, 열, 채널) ex) (H, W, 3) H = 높이, W = 가로\n",
    "    * 흑백 : 1개의 채널 => shape을 뽑으면 (행, 열)       ex) (H, W)"
   ]
  },
  {
   "cell_type": "code",
   "execution_count": 16,
   "metadata": {},
   "outputs": [],
   "source": [
    "# 모듈로딩\n",
    "import cv2\n",
    "import numpy as np\n"
   ]
  },
  {
   "cell_type": "code",
   "execution_count": 17,
   "metadata": {},
   "outputs": [],
   "source": [
    "# Data 관련 변수\n",
    "DIR_PATH =  \"../data/\""
   ]
  }
 ],
 "metadata": {
  "kernelspec": {
   "display_name": "TORCH_CV_38",
   "language": "python",
   "name": "python3"
  },
  "language_info": {
   "codemirror_mode": {
    "name": "ipython",
    "version": 3
   },
   "file_extension": ".py",
   "mimetype": "text/x-python",
   "name": "python",
   "nbconvert_exporter": "python",
   "pygments_lexer": "ipython3",
   "version": "3.8.19"
  }
 },
 "nbformat": 4,
 "nbformat_minor": 2
}
