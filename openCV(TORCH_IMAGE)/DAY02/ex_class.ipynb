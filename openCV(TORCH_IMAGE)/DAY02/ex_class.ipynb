{
 "cells": [
  {
   "cell_type": "markdown",
   "metadata": {},
   "source": [
    "#### Class 속성들\n",
    "- OOP(객체지향언어) 특징\n",
    "    * 상속\n",
    "    * 다형성\n",
    "    * 캡슐화 => 속성이 외부에 비공개, 직접 속성 접근 불가, 간접 속성 접근 허용\n",
    "         - 간접 속성 접근 방법 : getter/setter 메서드"
   ]
  },
  {
   "cell_type": "code",
   "execution_count": 27,
   "metadata": {},
   "outputs": [],
   "source": [
    "class Person:\n",
    "    # class 변수 : Person Class로 생성된 인스턴스들의 공유 변수\n",
    "    # - 인스턴스 생성 없이 상용 가능한 변수\n",
    "    loc = \"korea\"\n",
    "\n",
    "    # 인스턴스 생성 메서드, 즉 생성자 매서드(Constructor)\n",
    "    def __init__(self, name, age, gender) :\n",
    "        self.name = name\n",
    "        self.age = age\n",
    "        self.__gender = gender                      # 비공개 속성 즉, 인스턴스 변수명으로 직접 번근 불가능 => 간접접근으로 접근을 해야함\n",
    "\n",
    "    # 비공개 인스턴스 간접 접근 메서드 => get속성명(), set속성명(새로운 값) : getter/setter 메서드\n",
    "    def getGender(self) :\n",
    "        return self.__gender\n",
    "    \n",
    "    # 값 변경 (간접접근)\n",
    "    def setGender(self, gender) :\n",
    "        self.__gender = gender "
   ]
  },
  {
   "cell_type": "code",
   "execution_count": 28,
   "metadata": {},
   "outputs": [
    {
     "data": {
      "text/plain": [
       "'korea'"
      ]
     },
     "execution_count": 28,
     "metadata": {},
     "output_type": "execute_result"
    }
   ],
   "source": [
    "Person.loc      # class 변수라서 바로 출력 가능\n",
    "                # 생성자 메서드는 인스턴스가 있어야 생성되기 때문에 이렇게는 불가능"
   ]
  },
  {
   "cell_type": "code",
   "execution_count": 29,
   "metadata": {},
   "outputs": [
    {
     "data": {
      "text/plain": [
       "('마징가', 'korea', 'korea', 'korea')"
      ]
     },
     "execution_count": 29,
     "metadata": {},
     "output_type": "execute_result"
    }
   ],
   "source": [
    "p1 = Person(\"마징가\", 10, \"남자\")\n",
    "p2 = Person(\"홍길동\", 20, \"여자\")\n",
    "\n",
    "# 인스턴스 변수와 클래스 변수\n",
    "p1.name, p1.loc, p2.loc, Person.loc "
   ]
  },
  {
   "cell_type": "code",
   "execution_count": 30,
   "metadata": {},
   "outputs": [
    {
     "data": {
      "text/plain": [
       "<__main__.Person at 0x24dc1906ac0>"
      ]
     },
     "execution_count": 30,
     "metadata": {},
     "output_type": "execute_result"
    }
   ],
   "source": [
    "p2"
   ]
  },
  {
   "cell_type": "code",
   "execution_count": 31,
   "metadata": {},
   "outputs": [
    {
     "name": "stdout",
     "output_type": "stream",
     "text": [
      "남자\n"
     ]
    }
   ],
   "source": [
    "# 인스턴스 변수 속성 변경\n",
    "p1.name = \"원더우먼\"\n",
    "\n",
    "# print(p1.__gender)            # 없다고 뜸, class에서 정의할때  self뒤에 __를 해줘서\n",
    "print(p1.getGender())           # 간접접근 "
   ]
  },
  {
   "cell_type": "code",
   "execution_count": 32,
   "metadata": {},
   "outputs": [],
   "source": [
    "# 성별값 변경 => 간접접근법\n",
    "p1.setGender(\"여자\")"
   ]
  },
  {
   "cell_type": "code",
   "execution_count": 33,
   "metadata": {},
   "outputs": [
    {
     "name": "stdout",
     "output_type": "stream",
     "text": [
      "여자\n"
     ]
    }
   ],
   "source": [
    "print(p1.getGender())"
   ]
  }
 ],
 "metadata": {
  "kernelspec": {
   "display_name": "TORCH_CV_38",
   "language": "python",
   "name": "python3"
  },
  "language_info": {
   "codemirror_mode": {
    "name": "ipython",
    "version": 3
   },
   "file_extension": ".py",
   "mimetype": "text/x-python",
   "name": "python",
   "nbconvert_exporter": "python",
   "pygments_lexer": "ipython3",
   "version": "3.8.19"
  }
 },
 "nbformat": 4,
 "nbformat_minor": 2
}
