{
 "cells": [
  {
   "cell_type": "markdown",
   "metadata": {},
   "source": [
    "#### Video 처리\n",
    "- cv2.VideoCapture (동영상 또는 카메라 번호) 함수 사용"
   ]
  },
  {
   "cell_type": "code",
   "execution_count": 1,
   "metadata": {},
   "outputs": [],
   "source": [
    "### 모듈로딩\n",
    "import cv2\n",
    "import numpy as np"
   ]
  },
  {
   "cell_type": "code",
   "execution_count": 2,
   "metadata": {},
   "outputs": [],
   "source": [
    "# Data 및 Device 설정\n",
    "DIR_PATH = \"../image/\"\n",
    "\n",
    "CAM_DEVICE = 0"
   ]
  },
  {
   "cell_type": "markdown",
   "metadata": {},
   "source": [
    "- [Camera 관련 영상 처리]"
   ]
  },
  {
   "cell_type": "code",
   "execution_count": 3,
   "metadata": {},
   "outputs": [
    {
     "name": "stdout",
     "output_type": "stream",
     "text": [
      "True\n"
     ]
    }
   ],
   "source": [
    "# 카메라와 연결 여부 체크\n",
    "camera = cv2.VideoCapture(CAM_DEVICE)            # 결과 : 비디오 카메라 객체를 반환 => 변수명 지정\n",
    "\n",
    "print(camera.isOpened())"
   ]
  },
  {
   "cell_type": "code",
   "execution_count": 15,
   "metadata": {},
   "outputs": [
    {
     "name": "stdout",
     "output_type": "stream",
     "text": [
      "time.struct_time(tm_year=2024, tm_mon=9, tm_mday=25, tm_hour=1, tm_min=24, tm_sec=56, tm_wday=2, tm_yday=269, tm_isdst=0)\n",
      "time.struct_time(tm_year=2024, tm_mon=9, tm_mday=25, tm_hour=10, tm_min=24, tm_sec=56, tm_wday=2, tm_yday=269, tm_isdst=0)\n",
      "2024\n",
      "2024 10\n",
      "Wed Sep 25 10:24:56 2024 1727227496.6512854 24_09/25/24_56\n",
      "2024 9 25 10 56\n",
      "24_0925_10_24_56\n"
     ]
    },
    {
     "data": {
      "text/plain": [
       "'24.09.25.10.24.56.jpg'"
      ]
     },
     "execution_count": 15,
     "metadata": {},
     "output_type": "execute_result"
    }
   ],
   "source": [
    "import time\n",
    "\n",
    "# 현재의 시간을 가져옴\n",
    "time.ctime()\n",
    "\n",
    "# 초로 시간을 반환\n",
    "time.time() # 1990sus 1월 1일부터 지나간 시간초 ?\n",
    "time.ctime().replace(\":\", \"-\")      # 저장할때 파일명에 : 사용이 안됨 => 너무 김\n",
    "time.gmtime()                       # 년, 월, 일, 시간, 분, 초에 대해서 각각 따로따로 반환\n",
    "time.localtime()\n",
    "\n",
    "print(time.gmtime()) \n",
    "print(time.localtime())\n",
    "\n",
    "# 시간을 포멧으로 바꿔줌\n",
    "time.strftime(\"%M_%D_%S\")\n",
    "\n",
    "cur_time = time.localtime()\n",
    "print(cur_time.tm_year)                     # 년도만 출력\n",
    "print(cur_time.tm_year, cur_time.tm_hour)   # 년도 및 시간 출력\n",
    "\n",
    "print(time.ctime(), time.time(), time.strftime(\"%M_%D_%S\"))\n",
    "print(cur_time.tm_year, cur_time.tm_mon, cur_time.tm_mday, cur_time.tm_hour, cur_time.tm_sec)       # 년도 몇월며칠 몇시 몇분까지 => 너무 김\n",
    "time.strftime(\"%M_%D_%S\")                                                                           # 쓰는 것이 적격\n",
    "print(time.strftime(\"%y_%m%d_%H_%M_%S\", cur_time))      # 년_월_일_시간_분_초\n",
    "\n",
    "SAVE_FILE = f\"{time.strftime('%y.%m.%d %H.%M.%S', cur_time)}.jpg\"\n",
    "SAVE_FILE"
   ]
  },
  {
   "cell_type": "code",
   "execution_count": 5,
   "metadata": {},
   "outputs": [
    {
     "name": "stdout",
     "output_type": "stream",
     "text": [
      "영상 정지\n"
     ]
    }
   ],
   "source": [
    "# 카메라 연결 여부 조건절\n",
    "if camera.isOpened() :\n",
    "    while True :                      # camera.isOpened() True면 => 즉 이미지 데이터가 있다면 \n",
    "        ret, img = camera.read()      # ret : 읽었나 안읽었나의 값, img : 이미지 값\n",
    "        if ret :\n",
    "            cv2.imshow(\"VIDEO\", img)  \n",
    "            if cv2.waitKey(10) != -1 :        # 1초동안 아무 입력값이 존재하면 break\n",
    "                print( \"영상 정지\")\n",
    "\n",
    "                SAVE_FILE = DIR_PATH +  f\"capture {time.strftime('%y.%m.%d %H.%M.%S', cur_time)}.jpg\"\n",
    "                cv2.imwrite(SAVE_FILE, img)\n",
    "                cv2.destroyAllWindows()       # 창 닫기\n",
    "\n",
    "                break\n",
    "        else :\n",
    "            print(\"영상 읽기 실패\")\n",
    "            break\n",
    "\n",
    "else :\n",
    "    print(\"카메라 연결 여부 체크 바랍니다.\")"
   ]
  }
 ],
 "metadata": {
  "kernelspec": {
   "display_name": "TORCH_CV_38",
   "language": "python",
   "name": "python3"
  },
  "language_info": {
   "codemirror_mode": {
    "name": "ipython",
    "version": 3
   },
   "file_extension": ".py",
   "mimetype": "text/x-python",
   "name": "python",
   "nbconvert_exporter": "python",
   "pygments_lexer": "ipython3",
   "version": "3.8.19"
  }
 },
 "nbformat": 4,
 "nbformat_minor": 2
}
