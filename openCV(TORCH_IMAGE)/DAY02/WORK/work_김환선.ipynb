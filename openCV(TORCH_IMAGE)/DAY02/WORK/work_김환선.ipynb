{
 "cells": [
  {
   "cell_type": "markdown",
   "metadata": {},
   "source": [
    "#### 0925 과제\n",
    "- MNIST CNN 모델 만들기\n",
    "- 책에 있는거 "
   ]
  },
  {
   "cell_type": "markdown",
   "metadata": {},
   "source": [
    "- DNN, CNN 비교"
   ]
  },
  {
   "cell_type": "code",
   "execution_count": 6,
   "metadata": {},
   "outputs": [],
   "source": [
    "# 라이브러리 호출\n",
    "import numpy as np\n",
    "import matplotlib.pyplot as plt\n",
    "import torch\n",
    "import torch.nn as nn\n",
    "from torch.autograd import Variable\n",
    "import torch.nn.functional as F\n",
    "\n",
    "import torchvision\n",
    "import torchvision.transforms as transforms # Data 전처리를 위해 사용하는 라이브러리\n",
    "from torch.utils.data import Dataset, DataLoader\n"
   ]
  },
  {
   "cell_type": "code",
   "execution_count": 7,
   "metadata": {},
   "outputs": [
    {
     "name": "stdout",
     "output_type": "stream",
     "text": [
      "Using device: cpu\n"
     ]
    }
   ],
   "source": [
    "# 장치 사용\n",
    "DEVICE = \"cuda\" if torch.cuda.is_available() else \"cpu\"\n",
    "\n",
    "print(f\"Using device: {DEVICE}\")"
   ]
  },
  {
   "cell_type": "code",
   "execution_count": 14,
   "metadata": {},
   "outputs": [
    {
     "name": "stdout",
     "output_type": "stream",
     "text": [
      "Downloading http://fashion-mnist.s3-website.eu-central-1.amazonaws.com/train-images-idx3-ubyte.gz\n",
      "Downloading http://fashion-mnist.s3-website.eu-central-1.amazonaws.com/train-images-idx3-ubyte.gz to ../data/MNIST/FashionMNIST\\raw\\train-images-idx3-ubyte.gz\n"
     ]
    },
    {
     "name": "stderr",
     "output_type": "stream",
     "text": [
      "100.0%\n"
     ]
    },
    {
     "name": "stdout",
     "output_type": "stream",
     "text": [
      "Extracting ../data/MNIST/FashionMNIST\\raw\\train-images-idx3-ubyte.gz to ../data/MNIST/FashionMNIST\\raw\n",
      "\n",
      "Downloading http://fashion-mnist.s3-website.eu-central-1.amazonaws.com/train-labels-idx1-ubyte.gz\n",
      "Downloading http://fashion-mnist.s3-website.eu-central-1.amazonaws.com/train-labels-idx1-ubyte.gz to ../data/MNIST/FashionMNIST\\raw\\train-labels-idx1-ubyte.gz\n"
     ]
    },
    {
     "name": "stderr",
     "output_type": "stream",
     "text": [
      "100.0%\n"
     ]
    },
    {
     "name": "stdout",
     "output_type": "stream",
     "text": [
      "Extracting ../data/MNIST/FashionMNIST\\raw\\train-labels-idx1-ubyte.gz to ../data/MNIST/FashionMNIST\\raw\n",
      "\n",
      "Downloading http://fashion-mnist.s3-website.eu-central-1.amazonaws.com/t10k-images-idx3-ubyte.gz\n",
      "Downloading http://fashion-mnist.s3-website.eu-central-1.amazonaws.com/t10k-images-idx3-ubyte.gz to ../data/MNIST/FashionMNIST\\raw\\t10k-images-idx3-ubyte.gz\n"
     ]
    },
    {
     "name": "stderr",
     "output_type": "stream",
     "text": [
      "100.0%\n"
     ]
    },
    {
     "name": "stdout",
     "output_type": "stream",
     "text": [
      "Extracting ../data/MNIST/FashionMNIST\\raw\\t10k-images-idx3-ubyte.gz to ../data/MNIST/FashionMNIST\\raw\n",
      "\n",
      "Downloading http://fashion-mnist.s3-website.eu-central-1.amazonaws.com/t10k-labels-idx1-ubyte.gz\n",
      "Downloading http://fashion-mnist.s3-website.eu-central-1.amazonaws.com/t10k-labels-idx1-ubyte.gz to ../data/MNIST/FashionMNIST\\raw\\t10k-labels-idx1-ubyte.gz\n"
     ]
    },
    {
     "name": "stderr",
     "output_type": "stream",
     "text": [
      "100.0%\n"
     ]
    },
    {
     "name": "stdout",
     "output_type": "stream",
     "text": [
      "Extracting ../data/MNIST/FashionMNIST\\raw\\t10k-labels-idx1-ubyte.gz to ../data/MNIST/FashionMNIST\\raw\n",
      "\n",
      "Downloading http://fashion-mnist.s3-website.eu-central-1.amazonaws.com/train-images-idx3-ubyte.gz\n",
      "Downloading http://fashion-mnist.s3-website.eu-central-1.amazonaws.com/train-images-idx3-ubyte.gz to ../chap05/MNIST/FashionMNIST\\raw\\train-images-idx3-ubyte.gz\n"
     ]
    },
    {
     "name": "stderr",
     "output_type": "stream",
     "text": [
      "100.0%\n"
     ]
    },
    {
     "name": "stdout",
     "output_type": "stream",
     "text": [
      "Extracting ../chap05/MNIST/FashionMNIST\\raw\\train-images-idx3-ubyte.gz to ../chap05/MNIST/FashionMNIST\\raw\n",
      "\n",
      "Downloading http://fashion-mnist.s3-website.eu-central-1.amazonaws.com/train-labels-idx1-ubyte.gz\n",
      "Downloading http://fashion-mnist.s3-website.eu-central-1.amazonaws.com/train-labels-idx1-ubyte.gz to ../chap05/MNIST/FashionMNIST\\raw\\train-labels-idx1-ubyte.gz\n"
     ]
    },
    {
     "name": "stderr",
     "output_type": "stream",
     "text": [
      "100.0%\n"
     ]
    },
    {
     "name": "stdout",
     "output_type": "stream",
     "text": [
      "Extracting ../chap05/MNIST/FashionMNIST\\raw\\train-labels-idx1-ubyte.gz to ../chap05/MNIST/FashionMNIST\\raw\n",
      "\n",
      "Downloading http://fashion-mnist.s3-website.eu-central-1.amazonaws.com/t10k-images-idx3-ubyte.gz\n",
      "Downloading http://fashion-mnist.s3-website.eu-central-1.amazonaws.com/t10k-images-idx3-ubyte.gz to ../chap05/MNIST/FashionMNIST\\raw\\t10k-images-idx3-ubyte.gz\n"
     ]
    },
    {
     "name": "stderr",
     "output_type": "stream",
     "text": [
      "100.0%\n"
     ]
    },
    {
     "name": "stdout",
     "output_type": "stream",
     "text": [
      "Extracting ../chap05/MNIST/FashionMNIST\\raw\\t10k-images-idx3-ubyte.gz to ../chap05/MNIST/FashionMNIST\\raw\n",
      "\n",
      "Downloading http://fashion-mnist.s3-website.eu-central-1.amazonaws.com/t10k-labels-idx1-ubyte.gz\n",
      "Downloading http://fashion-mnist.s3-website.eu-central-1.amazonaws.com/t10k-labels-idx1-ubyte.gz to ../chap05/MNIST/FashionMNIST\\raw\\t10k-labels-idx1-ubyte.gz\n"
     ]
    },
    {
     "name": "stderr",
     "output_type": "stream",
     "text": [
      "100.0%"
     ]
    },
    {
     "name": "stdout",
     "output_type": "stream",
     "text": [
      "Extracting ../chap05/MNIST/FashionMNIST\\raw\\t10k-labels-idx1-ubyte.gz to ../chap05/MNIST/FashionMNIST\\raw\n",
      "\n"
     ]
    },
    {
     "name": "stderr",
     "output_type": "stream",
     "text": [
      "\n"
     ]
    }
   ],
   "source": [
    "# DataSet 내려받기\n",
    "train_dataset = torchvision.datasets.FashionMNIST(\"../data/MNIST/\", download=True, transform=transforms.Compose([transforms.ToTensor()]))\n",
    "test_dataset = torchvision.datasets.FashionMNIST(\"../chap05/MNIST/\", download=True, train = False, transform=transforms.Compose([transforms.ToTensor()]))"
   ]
  },
  {
   "cell_type": "code",
   "execution_count": 15,
   "metadata": {},
   "outputs": [],
   "source": [
    "# Fashion Data를 DataLoader에 전달\n",
    "train_loader = torch.utils.data.DataLoader(train_dataset, batch_size = 100)\n",
    "test_loader = torch.utils.data.DataLoader(test_dataset, batch_size = 100)"
   ]
  },
  {
   "cell_type": "code",
   "execution_count": 16,
   "metadata": {},
   "outputs": [
    {
     "data": {
      "image/png": "[encoded data removed]",
      "text/plain": [
       "<Figure size 800x800 with 20 Axes>"
      ]
     },
     "metadata": {},
     "output_type": "display_data"
    }
   ],
   "source": [
    "# 분류에 사용될 클래스 정의\n",
    "labels_map = {0: \"T-Shirt\", 1:\"Trouser\", 2:\"Pullover\", 3:\"Dress\", 4:\"Coat\", 5:\"Sandal\", 6:\"Shirt\", 7:\"Sneaker\", 8:\"Bag\", 9:\"Ankle Boot\"}\n",
    "\n",
    "fig = plt.figure(figsize = (8,8))\n",
    "columns = 4\n",
    "rows = 5\n",
    "for i in range(1, columns*rows + 1) :\n",
    "    img_xy = np.random.randint(len(train_dataset))\n",
    "    img = train_dataset[img_xy][0][0,:,:]\n",
    "    fig.add_subplot(rows, columns, i)\n",
    "    plt.title(labels_map[train_dataset[img_xy][1]])\n",
    "    plt.axis(\"off\")\n",
    "    plt.imshow(img, cmap=\"gray\")\n",
    "plt.show()"
   ]
  },
  {
   "cell_type": "markdown",
   "metadata": {},
   "source": [
    "[DNN 모델 생성]"
   ]
  },
  {
   "cell_type": "code",
   "execution_count": 21,
   "metadata": {},
   "outputs": [],
   "source": [
    "class FashionDNN(nn.Module) :\n",
    "    def __init__(self) :\n",
    "        super(FashionDNN, self).__init__()\n",
    "        self.fc1 = nn.Linear(in_features=784, out_features=256)\n",
    "        self.drop = nn.Dropout(0.25)\n",
    "        self.fc2 = nn.Linear(in_features=256, out_features=128)\n",
    "        self.fc3 = nn.Linear(in_features=128, out_features=10)\n",
    "\n",
    "    def forward(self, input_data) :\n",
    "        out = input_data.view(-1, 784)\n",
    "        out = F.relu(self.fc1(out))\n",
    "        out = self.drop(out)\n",
    "        out = F.relu(self.fc2(out))\n",
    "        out = self.fc3(out)\n",
    "        return out"
   ]
  },
  {
   "cell_type": "code",
   "execution_count": 22,
   "metadata": {},
   "outputs": [
    {
     "name": "stdout",
     "output_type": "stream",
     "text": [
      "FashionDNN(\n",
      "  (fc1): Linear(in_features=784, out_features=256, bias=True)\n",
      "  (drop): Dropout(p=0.25, inplace=False)\n",
      "  (fc2): Linear(in_features=256, out_features=128, bias=True)\n",
      "  (fc3): Linear(in_features=128, out_features=10, bias=True)\n",
      ")\n"
     ]
    }
   ],
   "source": [
    "LR = 0.001 \n",
    "model = FashionDNN()\n",
    "model.to(DEVICE)\n",
    "\n",
    "criterion = nn.CrossEntropyLoss()       # 분류에서 사용하는 손실함수\n",
    "optimizer = torch.optim.Adam(model.parameters(), lr = LR)\n",
    "print(model)"
   ]
  },
  {
   "cell_type": "code",
   "execution_count": 23,
   "metadata": {},
   "outputs": [
    {
     "name": "stdout",
     "output_type": "stream",
     "text": [
      "Iteration : 50, Loss : 0.7398998141288757, Accuracy : 68.55999755859375%\n",
      "Iteration : 100, Loss : 0.7164323329925537, Accuracy : 76.19000244140625%\n",
      "Iteration : 150, Loss : 0.60495924949646, Accuracy : 78.1500015258789%\n",
      "Iteration : 200, Loss : 0.5995439291000366, Accuracy : 80.3499984741211%\n",
      "Iteration : 250, Loss : 0.5359340906143188, Accuracy : 81.20999908447266%\n",
      "Iteration : 300, Loss : 0.6844025254249573, Accuracy : 80.36000061035156%\n",
      "Iteration : 350, Loss : 0.43487033247947693, Accuracy : 80.19000244140625%\n",
      "Iteration : 400, Loss : 0.4239047169685364, Accuracy : 81.54000091552734%\n",
      "Iteration : 450, Loss : 0.3675592839717865, Accuracy : 82.4800033569336%\n",
      "Iteration : 500, Loss : 0.5078640580177307, Accuracy : 82.9800033569336%\n",
      "Iteration : 550, Loss : 0.479965478181839, Accuracy : 83.37999725341797%\n",
      "Iteration : 600, Loss : 0.40752890706062317, Accuracy : 83.5199966430664%\n",
      "Iteration : 650, Loss : 0.38559699058532715, Accuracy : 83.7300033569336%\n",
      "Iteration : 700, Loss : 0.48306673765182495, Accuracy : 84.51000213623047%\n",
      "Iteration : 750, Loss : 0.4841569662094116, Accuracy : 84.38999938964844%\n",
      "Iteration : 800, Loss : 0.4453330636024475, Accuracy : 84.58999633789062%\n",
      "Iteration : 850, Loss : 0.4402788579463959, Accuracy : 84.69000244140625%\n",
      "Iteration : 900, Loss : 0.48478272557258606, Accuracy : 84.9800033569336%\n",
      "Iteration : 950, Loss : 0.3805813193321228, Accuracy : 84.27999877929688%\n",
      "Iteration : 1000, Loss : 0.34201350808143616, Accuracy : 84.29000091552734%\n",
      "Iteration : 1050, Loss : 0.2931683659553528, Accuracy : 85.3499984741211%\n",
      "Iteration : 1100, Loss : 0.40079960227012634, Accuracy : 84.91000366210938%\n",
      "Iteration : 1150, Loss : 0.35194069147109985, Accuracy : 84.83000183105469%\n",
      "Iteration : 1200, Loss : 0.40196487307548523, Accuracy : 85.29000091552734%\n",
      "Iteration : 1250, Loss : 0.3193667232990265, Accuracy : 85.01000213623047%\n",
      "Iteration : 1300, Loss : 0.46145960688591003, Accuracy : 85.88999938964844%\n",
      "Iteration : 1350, Loss : 0.4329393804073334, Accuracy : 85.19000244140625%\n",
      "Iteration : 1400, Loss : 0.41781899333000183, Accuracy : 85.38999938964844%\n",
      "Iteration : 1450, Loss : 0.42778629064559937, Accuracy : 84.81999969482422%\n",
      "Iteration : 1500, Loss : 0.4520007073879242, Accuracy : 85.55000305175781%\n",
      "Iteration : 1550, Loss : 0.32789504528045654, Accuracy : 85.54000091552734%\n",
      "Iteration : 1600, Loss : 0.33689990639686584, Accuracy : 84.87999725341797%\n",
      "Iteration : 1650, Loss : 0.25627049803733826, Accuracy : 85.98999786376953%\n",
      "Iteration : 1700, Loss : 0.4161635637283325, Accuracy : 85.86000061035156%\n",
      "Iteration : 1750, Loss : 0.3608059287071228, Accuracy : 86.0199966430664%\n",
      "Iteration : 1800, Loss : 0.40916547179222107, Accuracy : 85.73999786376953%\n",
      "Iteration : 1850, Loss : 0.33967581391334534, Accuracy : 85.69999694824219%\n",
      "Iteration : 1900, Loss : 0.40329283475875854, Accuracy : 86.43000030517578%\n",
      "Iteration : 1950, Loss : 0.43795186281204224, Accuracy : 85.62000274658203%\n",
      "Iteration : 2000, Loss : 0.3997151553630829, Accuracy : 85.9000015258789%\n",
      "Iteration : 2050, Loss : 0.3867851495742798, Accuracy : 85.5199966430664%\n",
      "Iteration : 2100, Loss : 0.434431254863739, Accuracy : 85.58999633789062%\n",
      "Iteration : 2150, Loss : 0.27345457673072815, Accuracy : 86.13999938964844%\n",
      "Iteration : 2200, Loss : 0.26429903507232666, Accuracy : 85.58999633789062%\n",
      "Iteration : 2250, Loss : 0.20194682478904724, Accuracy : 86.01000213623047%\n",
      "Iteration : 2300, Loss : 0.4143867492675781, Accuracy : 86.33000183105469%\n",
      "Iteration : 2350, Loss : 0.34627044200897217, Accuracy : 86.27999877929688%\n",
      "Iteration : 2400, Loss : 0.41177263855934143, Accuracy : 86.23999786376953%\n",
      "Iteration : 2450, Loss : 0.3350749611854553, Accuracy : 85.62000274658203%\n",
      "Iteration : 2500, Loss : 0.400887131690979, Accuracy : 86.80000305175781%\n",
      "Iteration : 2550, Loss : 0.3645220696926117, Accuracy : 86.19999694824219%\n",
      "Iteration : 2600, Loss : 0.3750557005405426, Accuracy : 86.37000274658203%\n",
      "Iteration : 2650, Loss : 0.39673206210136414, Accuracy : 86.66999816894531%\n",
      "Iteration : 2700, Loss : 0.39310213923454285, Accuracy : 86.01000213623047%\n",
      "Iteration : 2750, Loss : 0.2971086800098419, Accuracy : 85.31999969482422%\n",
      "Iteration : 2800, Loss : 0.2740934491157532, Accuracy : 86.18000030517578%\n",
      "Iteration : 2850, Loss : 0.2384749948978424, Accuracy : 86.62000274658203%\n",
      "Iteration : 2900, Loss : 0.3725866377353668, Accuracy : 86.8499984741211%\n",
      "Iteration : 2950, Loss : 0.2788587212562561, Accuracy : 86.58999633789062%\n",
      "Iteration : 3000, Loss : 0.42719894647598267, Accuracy : 86.69999694824219%\n"
     ]
    }
   ],
   "source": [
    "# 모델학습\n",
    "EPOCH = 5\n",
    "CNT = 5\n",
    "\n",
    "loss_list = []\n",
    "ilteration_list = []\n",
    "accuracy_list = []\n",
    "\n",
    "predictions_list = []\n",
    "labels_list = []\n",
    "\n",
    "for epoch in range(EPOCH) :\n",
    "    for images, labels in train_loader :\n",
    "        images, labels = images.to(DEVICE), labels.to(DEVICE)\n",
    "\n",
    "        train = Variable(images.view(100, 1, 28, 28))       # 자동미분 함수\n",
    "        labels = Variable(labels)\n",
    "\n",
    "        # 학습데이터를 모델에 적용\n",
    "        outputs = model(train)  \n",
    "        loss = criterion(outputs, labels)\n",
    "        optimizer.zero_grad()\n",
    "        loss.backward()\n",
    "        optimizer.step()\n",
    "        CNT += 1\n",
    "\n",
    "        if not( CNT% 50) : \n",
    "            total = 0\n",
    "            correct = 0\n",
    "            for images, labels in test_loader :\n",
    "                images, labels = images.to(DEVICE), labels.to(DEVICE)\n",
    "                labels_list.append(labels)\n",
    "\n",
    "                test = Variable(images.view(100, 1, 28, 28))\n",
    "                outputs = model(test)\n",
    "                predictions = torch.max(outputs, 1)[1].to(DEVICE)\n",
    "                predictions_list.append(predictions)\n",
    "                correct += (predictions == labels).sum()\n",
    "                total += len(labels)\n",
    "\n",
    "            accuracy = correct * 100 / total\n",
    "            loss_list.append(loss.data)\n",
    "            ilteration_list.append(CNT)\n",
    "            accuracy_list.append(accuracy)\n",
    "\n",
    "            if not (CNT% 50) :\n",
    "                print(\"Iteration : {}, Loss : {}, Accuracy : {}%\".format(CNT, loss.data, accuracy))"
   ]
  },
  {
   "cell_type": "markdown",
   "metadata": {},
   "source": [
    "[합성곱 (CNN) 네트워크 생성]"
   ]
  },
  {
   "cell_type": "code",
   "execution_count": 32,
   "metadata": {},
   "outputs": [],
   "source": [
    "class FashionCNN(nn.Module) :\n",
    "    def __init__(self) :\n",
    "        super(FashionCNN, self).__init__()\n",
    "        self.layer1 = nn.Sequential(\n",
    "            nn.Conv2d(in_channels = 1, out_channels=32, kernel_size = 3, padding=1),\n",
    "            nn.BatchNorm2d(32),\n",
    "            nn.ReLU(),\n",
    "            nn.MaxPool2d(kernel_size=2, stride=2)\n",
    "        )\n",
    "        # => input : (32, 28, 28)\n",
    "        # => out_put: (32, 14, 14)\n",
    "\n",
    "        self.layer2 = nn.Sequential(\n",
    "            nn.Conv2d(in_channels=32, out_channels=64, kernel_size=3),\n",
    "            nn.BatchNorm2d(64),\n",
    "            nn.ReLU(),\n",
    "            nn.MaxPool2d(2)\n",
    "        )\n",
    "        # => input : (32, 14, 14)           # valid 일 때 : 기존 값 - (k-1) = 값    ex) 14 - (3-1) = 12인데 valid라서 반틈 ==> 6이 나옴 \n",
    "        # => out_put : (64, 6, 6)           #                         k = kernel_size\n",
    "\n",
    "        self.fc1 = nn.Linear(in_features=64*6*6, out_features=600)\n",
    "        self.drop = nn.Dropout2d(0.25)\n",
    "        self.fc2 = nn.Linear(in_features=600, out_features=120)\n",
    "        self.fc3 = nn.Linear(in_features=120, out_features=10)      # 마지막층의 out_feature은 클래스 개수를 의미함\n",
    "\n",
    "    def forward(self, x) :\n",
    "        out = self.layer1(x)\n",
    "        out = self.layer2(out)\n",
    "        out = out.view(out.size(0), -1)\n",
    "        out = self.fc1(out)\n",
    "        out = self.drop(out)\n",
    "        out = self.fc2(out)\n",
    "        out = self.fc3(out)\n",
    "        return out"
   ]
  },
  {
   "cell_type": "code",
   "execution_count": 33,
   "metadata": {},
   "outputs": [
    {
     "name": "stdout",
     "output_type": "stream",
     "text": [
      "FashionCNN(\n",
      "  (layer1): Sequential(\n",
      "    (0): Conv2d(1, 32, kernel_size=(3, 3), stride=(1, 1), padding=(1, 1))\n",
      "    (1): BatchNorm2d(32, eps=1e-05, momentum=0.1, affine=True, track_running_stats=True)\n",
      "    (2): ReLU()\n",
      "    (3): MaxPool2d(kernel_size=2, stride=2, padding=0, dilation=1, ceil_mode=False)\n",
      "  )\n",
      "  (layer2): Sequential(\n",
      "    (0): Conv2d(32, 64, kernel_size=(3, 3), stride=(1, 1))\n",
      "    (1): BatchNorm2d(64, eps=1e-05, momentum=0.1, affine=True, track_running_stats=True)\n",
      "    (2): ReLU()\n",
      "    (3): MaxPool2d(kernel_size=2, stride=2, padding=0, dilation=1, ceil_mode=False)\n",
      "  )\n",
      "  (fc1): Linear(in_features=2304, out_features=600, bias=True)\n",
      "  (drop): Dropout2d(p=0.25, inplace=False)\n",
      "  (fc2): Linear(in_features=600, out_features=120, bias=True)\n",
      "  (fc3): Linear(in_features=120, out_features=10, bias=True)\n",
      ")\n"
     ]
    }
   ],
   "source": [
    "# 합성곱 네트워크를 위한 파라미터 정의\n",
    "LR = 0.001\n",
    "model = FashionCNN()\n",
    "model.to(DEVICE)\n",
    "\n",
    "criterion = nn.CrossEntropyLoss()\n",
    "optimizer = torch.optim.Adam(model.parameters(), lr = LR)\n",
    "print(model)"
   ]
  },
  {
   "cell_type": "code",
   "execution_count": 34,
   "metadata": {},
   "outputs": [
    {
     "name": "stderr",
     "output_type": "stream",
     "text": [
      "c:\\Users\\hwans\\anaconda3\\envs\\TORCH_CV_38\\lib\\site-packages\\torch\\nn\\functional.py:1374: UserWarning: dropout2d: Received a 2-D input to dropout2d, which is deprecated and will result in an error in a future release. To retain the behavior and silence this warning, please use dropout instead. Note that dropout2d exists to provide channel-wise dropout on inputs with 2 spatial dimensions, a channel dimension, and an optional batch dimension (i.e. 3D or 4D inputs).\n",
      "  warnings.warn(warn_msg)\n"
     ]
    },
    {
     "name": "stdout",
     "output_type": "stream",
     "text": [
      "Iteration : 50, Loss : 0.5006824731826782, Accuracy : 78.56999969482422%\n",
      "Iteration : 100, Loss : 0.5264279842376709, Accuracy : 84.5%\n",
      "Iteration : 150, Loss : 0.45450055599212646, Accuracy : 84.33000183105469%\n",
      "Iteration : 200, Loss : 0.47635143995285034, Accuracy : 86.26000213623047%\n",
      "Iteration : 250, Loss : 0.43438971042633057, Accuracy : 85.51000213623047%\n",
      "Iteration : 300, Loss : 0.5244506597518921, Accuracy : 86.19000244140625%\n",
      "Iteration : 350, Loss : 0.31326550245285034, Accuracy : 85.86000061035156%\n",
      "Iteration : 400, Loss : 0.40360915660858154, Accuracy : 86.48999786376953%\n",
      "Iteration : 450, Loss : 0.2301120162010193, Accuracy : 86.66000366210938%\n",
      "Iteration : 500, Loss : 0.3656785190105438, Accuracy : 88.19000244140625%\n",
      "Iteration : 550, Loss : 0.315186470746994, Accuracy : 87.80000305175781%\n",
      "Iteration : 600, Loss : 0.40759986639022827, Accuracy : 87.12999725341797%\n",
      "Iteration : 650, Loss : 0.2530542016029358, Accuracy : 88.54000091552734%\n",
      "Iteration : 700, Loss : 0.4357132613658905, Accuracy : 87.86000061035156%\n",
      "Iteration : 750, Loss : 0.3513962924480438, Accuracy : 89.68000030517578%\n",
      "Iteration : 800, Loss : 0.3437514901161194, Accuracy : 87.13999938964844%\n",
      "Iteration : 850, Loss : 0.31406286358833313, Accuracy : 87.55000305175781%\n",
      "Iteration : 900, Loss : 0.4469567537307739, Accuracy : 88.70999908447266%\n",
      "Iteration : 950, Loss : 0.21945957839488983, Accuracy : 88.1500015258789%\n",
      "Iteration : 1000, Loss : 0.22225508093833923, Accuracy : 86.94999694824219%\n",
      "Iteration : 1050, Loss : 0.22528795897960663, Accuracy : 89.12000274658203%\n",
      "Iteration : 1100, Loss : 0.37275466322898865, Accuracy : 89.45999908447266%\n",
      "Iteration : 1150, Loss : 0.26312094926834106, Accuracy : 88.37999725341797%\n",
      "Iteration : 1200, Loss : 0.3287768065929413, Accuracy : 85.26000213623047%\n",
      "Iteration : 1250, Loss : 0.24496956169605255, Accuracy : 89.62000274658203%\n",
      "Iteration : 1300, Loss : 0.3415609300136566, Accuracy : 90.36000061035156%\n",
      "Iteration : 1350, Loss : 0.31900614500045776, Accuracy : 89.5999984741211%\n",
      "Iteration : 1400, Loss : 0.2574690878391266, Accuracy : 88.62999725341797%\n",
      "Iteration : 1450, Loss : 0.2287367284297943, Accuracy : 89.56999969482422%\n",
      "Iteration : 1500, Loss : 0.3219943642616272, Accuracy : 89.95999908447266%\n",
      "Iteration : 1550, Loss : 0.18844552338123322, Accuracy : 89.19000244140625%\n",
      "Iteration : 1600, Loss : 0.2107495814561844, Accuracy : 87.8499984741211%\n",
      "Iteration : 1650, Loss : 0.21763789653778076, Accuracy : 89.05999755859375%\n",
      "Iteration : 1700, Loss : 0.31300267577171326, Accuracy : 90.12999725341797%\n",
      "Iteration : 1750, Loss : 0.22529982030391693, Accuracy : 89.25%\n",
      "Iteration : 1800, Loss : 0.30562731623649597, Accuracy : 86.18000030517578%\n",
      "Iteration : 1850, Loss : 0.22899962961673737, Accuracy : 90.13999938964844%\n",
      "Iteration : 1900, Loss : 0.3205418288707733, Accuracy : 90.4800033569336%\n",
      "Iteration : 1950, Loss : 0.3175238370895386, Accuracy : 89.20999908447266%\n",
      "Iteration : 2000, Loss : 0.2382858842611313, Accuracy : 90.08000183105469%\n",
      "Iteration : 2050, Loss : 0.3033100366592407, Accuracy : 89.88999938964844%\n",
      "Iteration : 2100, Loss : 0.2993942201137543, Accuracy : 90.16000366210938%\n",
      "Iteration : 2150, Loss : 0.18169540166854858, Accuracy : 89.31999969482422%\n",
      "Iteration : 2200, Loss : 0.23604394495487213, Accuracy : 89.48999786376953%\n",
      "Iteration : 2250, Loss : 0.19179807603359222, Accuracy : 89.69999694824219%\n",
      "Iteration : 2300, Loss : 0.2842656970024109, Accuracy : 90.05000305175781%\n",
      "Iteration : 2350, Loss : 0.18171805143356323, Accuracy : 89.36000061035156%\n",
      "Iteration : 2400, Loss : 0.31596460938453674, Accuracy : 86.12999725341797%\n",
      "Iteration : 2450, Loss : 0.2271440327167511, Accuracy : 90.62999725341797%\n",
      "Iteration : 2500, Loss : 0.3046037256717682, Accuracy : 90.73999786376953%\n",
      "Iteration : 2550, Loss : 0.3177933394908905, Accuracy : 89.30999755859375%\n",
      "Iteration : 2600, Loss : 0.21674713492393494, Accuracy : 89.86000061035156%\n",
      "Iteration : 2650, Loss : 0.2838269770145416, Accuracy : 86.95999908447266%\n",
      "Iteration : 2700, Loss : 0.26071614027023315, Accuracy : 90.47000122070312%\n",
      "Iteration : 2750, Loss : 0.17627763748168945, Accuracy : 88.98999786376953%\n",
      "Iteration : 2800, Loss : 0.17814233899116516, Accuracy : 90.47000122070312%\n",
      "Iteration : 2850, Loss : 0.17059829831123352, Accuracy : 90.3499984741211%\n",
      "Iteration : 2900, Loss : 0.2683778703212738, Accuracy : 90.2300033569336%\n",
      "Iteration : 2950, Loss : 0.1702684909105301, Accuracy : 90.23999786376953%\n",
      "Iteration : 3000, Loss : 0.26961836218833923, Accuracy : 86.70999908447266%\n"
     ]
    }
   ],
   "source": [
    "# Model 학습 및 성능 평가\n",
    "EPOCH = 5\n",
    "CNT = 5\n",
    "\n",
    "loss_list = []\n",
    "ilteration_list = []\n",
    "accuracy_list = []\n",
    "\n",
    "predictions_list = []\n",
    "labels_list = []\n",
    "\n",
    "for epoch in range(EPOCH) :\n",
    "    for images, labels in train_loader :\n",
    "        images, labels = images.to(DEVICE), labels.to(DEVICE)\n",
    "\n",
    "        train = Variable(images.view(100, 1, 28, 28))       # 자동미분 함수\n",
    "        labels = Variable(labels)\n",
    "\n",
    "        # 학습데이터를 모델에 적용\n",
    "        outputs = model(train)  \n",
    "        loss = criterion(outputs, labels)\n",
    "        optimizer.zero_grad()\n",
    "        loss.backward()\n",
    "        optimizer.step()\n",
    "        CNT += 1\n",
    "\n",
    "        if not( CNT% 50) : \n",
    "            total = 0\n",
    "            correct = 0\n",
    "            for images, labels in test_loader :\n",
    "                images, labels = images.to(DEVICE), labels.to(DEVICE)\n",
    "                labels_list.append(labels)\n",
    "\n",
    "                test = Variable(images.view(100, 1, 28, 28))\n",
    "                outputs = model(test)\n",
    "                predictions = torch.max(outputs, 1)[1].to(DEVICE)\n",
    "                predictions_list.append(predictions)\n",
    "                correct += (predictions == labels).sum()\n",
    "                total += len(labels)\n",
    "\n",
    "            accuracy = correct * 100 / total\n",
    "            loss_list.append(loss.data)\n",
    "            ilteration_list.append(CNT)\n",
    "            accuracy_list.append(accuracy)\n",
    "\n",
    "            if not (CNT% 50) :\n",
    "                print(\"Iteration : {}, Loss : {}, Accuracy : {}%\".format(CNT, loss.data, accuracy))"
   ]
  }
 ],
 "metadata": {
  "kernelspec": {
   "display_name": "TORCH_CV_38",
   "language": "python",
   "name": "python3"
  },
  "language_info": {
   "codemirror_mode": {
    "name": "ipython",
    "version": 3
   },
   "file_extension": ".py",
   "mimetype": "text/x-python",
   "name": "python",
   "nbconvert_exporter": "python",
   "pygments_lexer": "ipython3",
   "version": "3.8.19"
  }
 },
 "nbformat": 4,
 "nbformat_minor": 2
}
