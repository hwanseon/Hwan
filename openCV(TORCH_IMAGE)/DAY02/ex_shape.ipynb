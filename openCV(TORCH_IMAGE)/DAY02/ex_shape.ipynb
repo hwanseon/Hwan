{
 "cells": [
  {
   "cell_type": "markdown",
   "metadata": {},
   "source": [
    "#### ndarray & tensor의 차원 축소 & 추가\n",
    "- Model에 Data 입출력시 shape 설정을 위해서 필요함"
   ]
  },
  {
   "cell_type": "code",
   "execution_count": 1,
   "metadata": {},
   "outputs": [],
   "source": [
    "# Module Loading\n",
    "import cv2\n",
    "import numpy as np\n",
    "import torch"
   ]
  },
  {
   "cell_type": "code",
   "execution_count": 2,
   "metadata": {},
   "outputs": [
    {
     "data": {
      "text/plain": [
       "((200, 100), 2)"
      ]
     },
     "execution_count": 2,
     "metadata": {},
     "output_type": "execute_result"
    }
   ],
   "source": [
    "# 임의의 Data 생성\n",
    "data = np.full((200, 100), 7)           # 2차원 data\n",
    "data.shape, data.ndim"
   ]
  },
  {
   "cell_type": "markdown",
   "metadata": {},
   "source": [
    "- [차원 추가] <hr>\n",
    "    * Numpy 경우 : ndarray.reshape()\n",
    "    *              np.expand_dims()\n",
    "    *              np.newzixs\n",
    "    <hr>\n",
    "    * Pythorch의 경우 : reshape()\n",
    "      \n",
    "    *                   unsqueeze()"
   ]
  },
  {
   "cell_type": "markdown",
   "metadata": {},
   "source": [
    "### numpy 기반 차원 추가 "
   ]
  },
  {
   "cell_type": "code",
   "execution_count": 4,
   "metadata": {},
   "outputs": [
    {
     "data": {
      "text/plain": [
       "((200, 100, 1), 3)"
      ]
     },
     "execution_count": 4,
     "metadata": {},
     "output_type": "execute_result"
    }
   ],
   "source": [
    "# 방법 1 => reshape\n",
    "# => 채널 차원을 추가하고 싶을 때\n",
    "data1 = data.reshape((200, 100, 1))\n",
    "data1.shape, data1.ndim                # 3차원 Data"
   ]
  },
  {
   "cell_type": "code",
   "execution_count": 6,
   "metadata": {},
   "outputs": [
    {
     "data": {
      "text/plain": [
       "((200, 100, 1), 3)"
      ]
     },
     "execution_count": 6,
     "metadata": {},
     "output_type": "execute_result"
    }
   ],
   "source": [
    "# 방법 2 => np.expand_dims()\n",
    "# => 채널 차원을 추가하고 싶을 때\n",
    "data2 = np.expand_dims(data, axis=2)             # np.expand_dims(data, 축 번호)  ex) (200, 100) => 0번 자리 200, 1번 자리 => 100\n",
    "data2.shape, data2.ndim                          # 3차원 Data"
   ]
  },
  {
   "cell_type": "code",
   "execution_count": 8,
   "metadata": {},
   "outputs": [
    {
     "name": "stdout",
     "output_type": "stream",
     "text": [
      " data.shape, data.ndim => ((200, 100), 2)\n"
     ]
    },
    {
     "data": {
      "text/plain": [
       "(200, 100, 1)"
      ]
     },
     "execution_count": 8,
     "metadata": {},
     "output_type": "execute_result"
    }
   ],
   "source": [
    "# 방법 3 => np.newaxis (함수 아님)\n",
    "# => 채널 차원을 추가하고 싶을 때\n",
    "data3 = data[:,:,np.newaxis].shape  # 3차원 Data\n",
    "\n",
    "print(f\" data.shape, data.ndim => {data.shape, data.ndim}\")\n",
    "data3"
   ]
  },
  {
   "cell_type": "markdown",
   "metadata": {},
   "source": [
    "### Pythorch 기반 차원 추가 "
   ]
  },
  {
   "cell_type": "code",
   "execution_count": 9,
   "metadata": {},
   "outputs": [
    {
     "name": "stdout",
     "output_type": "stream",
     "text": [
      "<class 'numpy.ndarray'> (200, 100) 2\n"
     ]
    }
   ],
   "source": [
    "print(type(data), data.shape, data.ndim)"
   ]
  },
  {
   "cell_type": "code",
   "execution_count": 10,
   "metadata": {},
   "outputs": [
    {
     "data": {
      "text/plain": [
       "torch.Size([200, 100])"
      ]
     },
     "execution_count": 10,
     "metadata": {},
     "output_type": "execute_result"
    }
   ],
   "source": [
    "dataTS = torch.IntTensor(data)\n",
    "dataTS.shape"
   ]
  },
  {
   "cell_type": "markdown",
   "metadata": {},
   "source": [
    "- 차원 추가"
   ]
  },
  {
   "cell_type": "code",
   "execution_count": 11,
   "metadata": {},
   "outputs": [
    {
     "data": {
      "text/plain": [
       "torch.Size([200, 100, 1])"
      ]
     },
     "execution_count": 11,
     "metadata": {},
     "output_type": "execute_result"
    }
   ],
   "source": [
    "# 방법 1 => reshape()\n",
    "# => 채널 차원을 추가하고 싶을 때\n",
    "dataTS1 = dataTS.reshape((200, 100, 1))\n",
    "dataTS1.shape"
   ]
  },
  {
   "cell_type": "code",
   "execution_count": 13,
   "metadata": {},
   "outputs": [
    {
     "data": {
      "text/plain": [
       "torch.Size([1, 200, 100])"
      ]
     },
     "execution_count": 13,
     "metadata": {},
     "output_type": "execute_result"
    }
   ],
   "source": [
    "# 방법 2 => unsqueeze(dim = 원하는 위치 지정)\n",
    "# => 채널 차원을 추가하고 싶을 때\n",
    "dataTS2 = dataTS.unsqueeze(dim=0)\n",
    "dataTS2.shape"
   ]
  },
  {
   "cell_type": "markdown",
   "metadata": {},
   "source": [
    "<hr>"
   ]
  },
  {
   "cell_type": "markdown",
   "metadata": {},
   "source": [
    "- [shape 변경] <hr>\n",
    "    * Numpy 경우 : T속성, transopse()\n",
    "    <hr>\n",
    "    * Pythorch의 경우 : T속성, transopse(), permute()"
   ]
  },
  {
   "cell_type": "markdown",
   "metadata": {},
   "source": [
    "- shape 변경"
   ]
  },
  {
   "cell_type": "code",
   "execution_count": 14,
   "metadata": {},
   "outputs": [
    {
     "name": "stdout",
     "output_type": "stream",
     "text": [
      "torch.Size([1, 200, 100])\n",
      "(1, 100, 200)\n"
     ]
    }
   ],
   "source": [
    "# shape을 변경 1) 속성 T : 현재의 axis를 역순으로 \n",
    "print(dataTS2.shape)\n",
    "print(data2.T.shape)"
   ]
  },
  {
   "cell_type": "code",
   "execution_count": 15,
   "metadata": {},
   "outputs": [
    {
     "name": "stdout",
     "output_type": "stream",
     "text": [
      "torch.Size([1, 100, 200, 1])\n"
     ]
    },
    {
     "name": "stderr",
     "output_type": "stream",
     "text": [
      "C:\\Users\\hwans\\AppData\\Local\\Temp\\ipykernel_13852\\4195315074.py:2: UserWarning: The use of `x.T` on tensors of dimension other than 2 to reverse their shape is deprecated and it will throw an error in a future release. Consider `x.mT` to transpose batches of matrices or `x.permute(*torch.arange(x.ndim - 1, -1, -1))` to reverse the dimensions of a tensor. (Triggered internally at C:\\cb\\pytorch_1000000000000\\work\\aten\\src\\ATen\\native\\TensorShape.cpp:3701.)\n",
      "  print(dataTS3.T.shape)\n"
     ]
    }
   ],
   "source": [
    "dataTS3= dataTS2.unsqueeze(dim=3)\n",
    "print(dataTS3.T.shape)"
   ]
  },
  {
   "cell_type": "code",
   "execution_count": 18,
   "metadata": {},
   "outputs": [
    {
     "name": "stdout",
     "output_type": "stream",
     "text": [
      "3D =>  torch.Size([100, 200, 1])\n",
      "4D =>  torch.Size([1, 100, 200, 1])\n"
     ]
    }
   ],
   "source": [
    "# print(\"2D => \". dataTS.T.shape )\n",
    "print(\"3D => \", dataTS2.T.shape)\n",
    "print(\"4D => \", dataTS3.T.shape)"
   ]
  },
  {
   "cell_type": "code",
   "execution_count": 19,
   "metadata": {},
   "outputs": [
    {
     "name": "stdout",
     "output_type": "stream",
     "text": [
      "torch.Size([200, 100])\n",
      "torch.Size([1, 200, 100])\n",
      "torch.Size([1, 200, 100, 1])\n"
     ]
    }
   ],
   "source": [
    "# shape 변경 => 2) transpose() : 2개의 축을 원하는 축 위치로 변경\n",
    "print(dataTS.shape)\n",
    "print(dataTS2.shape)\n",
    "print(dataTS3.shape)"
   ]
  },
  {
   "cell_type": "code",
   "execution_count": 20,
   "metadata": {},
   "outputs": [
    {
     "name": "stdout",
     "output_type": "stream",
     "text": [
      "torch.Size([1, 100, 200])\n",
      "torch.Size([1, 1, 100, 200])\n"
     ]
    }
   ],
   "source": [
    "print(dataTS2.transpose(1, 2).shape)        # 1번, 2번 자리를 바꿔라\n",
    "print(dataTS3.transpose(1, 3).shape)        # 1번, 3번 자리를 바꿔라"
   ]
  },
  {
   "cell_type": "code",
   "execution_count": null,
   "metadata": {},
   "outputs": [],
   "source": [
    "# shape 변경 => 3) permute() : 모든 축 => 원하는 축 위치로 변경\n",
    "print(dataTS.shape)\n",
    "print(dataTS2.shape)\n",
    "print(dataTS3.shape)"
   ]
  },
  {
   "cell_type": "code",
   "execution_count": 21,
   "metadata": {},
   "outputs": [
    {
     "name": "stdout",
     "output_type": "stream",
     "text": [
      "torch.Size([100, 1, 200])\n",
      "torch.Size([200, 1, 1, 100])\n"
     ]
    }
   ],
   "source": [
    "print(dataTS2.permute((2, 0, 1)).shape)\n",
    "print(dataTS3.permute((1, 0, 3, 2)).shape)"
   ]
  },
  {
   "cell_type": "markdown",
   "metadata": {},
   "source": [
    "- [차원 제거] : 원소가 사라지면 안돼서 1차원을 없애는 것 <hr>\n",
    "    * Numpy 경우 : reshape(), squeeze()\n",
    "    * Pythorch의 경우 : reshape(), squeeze()"
   ]
  },
  {
   "cell_type": "markdown",
   "metadata": {},
   "source": [
    "#### Numpy의 경우"
   ]
  },
  {
   "cell_type": "code",
   "execution_count": 24,
   "metadata": {},
   "outputs": [
    {
     "name": "stdout",
     "output_type": "stream",
     "text": [
      "(200, 100, 1)\n",
      "(200, 1, 100, 1)\n"
     ]
    }
   ],
   "source": [
    "# Numpy의 경우\n",
    "data2 = np.expand_dims(data, axis = 2)          # 3차원 Data\n",
    "data3 = np.expand_dims(data2, axis = 1)          # 4차원 Data\n",
    "\n",
    "print(data2.shape)\n",
    "print(data3.shape)"
   ]
  },
  {
   "cell_type": "code",
   "execution_count": 23,
   "metadata": {},
   "outputs": [
    {
     "data": {
      "text/plain": [
       "array([[7, 7, 7, ..., 7, 7, 7],\n",
       "       [7, 7, 7, ..., 7, 7, 7],\n",
       "       [7, 7, 7, ..., 7, 7, 7],\n",
       "       ...,\n",
       "       [7, 7, 7, ..., 7, 7, 7],\n",
       "       [7, 7, 7, ..., 7, 7, 7],\n",
       "       [7, 7, 7, ..., 7, 7, 7]])"
      ]
     },
     "execution_count": 23,
     "metadata": {},
     "output_type": "execute_result"
    }
   ],
   "source": [
    "# 1차원 축 제거  => 방법 1) reshape()\n",
    "print(data2.reshape(200, -1).shape)\n",
    "print(data3.RESHAPE(200, -1).shape)"
   ]
  },
  {
   "cell_type": "code",
   "execution_count": 25,
   "metadata": {},
   "outputs": [
    {
     "name": "stdout",
     "output_type": "stream",
     "text": [
      "(200, 100)\n",
      "(200, 100)\n",
      "(200, 1, 100, 1)\n",
      "(200, 100, 1)\n"
     ]
    }
   ],
   "source": [
    "# 1차원 축 제거  => 방법 2) squeeze() : 1차원 축 제거\n",
    "print(data2.squeeze().shape)\n",
    "print(data3.squeeze().shape)                # 안에 1차원 Data를 모두 삭제\n",
    "print(data3.shape)\n",
    "print(data3.squeeze(axis=1).shape)          # 축 지정을 해주면 축에 해당되는 값을 삭제 (해당 축이 1일떄만 가능)\n",
    "# ==> 지정된 축이 1차원이면 삭제 가능, 아닐 시 ERROE\n",
    "\n",
    "# ==> 저장하려면 변수에 담아야 함"
   ]
  },
  {
   "cell_type": "markdown",
   "metadata": {},
   "source": [
    "#### Pythor의 경우"
   ]
  },
  {
   "cell_type": "code",
   "execution_count": 26,
   "metadata": {},
   "outputs": [
    {
     "name": "stdout",
     "output_type": "stream",
     "text": [
      "torch.Size([200, 100])\n",
      "torch.Size([200, 100, 1])\n"
     ]
    }
   ],
   "source": [
    "# Pythorch의 경우\n",
    "data2 = np.expand_dims(data, axis = 2)          # 3차원 Data\n",
    "data3 = np.expand_dims(data2, axis = 1)          # 4차원 Data\n",
    "\n",
    "dataTS2 = torch.IntTensor(data)          # 3차원 Data\n",
    "dataTS3 = torch.IntTensor(data2)          # 4차원 Data\n",
    "print(dataTS2.shape)\n",
    "print(dataTS3.shape)"
   ]
  },
  {
   "cell_type": "code",
   "execution_count": 28,
   "metadata": {},
   "outputs": [
    {
     "name": "stdout",
     "output_type": "stream",
     "text": [
      "torch.Size([200, 100])\n",
      "torch.Size([200, 100])\n"
     ]
    }
   ],
   "source": [
    "# 1차원 축 제거 => 방법 1) reshape()\n",
    "print(dataTS2.reshape(200, -1).shape)\n",
    "print(dataTS3.reshape(200, -1).shape)"
   ]
  },
  {
   "cell_type": "code",
   "execution_count": 30,
   "metadata": {},
   "outputs": [
    {
     "name": "stdout",
     "output_type": "stream",
     "text": [
      "torch.Size([200, 100])\n",
      "torch.Size([200, 100])\n",
      "torch.Size([200, 100, 1])\n",
      "torch.Size([200, 100, 1])\n",
      "torch.Size([200, 100, 1])\n"
     ]
    }
   ],
   "source": [
    "# 1차원 축 제거  => 방법 2) squeeze() : 1차원 축 제거\n",
    "print(dataTS2.squeeze().shape)\n",
    "print(dataTS3.squeeze().shape)                # 안에 1차원 Data를 모두 삭제\n",
    "print(dataTS3.shape)\n",
    "print(dataTS3.squeeze(dim=1).shape)          # 축 지정을 해주면 축에 해당되는 값을 삭제 (해당 축이 1일떄만 가능)\n",
    "print(dataTS3.squeeze(dim=0).shape)          # 축 지점이 1차원이 아니면 그냥 아무일도 안 일어남 (ERROE X)"
   ]
  },
  {
   "cell_type": "code",
   "execution_count": 31,
   "metadata": {},
   "outputs": [
    {
     "name": "stdout",
     "output_type": "stream",
     "text": [
      "torch.Size([200, 100, 1])\n"
     ]
    }
   ],
   "source": [
    "# torch에서 메서드 뒤에 _가 붙으면 pandas의 inpalce = True 의미 \n",
    "# ====> 원본 값을 바꿔버림 즉, 원본 텐서에 적용\n",
    "print(dataTS3.squeeze_(dim=1).shape) "
   ]
  },
  {
   "cell_type": "code",
   "execution_count": 32,
   "metadata": {},
   "outputs": [],
   "source": [
    "## 1차원 Data를 만드는 법 : reshape(-1) 히면 Ok"
   ]
  }
 ],
 "metadata": {
  "kernelspec": {
   "display_name": "TORCH_CV_38",
   "language": "python",
   "name": "python3"
  },
  "language_info": {
   "codemirror_mode": {
    "name": "ipython",
    "version": 3
   },
   "file_extension": ".py",
   "mimetype": "text/x-python",
   "name": "python",
   "nbconvert_exporter": "python",
   "pygments_lexer": "ipython3",
   "version": "3.8.19"
  }
 },
 "nbformat": 4,
 "nbformat_minor": 2
}
