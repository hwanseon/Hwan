{
 "cells": [
  {
   "cell_type": "markdown",
   "metadata": {},
   "source": [
    "#### Image Drawing\n",
    "- 이미지 객체 ndarray 준비 필요"
   ]
  },
  {
   "cell_type": "code",
   "execution_count": 1,
   "metadata": {},
   "outputs": [],
   "source": [
    "# Module Loading\n",
    "import cv2\n",
    "import numpy as np"
   ]
  },
  {
   "cell_type": "code",
   "execution_count": 2,
   "metadata": {},
   "outputs": [],
   "source": [
    "# Data 관련 변수 설정\n",
    "DIR_PATH = \"../image/\""
   ]
  },
  {
   "cell_type": "code",
   "execution_count": 3,
   "metadata": {},
   "outputs": [
    {
     "data": {
      "text/plain": [
       "True"
      ]
     },
     "execution_count": 3,
     "metadata": {},
     "output_type": "execute_result"
    }
   ],
   "source": [
    "# Image 객체\n",
    "bg_data = np.full((500, 500, 3), 255)           # BGR 값 255: 화이트, 0 : 검은색\n",
    "\n",
    "# Image File 생성\n",
    "BG_FILE = DIR_PATH+\"white_bg.jpg\"\n",
    "cv2.imwrite(BG_FILE, bg_data)                   # 도화지를 이미지 파일로 만든 것"
   ]
  },
  {
   "cell_type": "code",
   "execution_count": 4,
   "metadata": {},
   "outputs": [
    {
     "name": "stdout",
     "output_type": "stream",
     "text": [
      "[[[255 255 255]\n",
      "  [255 255 255]\n",
      "  [255 255 255]\n",
      "  ...\n",
      "  [255 255 255]\n",
      "  [255 255 255]\n",
      "  [255 255 255]]\n",
      "\n",
      " [[255 255 255]\n",
      "  [255 255 255]\n",
      "  [255 255 255]\n",
      "  ...\n",
      "  [255 255 255]\n",
      "  [255 255 255]\n",
      "  [255 255 255]]\n",
      "\n",
      " [[255 255 255]\n",
      "  [255 255 255]\n",
      "  [255 255 255]\n",
      "  ...\n",
      "  [255 255 255]\n",
      "  [255 255 255]\n",
      "  [255 255 255]]\n",
      "\n",
      " ...\n",
      "\n",
      " [[255 255 255]\n",
      "  [255 255 255]\n",
      "  [255 255 255]\n",
      "  ...\n",
      "  [255 255 255]\n",
      "  [255 255 255]\n",
      "  [255 255 255]]\n",
      "\n",
      " [[255 255 255]\n",
      "  [255 255 255]\n",
      "  [255 255 255]\n",
      "  ...\n",
      "  [255 255 255]\n",
      "  [255 255 255]\n",
      "  [255 255 255]]\n",
      "\n",
      " [[255 255 255]\n",
      "  [255 255 255]\n",
      "  [255 255 255]\n",
      "  ...\n",
      "  [255 255 255]\n",
      "  [255 255 255]\n",
      "  [255 255 255]]]\n"
     ]
    }
   ],
   "source": [
    "print(bg_data)"
   ]
  },
  {
   "cell_type": "code",
   "execution_count": 5,
   "metadata": {},
   "outputs": [
    {
     "data": {
      "text/plain": [
       "((500, 500, 3), 3)"
      ]
     },
     "execution_count": 5,
     "metadata": {},
     "output_type": "execute_result"
    }
   ],
   "source": [
    "# 도화지 이미지 가져오기\n",
    "white_bg = cv2.imread(BG_FILE)\n",
    "white_bg.shape, white_bg.ndim"
   ]
  },
  {
   "cell_type": "code",
   "execution_count": 6,
   "metadata": {},
   "outputs": [],
   "source": [
    "# 선 그리기\n",
    "cv2.line(white_bg, (50, 50), (250, 250), 0)     # 마지막 0은 선의 색깔\n",
    "cv2.imshow(\"DRAWING\", white_bg)                 # 첫번째는 창 이름\n",
    "cv2.waitKey()\n",
    "cv2.destroyAllWindows()"
   ]
  },
  {
   "cell_type": "code",
   "execution_count": 7,
   "metadata": {},
   "outputs": [],
   "source": [
    "cv2.line(white_bg, (50, 50), (250, 250), (255, 0 , 0), 5)           # 좌표값의 중점은 왼쪽 젤 끝지점\n",
    "cv2.line(white_bg, (100, 50), (250, 250), (0, 255 , 0), 10)\n",
    "cv2.line(white_bg, (150, 50), (250, 450), (100, 185 , 255), 35)\n",
    "\n",
    "cv2.imshow(\"DRAWING\", white_bg)                   \n",
    "cv2.waitKey()\n",
    "cv2.destroyAllWindows()"
   ]
  },
  {
   "cell_type": "code",
   "execution_count": 8,
   "metadata": {},
   "outputs": [],
   "source": [
    "# 사각형 그리기\n",
    "# ==> 대각선 두 점만 알면 사격형을 그릴 수 있음\n",
    "# 선두께 -1 지정하면 채우기가 됨\n",
    "\n",
    "cv2.rectangle(white_bg, (50, 50), (120, 300), (0, 255, 255), 4)\n",
    "cv2.imshow(\"DRAWING\", white_bg)                   \n",
    "cv2.waitKey()\n",
    "cv2.destroyAllWindows()"
   ]
  },
  {
   "cell_type": "code",
   "execution_count": 9,
   "metadata": {},
   "outputs": [],
   "source": [
    "# 사각형 그리기\n",
    "# 선두께 -1 지정하면 채우기가 됨\n",
    "\n",
    "cv2.rectangle(white_bg, (50, 50), (120, 300), (0, 255, 255), -1)\n",
    "cv2.imshow(\"DRAWING\", white_bg)                   \n",
    "cv2.waitKey()\n",
    "cv2.destroyAllWindows()"
   ]
  },
  {
   "cell_type": "code",
   "execution_count": 10,
   "metadata": {},
   "outputs": [],
   "source": [
    "# cv2.line(white_bg, (20,40),(20,100), (255,0,0), 5)\n",
    "# cv2.line(white_bg, (20,100),(60,100), (255,0,0), 5)\n",
    "# cv2.line(white_bg, (60,40),(60,100), (255,0,0), 5)\n",
    "# cv2.line(white_bg, (20,80),(60,80), (255,0,0), 5)\n",
    "\n",
    "\n",
    "# cv2.line(white_bg, (90,40),(90,100), (255,0,0), 5)\n",
    "# cv2.line(white_bg, (90,80),(110,80), (255,0,0), 5)\n",
    "\n",
    "\n",
    "# cv2.line(white_bg, (120,40),(120,100), (255,0,0), 5)\n",
    "# cv2.line(white_bg, (120,100),(180,100), (255,0,0), 5)\n",
    "# cv2.line(white_bg, (180,40),(180,100), (255,0,0), 5)\n",
    "# cv2.line(white_bg, (120,80),(180,80), (255,0,0), 5)\n",
    "\n",
    "\n",
    "\n",
    "# cv2.line(white_bg, (160,100),(160,150), (255,0,0), 5)\n",
    "# cv2.line(white_bg, (125,150),(180,150), (255,0,0), 5)\n",
    "\n",
    "# cv2.imshow('to. 김황선', white_bg)\n",
    "# cv2.waitKey()\n",
    "# cv2.destroyAllWindows()"
   ]
  }
 ],
 "metadata": {
  "kernelspec": {
   "display_name": "TORCH_CV_38",
   "language": "python",
   "name": "python3"
  },
  "language_info": {
   "codemirror_mode": {
    "name": "ipython",
    "version": 3
   },
   "file_extension": ".py",
   "mimetype": "text/x-python",
   "name": "python",
   "nbconvert_exporter": "python",
   "pygments_lexer": "ipython3",
   "version": "3.8.19"
  }
 },
 "nbformat": 4,
 "nbformat_minor": 2
}
