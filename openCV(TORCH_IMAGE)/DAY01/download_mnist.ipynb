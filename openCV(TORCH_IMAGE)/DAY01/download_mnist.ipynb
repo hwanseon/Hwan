{
 "cells": [
  {
   "cell_type": "markdown",
   "metadata": {},
   "source": [
    "#### DataSet Download\n",
    "- Data URL 사용\n",
    "    * urllib 패키지 활용 => from urllib.request import urlretrieve\n",
    "    * 함수 :"
   ]
  },
  {
   "cell_type": "code",
   "execution_count": 1,
   "metadata": {},
   "outputs": [],
   "source": [
    "# 모듈로딩\n",
    "from urllib.request import urlretrieve\n",
    "import os\n",
    "\n",
    "# pytorch의 내장 image dataset\n",
    "from torchvision import datasets"
   ]
  },
  {
   "cell_type": "code",
   "execution_count": 2,
   "metadata": {},
   "outputs": [],
   "source": [
    "LOGO_URL = \"https://www.google.co.kr/images/branding/googlelogo/1x/googlelogo_color_272x92dp.png\"\n",
    "PATH = \"../image\"\n",
    "FILE_NAME = \"../image/logo.png\""
   ]
  },
  {
   "cell_type": "code",
   "execution_count": 3,
   "metadata": {},
   "outputs": [],
   "source": [
    "# Data 저장 폴더 존재 여부 체크 후 생성\n",
    "if not os.path.exists(PATH) :\n",
    "    os.mkdir(PATH)"
   ]
  },
  {
   "cell_type": "code",
   "execution_count": 4,
   "metadata": {},
   "outputs": [
    {
     "data": {
      "text/plain": [
       "('../image/logo.png', <http.client.HTTPMessage at 0x2b85eeaa3d0>)"
      ]
     },
     "execution_count": 4,
     "metadata": {},
     "output_type": "execute_result"
    }
   ],
   "source": [
    "# Data Download 후 Image 저장\n",
    "urlretrieve(LOGO_URL, FILE_NAME)            # urlretrieve(URL 경로, 저장할 폴더의 파일명) "
   ]
  },
  {
   "cell_type": "code",
   "execution_count": 5,
   "metadata": {},
   "outputs": [],
   "source": [
    "PATHS = \"../data\"\n",
    "# Data 저장 폴더 존재 여부 체크 후 생성\n",
    "if not os.path.exists(PATHS) :\n",
    "    os.mkdir(PATHS)"
   ]
  },
  {
   "cell_type": "code",
   "execution_count": 6,
   "metadata": {},
   "outputs": [
    {
     "data": {
      "text/plain": [
       "Dataset MNIST\n",
       "    Number of datapoints: 60000\n",
       "    Root location: ../data/\n",
       "    Split: Train"
      ]
     },
     "execution_count": 6,
     "metadata": {},
     "output_type": "execute_result"
    }
   ],
   "source": [
    "# MNIST DataSet Download\n",
    "datasets.MNIST(\"../data/\", download=True)"
   ]
  },
  {
   "cell_type": "markdown",
   "metadata": {},
   "source": [
    "- Binary Data read"
   ]
  },
  {
   "cell_type": "code",
   "execution_count": 7,
   "metadata": {},
   "outputs": [
    {
     "name": "stdout",
     "output_type": "stream",
     "text": [
      "File List => ['t10k-images-idx3-ubyte', 't10k-images-idx3-ubyte.gz', 't10k-labels-idx1-ubyte', 't10k-labels-idx1-ubyte.gz', 'train-images-idx3-ubyte', 'train-images-idx3-ubyte.gz', 'train-labels-idx1-ubyte', 'train-labels-idx1-ubyte.gz']\n"
     ]
    }
   ],
   "source": [
    "# Data File List 생성\n",
    "MNIST_PATH = \"../data/MNIST/raw/\"\n",
    "\n",
    "filelist = os.listdir(MNIST_PATH)\n",
    "print(f\"File List => {filelist}\")               # 확장자명 : .gz 는 압축파일"
   ]
  },
  {
   "cell_type": "code",
   "execution_count": 8,
   "metadata": {},
   "outputs": [
    {
     "name": "stdout",
     "output_type": "stream",
     "text": [
      "File List => \n",
      "['t10k-images-idx3-ubyte', 't10k-labels-idx1-ubyte', 'train-images-idx3-ubyte', 'train-labels-idx1-ubyte']\n"
     ]
    }
   ],
   "source": [
    "# 압축 파일 삭제 (확장자명 : .gz 는 압축파일)\n",
    "for file in filelist :\n",
    "    if file.endswith(\".gz\") :\n",
    "        filelist.remove(file)\n",
    "\n",
    "print(f\"File List => \\n{filelist}\")     "
   ]
  },
  {
   "cell_type": "code",
   "execution_count": 9,
   "metadata": {},
   "outputs": [
    {
     "name": "stdout",
     "output_type": "stream",
     "text": [
      "b\"\\x00\\x00\\x08\\x03\\x00\\x00'\\x10\\x00\\x00\\x00\\x1c\\x00\\x00\\x00\\x1c\\x00\\x00\\x00\\x00\\x00\\x00\\x00\\x00\\x00\\x00\\x00\\x00\\x00\\x00\\x00\\x00\\x00\\x00\\x00\\x00\\x00\\x00\\x00\\x00\\x00\\x00\\x00\\x00\\x00\\x00\\x00\\x00\\x00\\x00\"\n"
     ]
    }
   ],
   "source": [
    "# Data File Read\n",
    "# with open(MNIST_PATH + filelist[0], encoding = \"utf-8\") as f :\n",
    "#     data = f.read(50)\n",
    "#     print(data)\n",
    "\n",
    "# ==> text가 아닌데 text로 읽어드릴려고 해서 ERROR\n",
    "\n",
    "with open(MNIST_PATH+filelist[0], mode = \"rb\") as f :\n",
    "    data = f.read(50)\n",
    "    print(data)"
   ]
  },
  {
   "cell_type": "markdown",
   "metadata": {},
   "source": [
    "- Binary Data를 원하는 자료형으로 읽기\n",
    "* Python 내장 Module struct 사용"
   ]
  },
  {
   "cell_type": "code",
   "execution_count": 10,
   "metadata": {},
   "outputs": [],
   "source": [
    "# Module Loading\n",
    "import struct "
   ]
  },
  {
   "cell_type": "code",
   "execution_count": 11,
   "metadata": {},
   "outputs": [
    {
     "name": "stdout",
     "output_type": "stream",
     "text": [
      "(2051,)\n",
      "(50855936,)\n"
     ]
    }
   ],
   "source": [
    "# Data File Read\n",
    "with open(MNIST_PATH+filelist[0], mode = \"rb\") as f :\n",
    "    data = f.read(4)                           # 앞쪽에 4Byte가 있어서 가져와야함\n",
    "    print(struct.unpack(\">I\", data))           # 빅엔디아\n",
    "    print(struct.unpack(\"<I\", data))           # 리틀엔디아 \n",
    "\n",
    "## => 빅, 리틀 엔디아를 비교해보니 우리는 빅엔디아에 해당 \n"
   ]
  },
  {
   "cell_type": "code",
   "execution_count": 12,
   "metadata": {},
   "outputs": [
    {
     "name": "stdout",
     "output_type": "stream",
     "text": [
      "(2051, 10000)\n",
      "(50855936, 270991360)\n"
     ]
    }
   ],
   "source": [
    "# Data File Read\n",
    "with open(MNIST_PATH+filelist[0], mode = \"rb\") as f :\n",
    "    data = f.read(8)                          \n",
    "    print(struct.unpack(\">II\", data))           # 빅엔디아\n",
    "    print(struct.unpack(\"<II\", data))           # 리틀엔디아 \n",
    "\n",
    "## => 빅, 리틀 엔디아를 비교해보니 우리는 빅엔디아에 해당 \n",
    "## 결과값 (매직코드, 데이터 개수)"
   ]
  },
  {
   "cell_type": "code",
   "execution_count": 13,
   "metadata": {},
   "outputs": [
    {
     "name": "stdout",
     "output_type": "stream",
     "text": [
      "b'\\x00\\x00\\x00\\x00\\x00\\x00\\x00\\x00\\x00\\x00\\x00\\x00\\x00\\x00\\x00\\x00\\x00\\x00\\x00\\x00\\x00\\x00\\x00\\x00\\x00\\x00\\x00\\x00\\x00\\x00\\x00\\x00\\x00\\x00\\x00\\x00\\x00\\x00\\x00\\x00\\x00\\x00\\x00\\x00\\x00\\x00\\x00\\x00\\x00\\x00\\x00\\x00\\x00\\x00\\x00\\x00\\x00\\x00\\x00\\x00\\x00\\x00\\x00\\x00\\x00\\x00\\x00\\x00\\x00\\x00\\x00\\x00\\x00\\x00\\x00\\x00\\x00\\x00\\x00\\x00\\x00\\x00\\x00\\x00\\x00\\x00\\x00\\x00\\x00\\x00\\x00\\x00\\x00\\x00\\x00\\x00\\x00\\x00\\x00\\x00\\x00\\x00\\x00\\x00\\x00\\x00\\x00\\x00\\x00\\x00\\x00\\x00\\x00\\x00\\x00\\x00\\x00\\x00\\x00\\x00\\x00\\x00\\x00\\x00\\x00\\x00\\x00\\x00\\x00\\x00\\x00\\x00\\x00\\x00\\x00\\x00\\x00\\x00\\x00\\x00\\x00\\x00\\x00\\x00\\x00\\x00\\x00\\x00\\x00\\x00\\x00\\x00\\x00\\x00\\x00\\x00\\x00\\x00\\x00\\x00\\x00\\x00\\x00\\x00\\x00\\x00\\x00\\x00\\x00\\x00\\x00\\x00\\x00\\x00\\x00\\x00\\x00\\x00\\x00\\x00\\x00\\x00\\x00\\x00\\x00\\x00\\x00\\x00\\x00\\x00\\x00\\x00\\x00\\x00\\x00\\x00\\x00\\x00\\x00\\x00\\x00\\x00T\\xb9\\x9f\\x97<$\\x00\\x00\\x00\\x00\\x00\\x00\\x00\\x00\\x00\\x00\\x00\\x00\\x00\\x00\\x00\\x00\\x00\\x00\\x00\\x00\\x00\\x00\\xde\\xfe\\xfe\\xfe\\xfe\\xf1\\xc6\\xc6\\xc6\\xc6\\xc6\\xc6\\xc6\\xc6\\xaa4\\x00\\x00\\x00\\x00\\x00\\x00\\x00\\x00\\x00\\x00\\x00\\x00CrHr\\xa3\\xe3\\xfe\\xe1\\xfe\\xfe\\xfe\\xfa\\xe5\\xfe\\xfe\\x8c\\x00\\x00\\x00\\x00\\x00\\x00\\x00\\x00\\x00\\x00\\x00\\x00\\x00\\x00\\x00\\x00\\x00\\x11B\\x0eCCC;\\x15\\xec\\xfej\\x00\\x00\\x00\\x00\\x00\\x00\\x00\\x00\\x00\\x00\\x00\\x00\\x00\\x00\\x00\\x00\\x00\\x00\\x00\\x00\\x00\\x00\\x00\\x00S\\xfd\\xd1\\x12\\x00\\x00\\x00\\x00\\x00\\x00\\x00\\x00\\x00\\x00\\x00\\x00\\x00\\x00\\x00\\x00\\x00\\x00\\x00\\x00\\x00\\x00\\x00\\x16\\xe9\\xffS\\x00\\x00\\x00\\x00\\x00\\x00\\x00\\x00\\x00\\x00\\x00\\x00\\x00\\x00\\x00\\x00\\x00\\x00\\x00\\x00\\x00\\x00\\x00\\x00\\x81\\xfe\\xee,\\x00\\x00\\x00\\x00\\x00\\x00\\x00\\x00\\x00\\x00\\x00\\x00\\x00\\x00\\x00\\x00\\x00\\x00\\x00\\x00\\x00\\x00\\x00;\\xf9\\xfe>\\x00\\x00\\x00\\x00\\x00\\x00\\x00\\x00\\x00\\x00\\x00\\x00\\x00\\x00\\x00\\x00\\x00\\x00\\x00\\x00\\x00\\x00\\x00\\x00\\x85\\xfe\\xbb\\x05\\x00\\x00\\x00\\x00\\x00\\x00\\x00\\x00\\x00\\x00\\x00\\x00\\x00\\x00\\x00\\x00\\x00\\x00\\x00\\x00\\x00\\x00\\x00\\t\\xcd\\xf8:\\x00\\x00\\x00\\x00\\x00\\x00\\x00\\x00\\x00\\x00\\x00\\x00\\x00\\x00\\x00\\x00\\x00\\x00\\x00\\x00\\x00\\x00\\x00\\x00~\\xfe\\xb6\\x00\\x00\\x00\\x00\\x00\\x00\\x00\\x00\\x00\\x00\\x00\\x00\\x00\\x00\\x00\\x00\\x00\\x00\\x00\\x00\\x00\\x00\\x00\\x00K\\xfb\\xf09\\x00\\x00\\x00\\x00\\x00\\x00\\x00\\x00\\x00\\x00\\x00\\x00\\x00\\x00\\x00\\x00\\x00\\x00\\x00\\x00\\x00\\x00\\x00\\x13\\xdd\\xfe\\xa6\\x00\\x00\\x00\\x00\\x00\\x00\\x00\\x00\\x00\\x00\\x00\\x00\\x00\\x00\\x00\\x00\\x00\\x00\\x00\\x00\\x00\\x00\\x00\\x03\\xcb\\xfe\\xdb#\\x00\\x00\\x00\\x00\\x00\\x00\\x00\\x00\\x00\\x00\\x00\\x00\\x00\\x00\\x00\\x00\\x00\\x00\\x00\\x00\\x00\\x00\\x00&\\xfe\\xfeM\\x00\\x00\\x00\\x00\\x00\\x00\\x00\\x00\\x00\\x00\\x00\\x00\\x00\\x00\\x00\\x00\\x00\\x00\\x00\\x00\\x00\\x00\\x00\\x1f\\xe0\\xfes\\x01\\x00\\x00\\x00\\x00\\x00\\x00\\x00\\x00\\x00\\x00\\x00\\x00\\x00\\x00\\x00\\x00\\x00\\x00\\x00\\x00\\x00\\x00\\x00\\x85\\xfe\\xfe4\\x00\\x00\\x00\\x00\\x00\\x00\\x00\\x00\\x00\\x00\\x00\\x00\\x00\\x00\\x00\\x00\\x00\\x00\\x00\\x00\\x00\\x00\\x00=\\xf2\\xfe\\xfe4\\x00\\x00\\x00\\x00\\x00\\x00\\x00\\x00\\x00\\x00\\x00\\x00\\x00\\x00\\x00\\x00\\x00\\x00\\x00\\x00\\x00\\x00\\x00y\\xfe\\xfe\\xdb(\\x00\\x00\\x00\\x00\\x00\\x00\\x00\\x00\\x00\\x00\\x00\\x00\\x00\\x00\\x00\\x00\\x00\\x00\\x00\\x00\\x00\\x00\\x00y\\xfe\\xcf\\x12\\x00\\x00\\x00\\x00\\x00\\x00\\x00\\x00\\x00\\x00\\x00\\x00\\x00\\x00\\x00\\x00\\x00\\x00\\x00\\x00\\x00\\x00\\x00\\x00\\x00\\x00\\x00\\x00\\x00\\x00\\x00\\x00\\x00\\x00\\x00\\x00\\x00\\x00\\x00\\x00\\x00\\x00'\n"
     ]
    }
   ],
   "source": [
    "with open(MNIST_PATH+filelist[0], mode = \"rb\") as f :\n",
    "    # 파일의 헤데 정보 읽기\n",
    "    _, cnt = struct.unpack(\">II\", f.read(8))                   \n",
    "    # 앞에 4개 매직코드, 앞에 4개 데이터 개수\n",
    "    rows, cols = struct.unpack(\">II\", f.read(8))\n",
    "    # 다음 4개: 행의 개수, 다음 4개 열의 개수\n",
    "\n",
    "    # Image raw Data\n",
    "    pixels = f.read(rows*cols)\n",
    "    print(pixels)\n",
    "    # => Type은 Byte\n",
    "    # => 불러온 건 그림 1장에 대한 Data\n",
    "\n",
    "    # 그림정보 전체를 불러오려면 반복은 cnt 만큼 돌려야함"
   ]
  },
  {
   "cell_type": "markdown",
   "metadata": {},
   "source": [
    "### 이떄까지 한 것들\n",
    "- 이미지 데이터를 이미지 파일로 주는게 아니고, 코드 형식으로 주어짐 \n",
    "- 코드를 추출해서 우리가 데이터셋을 만들어서 사용을 해야함"
   ]
  },
  {
   "cell_type": "markdown",
   "metadata": {},
   "source": [
    "- 학습용 이미지 6만장\n",
    "- 1) 이미지 피쳐 데이터 => train-images-idx3\n",
    "- 2) 라벨 데이터 (이 이미지가 뭐다라고 설명해주는) => train-labels-idx1\n",
    "- 1)과 2)를 묶어야 1개의 DataSet이 됨 "
   ]
  },
  {
   "cell_type": "code",
   "execution_count": 15,
   "metadata": {},
   "outputs": [],
   "source": [
    "# Data FIle Read and DataSet  File 생성\n",
    "def makeDataFile(imgfile, labelfile, datasetfile, dataLength = None) :   # Data개수 말고 내가 필요한 개수만큼 출력하고 싶을 때\n",
    "    with open(imgfile, mode = \"rb\") as data_f :\n",
    "        with open(labelfile, mode = \"rb\") as label_f :\n",
    "            with open(datasetfile, mode = \"w\") as dataset_f :\n",
    "\n",
    "                # 파일의 헤더 정보 읽기\n",
    "                _, img_cnt = struct.unpack(\">II\", data_f.read(8))          # img_cnt: 총 이미지 개수\n",
    "                rows, cols = struct.unpack(\">II\", data_f.read(8))\n",
    "\n",
    "                _, _ = struct.unpack(\">II\", label_f.read(8))               # 마우스 커서 이동 때문에 사용\n",
    "\n",
    "\n",
    "                # 이미지 데이터 개수의 리미트를 주고 싶으면 \n",
    "                if dataLength : dataLength = img_cnt\n",
    "\n",
    "                for n in range(img_cnt) :\n",
    "                    # 이미지 raw 데이터\n",
    "                    pixcels = data_f.read(rows*cols)\n",
    "                    sdata = list(map(lambda n:str(n), pixels))\n",
    "                    # print(sdata)\n",
    "\n",
    "                    # image label\n",
    "                    label = struct.unpack(\"B\", label_f.read(1))[0]\n",
    "                    # print(label)\n",
    "\n",
    "                    # Feature, Label Conect => \n",
    "                    sdata.append(str(label))\n",
    "                    # print(sdata)\n",
    "\n",
    "                    # Data File Record\n",
    "                    img_label =  \",\".join(sdata)\n",
    "                    dataset_f.write(img_label+\"\\n\")\n",
    "                    # print(\",\".join(sdata))"
   ]
  },
  {
   "cell_type": "code",
   "execution_count": 16,
   "metadata": {},
   "outputs": [],
   "source": [
    "DS_PATH = \"../data/\"\n",
    "TRAIN_FILE = DS_PATH+\"mnist__train.csv\"\n",
    "TEST_FILE = DS_PATH+\"mnist__test.csv\"\n",
    "MNIST_PATH = \"../data/MNIST/raw/\"\n",
    "\n",
    "makeDataFile(MNIST_PATH+filelist[0], MNIST_PATH+filelist[1], TEST_FILE)\n",
    "makeDataFile(MNIST_PATH+filelist[2], MNIST_PATH+filelist[3], TRAIN_FILE)"
   ]
  }
 ],
 "metadata": {
  "kernelspec": {
   "display_name": "TORCH_CV_38",
   "language": "python",
   "name": "python3"
  },
  "language_info": {
   "codemirror_mode": {
    "name": "ipython",
    "version": 3
   },
   "file_extension": ".py",
   "mimetype": "text/x-python",
   "name": "python",
   "nbconvert_exporter": "python",
   "pygments_lexer": "ipython3",
   "version": "3.8.19"
  }
 },
 "nbformat": 4,
 "nbformat_minor": 2
}
