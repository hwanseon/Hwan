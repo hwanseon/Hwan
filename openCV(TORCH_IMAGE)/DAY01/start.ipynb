{
 "cells": [
  {
   "cell_type": "markdown",
   "metadata": {},
   "source": [
    "#### 개요\n",
    "- offset : 마우스 커서의 위치 (얼마나 떨어져 있는지)\n"
   ]
  },
  {
   "cell_type": "markdown",
   "metadata": {},
   "source": [
    "#### 2진수, 16진수\n",
    "- 2진수 : 1111 1111 => 1Byte(8 Bit)\n",
    "- 16진수 : 00 => 1 Byte "
   ]
  }
 ],
 "metadata": {
  "kernelspec": {
   "display_name": "base",
   "language": "python",
   "name": "python3"
  },
  "language_info": {
   "name": "python",
   "version": "3.11.7"
  }
 },
 "nbformat": 4,
 "nbformat_minor": 2
}
