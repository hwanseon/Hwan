{
 "cells": [
  {
   "cell_type": "markdown",
   "metadata": {},
   "source": [
    "#### OpenCV 기본 사용법"
   ]
  },
  {
   "cell_type": "code",
   "execution_count": 2,
   "metadata": {},
   "outputs": [],
   "source": [
    "# Module Loading\n",
    "import cv2\n",
    "import os\n",
    "import numpy as np"
   ]
  },
  {
   "cell_type": "code",
   "execution_count": 3,
   "metadata": {},
   "outputs": [],
   "source": [
    "# Image 관련 공통 변수\n",
    "IMG_DIR = \"../image/\""
   ]
  },
  {
   "cell_type": "markdown",
   "metadata": {},
   "source": [
    "[1] Image Read ==> ndarray"
   ]
  },
  {
   "cell_type": "code",
   "execution_count": 4,
   "metadata": {},
   "outputs": [],
   "source": [
    "# Image File Path \n",
    "IMG_FILE = IMG_DIR+\"logo.png\"\n",
    "\n",
    "# Image Data\n",
    "im_data = cv2.imread(IMG_FILE)\n",
    "gray_data = cv2.imread(IMG_FILE, flags=cv2.IMREAD_GRAYSCALE)"
   ]
  },
  {
   "cell_type": "code",
   "execution_count": 5,
   "metadata": {},
   "outputs": [
    {
     "name": "stdout",
     "output_type": "stream",
     "text": [
      "[im data]\n",
      "shape (92, 272, 3)\n",
      "ndim 3D\n",
      "-------------------------\n",
      "[gray data]\n",
      "shape (92, 272)\n",
      "ndim 2D\n"
     ]
    }
   ],
   "source": [
    "# Image Data Atribute\n",
    "print(\"[im data]\")\n",
    "print(f\"shape {im_data.shape}\")         # 결과값 (행, 열, 차원)\n",
    "print(f\"ndim {im_data.ndim}D\")\n",
    "print(\"-------------------------\")\n",
    "print(\"[gray data]\")\n",
    "print(f\"shape {gray_data.shape}\")         # 결과값 (행, 열)\n",
    "print(f\"ndim {gray_data.ndim}D\")\n",
    "\n",
    "# 둘의 차원이 다름 => 알아서 변경"
   ]
  },
  {
   "cell_type": "markdown",
   "metadata": {},
   "source": [
    "[2] Iamge 화면 출력 => imshow()"
   ]
  },
  {
   "cell_type": "code",
   "execution_count": 6,
   "metadata": {},
   "outputs": [],
   "source": [
    "# cv2.imshow(\"[IM_DATA]\", im_data)        # imshow( 이미지 출력창 제목 , image data )\n",
    "# => ERROE, 얼마나 띄울지, 크기는 얼마나할지 등 제어값을 줘야함\n",
    "# ==> 키보드로 입력 대기함수 매개변수 : cv2.waitkey ( delay = 0 ), 0이면 입력 받을때까지 계속 대기"
   ]
  },
  {
   "cell_type": "code",
   "execution_count": 7,
   "metadata": {},
   "outputs": [],
   "source": [
    "# cv2.imshow(\"[IM_DATA]\", im_data) \n",
    "# cv2.waitKey()               # 이벤트 처리 \n",
    "# # ==> 우리는 몇초뒤에 닫아라라는 값을 넣어야함 "
   ]
  },
  {
   "cell_type": "code",
   "execution_count": null,
   "metadata": {},
   "outputs": [],
   "source": [
    "import time\n",
    "# Image 창 띄우기\n",
    "cv2.imshow(\"[IM_DATA]\", im_data) \n",
    "cv2.imshow(\"[GRAY_DATA]\", gray_data) \n",
    "\n",
    "cv2.waitKey()\n",
    "# 이미지 창 닫기\n",
    "cv2.destroyAllWindows()         # 이무키나 누르면 모든 창 닫음\n",
    "cv2.destroyWindow(\"[IM_DATA]\")  # 닫고싶은 창만 닫음\n",
    "\n",
    "# 1초 일시정지\n",
    "time.sleep(1)\n",
    "cv2.destroyWindow(\"[GRAY_DATA]\")\n"
   ]
  },
  {
   "cell_type": "code",
   "execution_count": 9,
   "metadata": {},
   "outputs": [
    {
     "name": "stdout",
     "output_type": "stream",
     "text": [
      "key_code => 102, f\n",
      "key_code => 119, w\n",
      "key_code => 115, s\n"
     ]
    }
   ],
   "source": [
    "# 특정 단축키로 창 닫기\n",
    "# \"x\", \"X\" 입력 시 모든 이미지 창 닫기\n",
    "# 이미지 창 띄우기\n",
    "cv2.imshow(\"[IM_DATA]\", im_data) \n",
    "cv2.imshow(\"[GRAY_DATA]\", gray_data) \n",
    "\n",
    "while True :\n",
    "\n",
    "        # 키보드 이벤트 대기 함수\n",
    "        key_code = cv2.waitKey()\n",
    "        print(f\"key_code => {key_code}, {chr(key_code)}\")\n",
    "\n",
    "        if chr(key_code) in [\"x\", \"X\"] :\n",
    "                \n",
    "            # 모든 창 닫기\n",
    "            cv2.destroyAllWindows() \n",
    "            break\n",
    "        \n",
    "        # Image 저장\n",
    "        elif chr(key_code) in [\"s\", \"S\"] :\n",
    "            cv2.imwrite(\"copy.jpg\", gray_data)\n",
    "\n",
    "            # 모든 창 닫기\n",
    "            cv2.destroyAllWindows()\n",
    "            break"
   ]
  }
 ],
 "metadata": {
  "kernelspec": {
   "display_name": "TORCH_CV_38",
   "language": "python",
   "name": "python3"
  },
  "language_info": {
   "codemirror_mode": {
    "name": "ipython",
    "version": 3
   },
   "file_extension": ".py",
   "mimetype": "text/x-python",
   "name": "python",
   "nbconvert_exporter": "python",
   "pygments_lexer": "ipython3",
   "version": "3.8.19"
  }
 },
 "nbformat": 4,
 "nbformat_minor": 2
}
