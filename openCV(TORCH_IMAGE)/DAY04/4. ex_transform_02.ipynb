{
 "cells": [
  {
   "cell_type": "markdown",
   "metadata": {},
   "source": [
    "- Module Loading 및 Data 설정 <hr>"
   ]
  },
  {
   "cell_type": "code",
   "execution_count": 1,
   "metadata": {},
   "outputs": [],
   "source": [
    "import cv2                                      # ==> Image Data(raw data의 형식) => ndarray\n",
    "from PIL import Image                           # %pip install pillow => Data를 읽으면 Image Data(raw data의 형식)의 형식이 JpegImage\n",
    "import numpy as np\n",
    "import numpy as np\n",
    "import matplotlib.pyplot as plt\n",
    "from torchvision.transforms import v2\n",
    "\n",
    "from torchvision import transforms            # pytorch 지원 Image 변환 관련 모듈\n",
    "import torch"
   ]
  },
  {
   "cell_type": "code",
   "execution_count": 2,
   "metadata": {},
   "outputs": [],
   "source": [
    "# Data 관련 설정\n",
    "IMG_PATH = \"../image/\"\n",
    "IMG_FILE = IMG_PATH+\"ping.png\""
   ]
  },
  {
   "cell_type": "markdown",
   "metadata": {},
   "source": [
    "- openCV & pillow <hr>"
   ]
  },
  {
   "cell_type": "code",
   "execution_count": 3,
   "metadata": {},
   "outputs": [],
   "source": [
    "cv_img = cv2.imread(IMG_FILE)                                   # 결과 ndarray => BGR\n",
    "cv_img = cv2.cvtColor(cv_img, cv2.COLOR_BGR2RGB)                # 색 배열 BGR을 RGB로 변경\n",
    "\n",
    "pil_img = Image.open(IMG_FILE)"
   ]
  },
  {
   "cell_type": "code",
   "execution_count": 4,
   "metadata": {},
   "outputs": [
    {
     "name": "stdout",
     "output_type": "stream",
     "text": [
      "type(cv_img) : <class 'numpy.ndarray'>\n",
      "type(pil_img) : <class 'PIL.PngImagePlugin.PngImageFile'>\n"
     ]
    }
   ],
   "source": [
    "print(f\"type(cv_img) : {type(cv_img)}\")\n",
    "print(f\"type(pil_img) : {type(pil_img)}\")"
   ]
  },
  {
   "cell_type": "markdown",
   "metadata": {},
   "source": [
    "-  -  -"
   ]
  },
  {
   "cell_type": "markdown",
   "metadata": {},
   "source": [
    "- 인스턴스와 메서드 <hr>\n",
    "    * 인스턴스(Instance) : Memory(힙)에 존재하는(저장된) Data의 종류를 명시해서 부르는 용어\n",
    "        - ex) 정수 인스턴스, vgg 인스턴스, 사람 인스턴스, ....\n",
    "    * 속성 (Attribute/Field) : Class가 가지는 특징, 외/내형, 성격\n",
    "    * 메서드(Method) : Class가 가지는 기능, 역할  ==> 문법 구조는 함수와 동일 "
   ]
  },
  {
   "cell_type": "code",
   "execution_count": 22,
   "metadata": {},
   "outputs": [],
   "source": [
    "# 임의의 Class 생성\n",
    "\n",
    "class A : \n",
    "\n",
    "    # 인스턴스 생성 메서드 \n",
    "    def __init__ (self, num, loc) :\n",
    "        self.num = num      # 인스턴스 속성\n",
    "        self.loc = loc      # 인스턴스 속성\n",
    "        print(\"__init__()\")\n",
    "\n",
    "    # 연산자 (+, -, *, /, //, %, **) 기능과 연결된 매직 메서드\n",
    "    def __add__(self, other) :\n",
    "        print(\"__add__()\")\n",
    "        return self.num + other.num         # 덧셈\n",
    "    \n",
    "    def __mul__(self, other) :\n",
    "        print(\"__mul__()\")\n",
    "        return self.loc * other             # 곱셈\n",
    "    \n",
    "    # 인스턴스 변수명으로 호출되는 메서드\n",
    "    def __call__(self, value) :\n",
    "        print(\"__call__()\")\n",
    "    \n",
    "    # A class로 생성된 인스턴스 전용의 메서드 \n",
    "    def test(self, food) :\n",
    "        print(self.loc, food) "
   ]
  },
  {
   "cell_type": "code",
   "execution_count": 24,
   "metadata": {},
   "outputs": [
    {
     "name": "stdout",
     "output_type": "stream",
     "text": [
      "__init__()\n",
      "__init__()\n",
      "__init__()\n",
      "__init__()\n",
      "창원\n",
      "__add__()\n",
      "56\n",
      "__mul__()\n",
      "창원창원창원창원창원창원창원창원창원창원창원창원창원창원창원창원창원창원창원창원창원창원창원창원창원창원\n",
      "__call__()\n",
      "None\n",
      "__init__()\n",
      "__call__()\n"
     ]
    }
   ],
   "source": [
    "# 인스턴스 생성 => A(값이 2개 들어와야함)\n",
    "A(26, \"창원\")               # 저장을 하지 않아서 재사용 X\n",
    "\n",
    "# 주소 저장\n",
    "a1 = A(26, \"창원\")\n",
    "a2 = A(30, \"런던\")\n",
    "a3 = A(34, \"현풍\")\n",
    "\n",
    "# 출력\n",
    "print(a1.loc)\n",
    "\n",
    "# 덧셈\n",
    "print(a1+a2)\n",
    "\n",
    "# 곱셈\n",
    "print(a1*26)\n",
    "\n",
    "# 인스턴스 변수명으로 호출되는 메서드 결과\n",
    "print(a1(20))       # 값을 2개 줘야하는데 1개만 줘서 ERROR가 발생해야 하지만, CLASS에서 정의해준 덕에 ERROR 발생 x\n",
    "A(5, \"경주\")(888)"
   ]
  },
  {
   "cell_type": "code",
   "execution_count": 21,
   "metadata": {},
   "outputs": [
    {
     "name": "stdout",
     "output_type": "stream",
     "text": [
      "-----끼끼싸-----\n",
      "창원 쌔우\n",
      "런던 난\n",
      "현풍 INFP\n"
     ]
    }
   ],
   "source": [
    "print(\"-----끼끼싸-----\")\n",
    "a1.test(\"쌔우\")\n",
    "a2.test(\"난\")\n",
    "a3.test(\"INFP\")"
   ]
  },
  {
   "cell_type": "markdown",
   "metadata": {},
   "source": [
    "- - -"
   ]
  },
  {
   "cell_type": "markdown",
   "metadata": {},
   "source": [
    "- Resize Image 크기 변경 <hr>"
   ]
  },
  {
   "cell_type": "code",
   "execution_count": 31,
   "metadata": {},
   "outputs": [
    {
     "name": "stdout",
     "output_type": "stream",
     "text": [
      "(728, 480, 3)\n",
      "torch.Size([3, 40, 20])\n"
     ]
    }
   ],
   "source": [
    "## v2.Resize() class\n",
    "# img -> Tensor\n",
    "print(cv_img.shape)\n",
    "\n",
    "# 모두 Tensor로 변경해야함\n",
    "imgTS = v2.ToImage()(cv_img)\n",
    "imgTS2 = v2.Resize(size = (40, 20))(imgTS)\n",
    "imgTS2 = v2.Resize(size = (40, 20), interpolation=v2.InterpolationMode.BILINEAR)(imgTS)          # 입력한 interpolation=v2.InterpolationMode.BILINEAR 값 자체가 디폴트값\n",
    "\n",
    "print(imgTS2.shape)"
   ]
  },
  {
   "cell_type": "code",
   "execution_count": 34,
   "metadata": {},
   "outputs": [
    {
     "name": "stdout",
     "output_type": "stream",
     "text": [
      "(728, 480, 3)\n",
      "torch.Size([3, 40, 20])\n"
     ]
    }
   ],
   "source": [
    "# v2.Compose() 클래스 : Image에 진행할 여러가지 전처리를 하나로 묶음 처리 즉, pipeline 설정\n",
    "# 바로 위의 코드를 이번 코드로 한번에 사용가능함\n",
    "print(cv_img.shape)\n",
    "\n",
    "tras = v2.Compose(\n",
    "    [\n",
    "        v2.ToImage(),\n",
    "        v2.Resize(size = (40, 20), interpolation=v2.InterpolationMode.BILINEAR)\n",
    "    ]\n",
    ")\n",
    "# Compose해서 값을 적용할 것들을 , , ,해서 계속 적어주면 됨\n",
    "# Normalize는 제일 마지막에 써주기\n",
    "imgTS2 = tras(cv_img)\n",
    "\n",
    "print(imgTS2.shape)"
   ]
  },
  {
   "cell_type": "markdown",
   "metadata": {},
   "source": [
    "- Image 가져오는 코드"
   ]
  },
  {
   "cell_type": "code",
   "execution_count": null,
   "metadata": {},
   "outputs": [],
   "source": [
    "# ### ===> 모듈로딩\n",
    "# import torch \n",
    "# from torchvision.datasets import ImageFolder\n",
    "# import torchvision.transforms as transforms\n",
    "# import matplotlib.pyplot as plt \n",
    "\n",
    "# ### ===> 이미지 데이터 존재하는 폴더 경로 설정\n",
    "# img_dir = \"../data/img/\"\n",
    "\n",
    "# ### ===> 이미지 데이터셋 변환: 지정된 경로 아래 폴더 기반 데이터셋 변환\n",
    "# imgDS = ImageFolder(root=img_dir, \n",
    "#                      transform=transforms.ToTensor())\n",
    "\n",
    "# ### ===> 이미지 데이터셋 확인\n",
    "# print(f'[Image Dataset]\\n{imgDS}')\n",
    "# print(f'[classes] {imgDS.classes}, {imgDS.class_to_idx}')\n",
    "# print(f'[Targets] {imgDS.targets}')\n",
    "# print('[imgs]')\n",
    "# for item in imgDS.imgs : print(item)\n",
    "\n",
    "# ### ===> 이미지시각화확인\n",
    "# for item in imgDS.imgs : \n",
    "#     img=imgDS.loader(item[0])\n",
    "#     plt.imshow(img)\n",
    "#     plt.title(f\"[Label {item[1]}]\")\n",
    "#     plt.show()"
   ]
  }
 ],
 "metadata": {
  "kernelspec": {
   "display_name": "TORCH_CV_38",
   "language": "python",
   "name": "python3"
  },
  "language_info": {
   "codemirror_mode": {
    "name": "ipython",
    "version": 3
   },
   "file_extension": ".py",
   "mimetype": "text/x-python",
   "name": "python",
   "nbconvert_exporter": "python",
   "pygments_lexer": "ipython3",
   "version": "3.8.19"
  }
 },
 "nbformat": 4,
 "nbformat_minor": 2
}
