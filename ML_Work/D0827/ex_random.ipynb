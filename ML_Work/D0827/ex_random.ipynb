{
 "cells": [
  {
   "cell_type": "markdown",
   "metadata": {},
   "source": [
    "### 임의의 숫자 즉, 난수 추출\n",
    "- random 모듈 존재\n",
    "- 0.0 ~ 1.0 실수 추출\n",
    "- n ~ m 정수추출\n",
    "- random 값 고정 -> seed 기능"
   ]
  },
  {
   "cell_type": "code",
   "execution_count": 2,
   "metadata": {},
   "outputs": [],
   "source": [
    "import random"
   ]
  },
  {
   "cell_type": "code",
   "execution_count": 4,
   "metadata": {},
   "outputs": [
    {
     "name": "stdout",
     "output_type": "stream",
     "text": [
      "1\n",
      "2\n",
      "2\n",
      "2\n",
      "1\n",
      "1\n",
      "2\n",
      "1\n",
      "1\n",
      "2\n"
     ]
    }
   ],
   "source": [
    "for _ in range(10) :\n",
    "    print(random.randint(1, 2))"
   ]
  },
  {
   "cell_type": "code",
   "execution_count": 8,
   "metadata": {},
   "outputs": [
    {
     "name": "stdout",
     "output_type": "stream",
     "text": [
      "0.3965653145717417\n",
      "0.859976942474346\n",
      "0.7282105566240765\n",
      "0.4506076837834916\n",
      "0.13982629287946013\n",
      "0.9596364858884106\n",
      "0.10369724582750961\n",
      "0.7753860688917248\n",
      "0.28391339442252794\n",
      "0.6520422704175153\n"
     ]
    }
   ],
   "source": [
    "# 임의의 실수 추출\n",
    "for _ in range(10) :\n",
    "    print(random.random())"
   ]
  },
  {
   "cell_type": "code",
   "execution_count": 12,
   "metadata": {},
   "outputs": [
    {
     "name": "stdout",
     "output_type": "stream",
     "text": [
      "0.5714025946899135\n",
      "0.4288890546751146\n",
      "0.5780913011344704\n",
      "0.20609823213950174\n",
      "0.81332125135732\n",
      "0.8235888725334455\n",
      "0.6534725339011758\n",
      "0.16022955651881965\n",
      "0.5206693596399246\n",
      "0.32777281162209315\n"
     ]
    }
   ],
   "source": [
    "random.seed(10)\n",
    "for _ in range(10) :\n",
    "    print(random.random())"
   ]
  },
  {
   "cell_type": "code",
   "execution_count": 13,
   "metadata": {},
   "outputs": [],
   "source": [
    "X = [[10], [3], [9], [5], [8], [7],[12], [67], [91], [45], [2], [17]]\n",
    "y = [1, 2, 3, 4, 5, 6, 7, 8, 9, 10, 11, 12]"
   ]
  },
  {
   "cell_type": "code",
   "execution_count": 14,
   "metadata": {},
   "outputs": [],
   "source": [
    "from sklearn.model_selection import train_test_split"
   ]
  },
  {
   "cell_type": "code",
   "execution_count": 15,
   "metadata": {},
   "outputs": [],
   "source": [
    "# shuffle을 False로 주면 순서대로 값이 들어감\n",
    "X_train, X_test, y_train, y_test = train_test_split(X, y, shuffle=False)"
   ]
  },
  {
   "cell_type": "code",
   "execution_count": 16,
   "metadata": {},
   "outputs": [
    {
     "name": "stdout",
     "output_type": "stream",
     "text": [
      "X : [[10], [3], [9], [5], [8], [7], [12], [67], [91], [45], [2], [17]]\n",
      "X_train : [[10], [3], [9], [5], [8], [7], [12], [67], [91]]\n",
      "X_test : [[45], [2], [17]]\n"
     ]
    }
   ],
   "source": [
    "print(f\"X : {X}\")\n",
    "print(f\"X_train : {X_train}\")\n",
    "print(f\"X_test : {X_test}\")"
   ]
  },
  {
   "cell_type": "code",
   "execution_count": 25,
   "metadata": {},
   "outputs": [
    {
     "name": "stdout",
     "output_type": "stream",
     "text": [
      "X : [[10], [3], [9], [5], [8], [7], [12], [67], [91], [45], [2], [17]]\n",
      "X_train : [[9], [2], [10], [8], [12], [91], [17], [5], [45]]\n",
      "X_test : [[3], [7], [67]]\n"
     ]
    },
    {
     "ename": "",
     "evalue": "",
     "output_type": "error",
     "traceback": [
      "\u001b[1;31mThe Kernel crashed while executing code in the current cell or a previous cell. \n",
      "\u001b[1;31mPlease review the code in the cell(s) to identify a possible cause of the failure. \n",
      "\u001b[1;31mClick <a href='https://aka.ms/vscodeJupyterKernelCrash'>here</a> for more info. \n",
      "\u001b[1;31mView Jupyter <a href='command:jupyter.viewOutput'>log</a> for further details."
     ]
    }
   ],
   "source": [
    "# 섞어서 학습용/테스트용 데이터셋 분리 shuffle의 디폴트 값이 True\n",
    "# 동작을 시킬때마다 값이 매번 변경됨\n",
    "X_train, X_test, y_train, y_test = train_test_split(X, y)\n",
    "\n",
    "print(f\"X : {X}\")\n",
    "print(f\"X_train : {X_train}\")\n",
    "print(f\"X_test : {X_test}\")"
   ]
  },
  {
   "cell_type": "code",
   "execution_count": 22,
   "metadata": {},
   "outputs": [
    {
     "name": "stdout",
     "output_type": "stream",
     "text": [
      "X : [[10], [3], [9], [5], [8], [7], [12], [67], [91], [45], [2], [17]]\n",
      "X_train : [[7], [17], [91], [2], [5], [3], [10], [8], [45]]\n",
      "X_test : [[9], [12], [67]]\n"
     ]
    }
   ],
   "source": [
    "# 셔플을 주되, 랜덤 값이 고정 (random에서 seed 설정 역할을 하는 매개변수)\n",
    "# -> random_state\n",
    "X_train, X_test, y_train, y_test = train_test_split(X, y, random_state=10)\n",
    "\n",
    "print(f\"X : {X}\")\n",
    "print(f\"X_train : {X_train}\")\n",
    "print(f\"X_test : {X_test}\")"
   ]
  }
 ],
 "metadata": {
  "kernelspec": {
   "display_name": "ML_38",
   "language": "python",
   "name": "python3"
  },
  "language_info": {
   "codemirror_mode": {
    "name": "ipython",
    "version": 3
   },
   "file_extension": ".py",
   "mimetype": "text/x-python",
   "name": "python",
   "nbconvert_exporter": "python",
   "pygments_lexer": "ipython3",
   "version": "3.8.19"
  }
 },
 "nbformat": 4,
 "nbformat_minor": 2
}
