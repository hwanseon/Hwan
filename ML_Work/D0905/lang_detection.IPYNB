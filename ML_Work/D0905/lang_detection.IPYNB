{
 "cells": [
  {
   "cell_type": "markdown",
   "metadata": {},
   "source": [
    "#### 알파벳 기반 언어 식별 모델\n",
    "- 데이터셋 : lang.zip 사용해서 생성 -> csv, json, ....\n",
    "- 학습방법 : 지도학습 > 분류 > 다중분류\n",
    "- 알고리즘 : 다양하게"
   ]
  },
  {
   "cell_type": "markdown",
   "metadata": {},
   "source": [
    "[1] 모듈 로딩 및 데이터 준비"
   ]
  },
  {
   "cell_type": "code",
   "execution_count": 52,
   "metadata": {},
   "outputs": [],
   "source": [
    "# 모듈로딩\n",
    "import pandas as pd\n",
    "import os\n",
    "from collections import Counter"
   ]
  },
  {
   "cell_type": "code",
   "execution_count": 53,
   "metadata": {},
   "outputs": [],
   "source": [
    "# Data FIle\n",
    "TRAIN_PATH = \"./data/lang/train/\"\n",
    "TEST_PATH = \"./data/lang/test/\"\n",
    "\n",
    "TRAIN_CSV = \"./data/lang_train.csv\"\n",
    "TEST_CSV = \"./data/lang_test.csv\""
   ]
  },
  {
   "cell_type": "code",
   "execution_count": 54,
   "metadata": {},
   "outputs": [],
   "source": [
    "# ffile = pd.read_table(TRAIN_PATH,sep=',') "
   ]
  },
  {
   "cell_type": "code",
   "execution_count": 55,
   "metadata": {},
   "outputs": [
    {
     "name": "stdout",
     "output_type": "stream",
     "text": [
      "./data/lang_train.csv파일이 없습니다.\n"
     ]
    }
   ],
   "source": [
    "# 파일 읽기 순서  => open() -> read(), readline(), readlines() ->  close()\n",
    "#                => with open()\n",
    "\n",
    "# 파일 존재 여부 검사\n",
    "\n",
    "if not os.path.exists(TRAIN_CSV) :\n",
    "    print(f\"{TRAIN_CSV}파일이 없습니다.\")\n",
    "else :\n",
    "    with open(TRAIN_CSV, mode= \"r\") as f:\n",
    "        alldata = f.read()\n",
    "        print(f\"[FIle Data] {alldata}\")"
   ]
  },
  {
   "cell_type": "code",
   "execution_count": 59,
   "metadata": {},
   "outputs": [
    {
     "name": "stdout",
     "output_type": "stream",
     "text": [
      "en-1.txt ./data/lang/train/en-1.txt True\n",
      "Label => en\n"
     ]
    },
    {
     "ename": "PermissionError",
     "evalue": "[Errno 13] Permission denied: './data/lang/train/'",
     "output_type": "error",
     "traceback": [
      "\u001b[1;31m---------------------------------------------------------------------------\u001b[0m",
      "\u001b[1;31mPermissionError\u001b[0m                           Traceback (most recent call last)",
      "Cell \u001b[1;32mIn[59], line 10\u001b[0m\n\u001b[0;32m      7\u001b[0m label \u001b[38;5;241m=\u001b[39m file[:\u001b[38;5;241m2\u001b[39m]\n\u001b[0;32m      8\u001b[0m \u001b[38;5;28mprint\u001b[39m(\u001b[38;5;124mf\u001b[39m\u001b[38;5;124m\"\u001b[39m\u001b[38;5;124mLabel => \u001b[39m\u001b[38;5;132;01m{\u001b[39;00mlabel\u001b[38;5;132;01m}\u001b[39;00m\u001b[38;5;124m\"\u001b[39m)\n\u001b[1;32m---> 10\u001b[0m \u001b[38;5;28;01mwith\u001b[39;00m \u001b[38;5;28;43mopen\u001b[39;49m\u001b[43m(\u001b[49m\u001b[43mTRAIN_PATH\u001b[49m\u001b[43m,\u001b[49m\u001b[43m \u001b[49m\u001b[43mmode\u001b[49m\u001b[43m \u001b[49m\u001b[38;5;241;43m=\u001b[39;49m\u001b[43m \u001b[49m\u001b[38;5;124;43m\"\u001b[39;49m\u001b[38;5;124;43mr\u001b[39;49m\u001b[38;5;124;43m\"\u001b[39;49m\u001b[43m)\u001b[49m \u001b[38;5;28;01mas\u001b[39;00m f:\n\u001b[0;32m     11\u001b[0m     alldata \u001b[38;5;241m=\u001b[39m f\u001b[38;5;241m.\u001b[39mread()\n\u001b[0;32m     13\u001b[0m \u001b[38;5;66;03m# 대소문자 통일\u001b[39;00m\n",
      "File \u001b[1;32mc:\\Users\\hwans\\anaconda3\\envs\\ML_38\\lib\\site-packages\\IPython\\core\\interactiveshell.py:284\u001b[0m, in \u001b[0;36m_modified_open\u001b[1;34m(file, *args, **kwargs)\u001b[0m\n\u001b[0;32m    277\u001b[0m \u001b[38;5;28;01mif\u001b[39;00m file \u001b[38;5;129;01min\u001b[39;00m {\u001b[38;5;241m0\u001b[39m, \u001b[38;5;241m1\u001b[39m, \u001b[38;5;241m2\u001b[39m}:\n\u001b[0;32m    278\u001b[0m     \u001b[38;5;28;01mraise\u001b[39;00m \u001b[38;5;167;01mValueError\u001b[39;00m(\n\u001b[0;32m    279\u001b[0m         \u001b[38;5;124mf\u001b[39m\u001b[38;5;124m\"\u001b[39m\u001b[38;5;124mIPython won\u001b[39m\u001b[38;5;124m'\u001b[39m\u001b[38;5;124mt let you open fd=\u001b[39m\u001b[38;5;132;01m{\u001b[39;00mfile\u001b[38;5;132;01m}\u001b[39;00m\u001b[38;5;124m by default \u001b[39m\u001b[38;5;124m\"\u001b[39m\n\u001b[0;32m    280\u001b[0m         \u001b[38;5;124m\"\u001b[39m\u001b[38;5;124mas it is likely to crash IPython. If you know what you are doing, \u001b[39m\u001b[38;5;124m\"\u001b[39m\n\u001b[0;32m    281\u001b[0m         \u001b[38;5;124m\"\u001b[39m\u001b[38;5;124myou can use builtins\u001b[39m\u001b[38;5;124m'\u001b[39m\u001b[38;5;124m open.\u001b[39m\u001b[38;5;124m\"\u001b[39m\n\u001b[0;32m    282\u001b[0m     )\n\u001b[1;32m--> 284\u001b[0m \u001b[38;5;28;01mreturn\u001b[39;00m \u001b[43mio_open\u001b[49m\u001b[43m(\u001b[49m\u001b[43mfile\u001b[49m\u001b[43m,\u001b[49m\u001b[43m \u001b[49m\u001b[38;5;241;43m*\u001b[39;49m\u001b[43margs\u001b[49m\u001b[43m,\u001b[49m\u001b[43m \u001b[49m\u001b[38;5;241;43m*\u001b[39;49m\u001b[38;5;241;43m*\u001b[39;49m\u001b[43mkwargs\u001b[49m\u001b[43m)\u001b[49m\n",
      "\u001b[1;31mPermissionError\u001b[0m: [Errno 13] Permission denied: './data/lang/train/'"
     ]
    }
   ],
   "source": [
    "# 폴더 안에 파일 및 폴더를 가져오기\n",
    "# listdir은 파일 리스트를 가져옴\n",
    "files = os.listdir(TRAIN_PATH)\n",
    "\n",
    "for file in files :\n",
    "    print(file, TRAIN_PATH+file, os.path.exists(TRAIN_PATH+file))\n",
    "    label = file[:2]\n",
    "    print(f\"Label => {label}\")\n",
    "\n",
    "    with open(TRAIN_PATH, mode = \"r\") as f:\n",
    "        alldata = f.read()\n",
    "\n",
    "    # 대소문자 통일\n",
    "    alldata = alldata.lower()\n",
    "    print(f\"alldata => {alldata}\")\n",
    "\n",
    "    # 알파벳이; 아닌 문자들 제거 및 줄바꿈 제거\n",
    "    alldata = alldata.replace(\"\\n\", \"\")\n",
    "    print(f\"alldata => {len(alldata)}\")\n",
    "\n",
    "    for ch in alldata :\n",
    "        if ord(\"a\") > ord(ch) or ord(ch) > ord(\"z\") :\n",
    "            alldata = alldata.replace(\"\\n\", \"\")\n",
    "    print(f\"alldata => {len(alldata)}\")\n",
    "\n",
    "    # a ~ z까지 개수 카운팅\n",
    "    Counter(alldata)\n",
    "    # data = {}\n",
    "    # for ch in alldata :\n",
    "    #     if ch in data :\n",
    "    #         data[ch] = data[ch] + 1\n",
    "    #     else :\n",
    "    #         data[ch] = 1\n",
    "    # print(data)\n",
    "\n",
    "    break"
   ]
  },
  {
   "cell_type": "code",
   "execution_count": null,
   "metadata": {},
   "outputs": [],
   "source": [
    "from collections import Counter\n",
    "Counter(\"abcabcabca\")"
   ]
  },
  {
   "cell_type": "code",
   "execution_count": null,
   "metadata": {},
   "outputs": [],
   "source": [
    "\"abcabcabca\".count(\"a\")"
   ]
  }
 ],
 "metadata": {
  "kernelspec": {
   "display_name": "ML_38",
   "language": "python",
   "name": "python3"
  },
  "language_info": {
   "codemirror_mode": {
    "name": "ipython",
    "version": 3
   },
   "file_extension": ".py",
   "mimetype": "text/x-python",
   "name": "python",
   "nbconvert_exporter": "python",
   "pygments_lexer": "ipython3",
   "version": "3.8.19"
  }
 },
 "nbformat": 4,
 "nbformat_minor": 2
}
