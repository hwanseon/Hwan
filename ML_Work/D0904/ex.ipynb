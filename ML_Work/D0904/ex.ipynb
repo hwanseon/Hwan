{
 "cells": [
  {
   "cell_type": "markdown",
   "metadata": {},
   "source": [
    "Decceision Tree\n",
    "- 버전 : C3.0, C4.5, C5.0 CART\n",
    "- CART : 범주형, 수치형 => 모두 회귀, 분류 처리\n",
    "    - skleaarn 패키지는 범주형 변수 처리를 지원하지 않음 => 범주형 데이터는 Encoding을 해야함\n",
    "    - LabelEncoder => 0, 1 .... 1D: y, target\n",
    "    - OrdinalEncoder => 0, 1 ... 2D\n",
    "    - OneHot Encoder => 1이 하나인 패턴 2D"
   ]
  },
  {
   "cell_type": "markdown",
   "metadata": {},
   "source": [
    "KNN\n",
    "- Linear-model : LinearRegression => 다중(Feature가 여러개), 다항(곡선)\n",
    "                                     \n",
    "                                     => 과대적합 ==> 모델 직접 제어 즉, 규제 : 1. 릿지(영향력이 낮은 피쳐의 coef_를 0에 가깝게) 2. 라쏘 (영향력이 낮은 피쳐의 coef_를 0으로)\n",
    "                                      \n",
    "                                     => 분류 ==> 선형식 결과 ==> 확률값으로 로지스틱 회귀\n",
    "                                      - OvR / OvA : 2진 분류기를 여러개 => 5개\n",
    "                                      - OvO : 2진 분류기를 여러개 => 클래스 수 * (클래스 수 -1)/2\n",
    "                                      \n",
    "- Tree-model : DecisionTree (CART) => 회귀/분류 : 범주형/수치형\n",
    "- Ensemble - model : Voting, Bagging -> RandomForestC/R"
   ]
  }
 ],
 "metadata": {
  "kernelspec": {
   "display_name": "base",
   "language": "python",
   "name": "python3"
  },
  "language_info": {
   "name": "python",
   "version": "3.11.7"
  }
 },
 "nbformat": 4,
 "nbformat_minor": 2
}
