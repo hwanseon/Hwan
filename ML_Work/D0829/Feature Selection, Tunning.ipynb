{
 "cells": [
  {
   "cell_type": "markdown",
   "metadata": {},
   "source": [
    "#### Feature Selection \n",
    "- Filterling 방법\n",
    "  - 타겟/종속변수에 관련성이 높은 피쳐/독립변수 선택\n",
    "  - 상관계수\n",
    "  - 몇개 ? k개 -> 점진저긍로 늘려가기\n",
    "   \n",
    "    \n",
    "- Wrapper 방법\n",
    "  - Forword 방식 : 기준에 따라 k개의 피처를 선택 -> 성능평가 (성능평가 결과가 나쁜 경우) -> 피쳐 추가\n",
    "  -                                              [        성능이 좋아질때까지 반복          ]   \n",
    "  - Backward 방식 : 모든 피처 선택 -> 성능 평가 -> 피처 제거\n",
    "  -                                  [  성능이 좋아질 때까지 반복 ]\n",
    "  - Step-Wide 방식 : Forward + Backward\n",
    "    \n",
    "     \n",
    "- Embedding 방법\n",
    "  - 모델 내부에 피처 선택 기능이 포함된 것 ==> important Feature, 주성분분석(PCA) "
   ]
  },
  {
   "cell_type": "markdown",
   "metadata": {},
   "source": [
    "#### Tunning \n",
    "- 튜닝을 하는 이유 : 모델의 성능을 높이기 위해\n",
    " \n",
    "- 모델의 성능 높이기\n",
    "  - scikit-learn에서 모델 인스턴스의 score 메서드\n",
    "  - 모델을 평가기준이 되는 성능지표 => 분류/회귀에 따라 다름\n",
    "     - 성능지표에 따라서 결정계수 값은 높게, 오류(오차)는 낮게 \n",
    "\n",
    "- 모델 성능에 영향을 미치는 매개변수 -> 하이퍼파라미터 (Hyper-parameter) \n",
    "  - KNN -> K 개수 (K값 조절 가능)\n",
    "  - LinearRegression -> 가중치, 기울기 초기화 값, 규제 \n",
    " ==> 즉, 모델마다(학습 알고리즘마다) Hyper-parameter 값이 다르다 !!\n",
    " \n",
    "- 피쳐 제어 (Data가 적당하는 가정하에 진행되어야 함)\n",
    "  - 피쳐 개수 조절 가능\n",
    "  - 피처 추출 및 압축 가능\n",
    "\n",
    "\n",
    "=====> 결론 : 모델의 성능을 좋게 만들기 위해서 "
   ]
  },
  {
   "cell_type": "markdown",
   "metadata": {},
   "source": [
    "#### AutoML : Hyper-parameter의 값을 직접 찾아주는 함수"
   ]
  },
  {
   "cell_type": "markdown",
   "metadata": {},
   "source": [
    "#### 기계학습\n",
    "- Data 기반 -> 규칙/패턴 -> 수식 -> 모델 \n",
    "- 미래예측 => 정확한 정보 제공\n",
    "- 학승용 DataSet and Test DataSet => 따로 하는 것이 가장 이상적 BUT DataSet 부족으로 학습용 DataSet을 나눠서 테스트 진행"
   ]
  }
 ],
 "metadata": {
  "language_info": {
   "name": "python"
  }
 },
 "nbformat": 4,
 "nbformat_minor": 2
}
