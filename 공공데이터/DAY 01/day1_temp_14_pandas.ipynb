{
 "cells": [
  {
   "cell_type": "code",
   "execution_count": 17,
   "metadata": {},
   "outputs": [],
   "source": [
    "import\tpandas\tas\tpd"
   ]
  },
  {
   "cell_type": "code",
   "execution_count": 18,
   "metadata": {},
   "outputs": [
    {
     "name": "stdout",
     "output_type": "stream",
     "text": [
      "Index(['날짜', '지점', '평균기온(℃)', '최저기온(℃)', '최고기온(℃)'], dtype='object')\n",
      "object\n"
     ]
    }
   ],
   "source": [
    "weather_df\t=\tpd.read_csv('daegu-utf8.csv',\tencoding='utf-8-sig')\n",
    "print(weather_df.columns)\n",
    "print(weather_df['날짜'].dtype)"
   ]
  },
  {
   "cell_type": "code",
   "execution_count": 19,
   "metadata": {},
   "outputs": [
    {
     "name": "stdout",
     "output_type": "stream",
     "text": [
      "Index(['날짜', '지점', '평균기온', '최저기온', '최고기온'], dtype='object')\n"
     ]
    }
   ],
   "source": [
    "weather_df.columns=['날짜',\t'지점',\t'평균기온',\t'최저기온',\t'최고기온']\n",
    "print(weather_df.columns)"
   ]
  },
  {
   "cell_type": "code",
   "execution_count": 20,
   "metadata": {},
   "outputs": [
    {
     "name": "stdout",
     "output_type": "stream",
     "text": [
      "datetime64[ns]\n"
     ]
    }
   ],
   "source": [
    "weather_df['날짜']\t=\tpd.to_datetime(weather_df['날짜'],\tformat='%Y-%m-%d')\n",
    "print(weather_df['날짜'].dtype)"
   ]
  },
  {
   "cell_type": "code",
   "execution_count": 21,
   "metadata": {},
   "outputs": [
    {
     "name": "stdout",
     "output_type": "stream",
     "text": [
      "          날짜     지점  평균기온  최저기온  최고기온\n",
      "0 1907-01-31  143.0   NaN  -7.0   0.8\n",
      "1 1907-02-01  143.0   NaN   NaN   NaN\n",
      "2 1907-02-02  143.0   NaN   NaN   NaN\n",
      "3 1907-02-03  143.0   NaN   NaN   NaN\n",
      "4 1907-02-04  143.0   NaN   NaN   NaN\n",
      "(42887, 5)\n",
      "날짜        1\n",
      "지점        1\n",
      "평균기온    704\n",
      "최저기온    630\n",
      "최고기온    632\n",
      "dtype: int64\n"
     ]
    }
   ],
   "source": [
    "print(weather_df.head(5))\n",
    "print(weather_df.shape)\n",
    "num_rows\t=\tweather_df.shape[0]\t#\tshape(row,\tcol),\tshape[0]:\trow의 개수\n",
    "num_missing\t=\tnum_rows\t-\tweather_df.count()\t#\tcount():\t정상값의 개수\n",
    "print(num_missing)"
   ]
  },
  {
   "cell_type": "code",
   "execution_count": 22,
   "metadata": {},
   "outputs": [
    {
     "name": "stdout",
     "output_type": "stream",
     "text": [
      "날짜      42180\n",
      "지점      42180\n",
      "평균기온    42180\n",
      "최저기온    42180\n",
      "최고기온    42180\n",
      "dtype: int64\n",
      "            날짜     지점  평균기온  최저기온  최고기온\n",
      "701 1909-01-01  143.0  -4.1  -8.0   0.1\n",
      "702 1909-01-02  143.0  -0.8  -6.7   6.1\n",
      "703 1909-01-03  143.0   1.0  -2.4   3.6\n",
      "704 1909-01-04  143.0   4.2   0.0   9.2\n",
      "705 1909-01-05  143.0   3.4  -0.4   9.0\n"
     ]
    }
   ],
   "source": [
    "weather_df\t=\tweather_df.dropna(axis=0)\n",
    "print(weather_df.count())\n",
    "print(weather_df.head(5))"
   ]
  },
  {
   "cell_type": "code",
   "execution_count": 23,
   "metadata": {},
   "outputs": [],
   "source": [
    " weather_df.to_csv('daegu-utf8-df.csv',\tindex=False,\tmode='w',\tencoding='utf-8-sig')"
   ]
  },
  {
   "cell_type": "code",
   "execution_count": 24,
   "metadata": {},
   "outputs": [
    {
     "name": "stdout",
     "output_type": "stream",
     "text": [
      "특정 연도와 달의 최고, 최저 기온 평균값 계산\n",
      "              날짜     지점  평균기온  최저기온  최고기온\n",
      "42551 2023-08-01  143.0  29.7  24.9  34.8\n",
      "42552 2023-08-02  143.0  30.0  23.9  34.7\n",
      "42553 2023-08-03  143.0  31.5  27.0  37.7\n",
      "42554 2023-08-04  143.0  30.5  26.0  34.7\n",
      "42555 2023-08-05  143.0  31.5  25.7  37.2\n"
     ]
    }
   ],
   "source": [
    "print(\"특정 연도와 달의 최고, 최저 기온 평균값 계산\")\n",
    "year_df\t= weather_df[weather_df['날짜'].dt.year\t== 2023]\n",
    "month_df = year_df[year_df['날짜'].dt.month ==\t8]\n",
    "print(month_df.head())"
   ]
  },
  {
   "cell_type": "code",
   "execution_count": 25,
   "metadata": {},
   "outputs": [
    {
     "name": "stdout",
     "output_type": "stream",
     "text": [
      "2023년 8월 최저기온 평균:24.0,\t최고기온 평균 :31.9\n"
     ]
    }
   ],
   "source": [
    "max_temp_mean\t=\tround(month_df['최고기온'].mean(),\t1)\n",
    "min_temp_mean\t=\tround(month_df['최저기온'].mean(),\t1)\n",
    "\n",
    "print(f'2023년 8월 최저기온 평균:{min_temp_mean},\t최고기온 평균 :{max_temp_mean}')"
   ]
  },
  {
   "cell_type": "code",
   "execution_count": 26,
   "metadata": {},
   "outputs": [],
   "source": [
    " def draw_two_plots(title,\tx_data,\tmax_temp_list1,\tlabel_y1,\tmax_temp_list2,\tlabel_y2):\n",
    "\n",
    "    plt.rcParams['axes.unicode_minus']\t=\tFalse\t\t\n",
    "    plt.figure(figsize=(10,\t4))\n",
    "    plt.plot(x_data, max_temp_list1, marker='s', markersize=6, color='b', label=label_y1)\n",
    "    plt.plot(x_data,max_temp_list2,\tmarker='s',\tmarkersize=6, color='r', label=label_y2)\n",
    "    plt.xticks(x_data)\t\n",
    "    plt.title(title)\n",
    "    plt.legend()\n",
    "    plt.show()"
   ]
  },
  {
   "cell_type": "code",
   "execution_count": 27,
   "metadata": {},
   "outputs": [],
   "source": [
    "def\tmain():\n",
    "    search_month = int(input(\"비교할 월을 입력하세요:\t\"))\n",
    "    weather_df = pd.read_csv('daegu-utf8-df.csv', encoding='utf-8-sig')\n",
    "    weather_df['날짜'] = pd.to_datetime(weather_df['날짜'], format='%Y-%m-%d')\n",
    "    first_decade_max_temp_list\t= [0] * 10\n",
    "    second_decade_max_temp_list\t= [0] * 10\n",
    "    first_decade = 1990\n",
    "    second_decade = 2010\n",
    "    for\tyear in\trange(10):\n",
    "        first_decade_df\t= weather_df[(weather_df['날짜'].dt.year == first_decade+year)\t&\n",
    "                                        (weather_df['날짜'].dt.month\t==\tsearch_month)]\n",
    "        first_decade_max_temp_list[year] = round(first_decade_df['최고기온'].mean(), 1)\n",
    "        second_decade_df = weather_df[(weather_df['날짜'].dt.year == second_decade + year)\t&\n",
    "                                        (weather_df['날짜'].dt.month\t==\tsearch_month)]\n",
    "        second_decade_max_temp_list[year]\t=\tround(second_decade_df['최고기온'].mean(),\t1)\n",
    "    print(f'{first_decade}년대 {search_month}월 최고 기온 평균:\t{first_decade_max_temp_list}')\n",
    "    print(f'{second_decade}년대 {search_month}월 최고 기온 평균:\t{second_decade_max_temp_list}')"
   ]
  },
  {
   "cell_type": "code",
   "execution_count": 28,
   "metadata": {},
   "outputs": [
    {
     "ename": "NameError",
     "evalue": "name 'first_decade_max_temp_list' is not defined",
     "output_type": "error",
     "traceback": [
      "\u001b[1;31m---------------------------------------------------------------------------\u001b[0m",
      "\u001b[1;31mNameError\u001b[0m                                 Traceback (most recent call last)",
      "Cell \u001b[1;32mIn[28], line 1\u001b[0m\n\u001b[1;32m----> 1\u001b[0m first_decade_high_temp_mean\t\u001b[38;5;241m=\u001b[39m \u001b[38;5;28mround\u001b[39m(\u001b[38;5;28msum\u001b[39m(\u001b[43mfirst_decade_max_temp_list\u001b[49m)\u001b[38;5;241m/\u001b[39m\n\u001b[0;32m      2\u001b[0m                                         \u001b[38;5;28mlen\u001b[39m(first_decade_max_temp_list), \u001b[38;5;241m1\u001b[39m)\n\u001b[0;32m      3\u001b[0m second_decade_high_temp_mean \u001b[38;5;241m=\u001b[39m \u001b[38;5;28mround\u001b[39m(\u001b[38;5;28msum\u001b[39m(second_decade_max_temp_list)\u001b[38;5;241m/\u001b[39m\n\u001b[0;32m      4\u001b[0m                                         \u001b[38;5;28mlen\u001b[39m(second_decade_max_temp_list), \u001b[38;5;241m1\u001b[39m)\n\u001b[0;32m      5\u001b[0m \u001b[38;5;28mprint\u001b[39m(\u001b[38;5;124mf\u001b[39m\u001b[38;5;124m\"\u001b[39m\u001b[38;5;132;01m{\u001b[39;00mfirst_decade\u001b[38;5;132;01m}\u001b[39;00m\u001b[38;5;124m년대 \u001b[39m\u001b[38;5;132;01m{\u001b[39;00msearch_month\u001b[38;5;132;01m}\u001b[39;00m\u001b[38;5;124m월 전체 최고 기온 평균: \u001b[39m\u001b[38;5;132;01m{\u001b[39;00mfirst_decade_high_temp_mean\u001b[38;5;132;01m}\u001b[39;00m\u001b[38;5;124m\"\u001b[39m)\n",
      "\u001b[1;31mNameError\u001b[0m: name 'first_decade_max_temp_list' is not defined"
     ]
    }
   ],
   "source": [
    "first_decade_high_temp_mean\t= round(sum(first_decade_max_temp_list)/\n",
    "                                        len(first_decade_max_temp_list), 1)\n",
    "second_decade_high_temp_mean = round(sum(second_decade_max_temp_list)/\n",
    "                                        len(second_decade_max_temp_list), 1)\n",
    "print(f\"{first_decade}년대 {search_month}월 전체 최고 기온 평균: {first_decade_high_temp_mean}\")\n",
    "print(f\"{second_decade}년대 {search_month}월 전체 최고 기온 평균: {second_decade_high_temp_mean}\")\n",
    "x_data = [i\tfor\ti in range(10)]\n",
    "draw_two_plots(f'{search_month}월 최고 기온 비교',\tx_data,\n",
    "                first_decade_max_temp_list,\tstr(first_decade)+'년대',\n",
    "                second_decade_max_temp_list,\tstr(second_decade)+\t'년대')\n",
    "\n",
    "main()"
   ]
  }
 ],
 "metadata": {
  "kernelspec": {
   "display_name": "py39",
   "language": "python",
   "name": "python3"
  },
  "language_info": {
   "codemirror_mode": {
    "name": "ipython",
    "version": 3
   },
   "file_extension": ".py",
   "mimetype": "text/x-python",
   "name": "python",
   "nbconvert_exporter": "python",
   "pygments_lexer": "ipython3",
   "version": "3.9.19"
  }
 },
 "nbformat": 4,
 "nbformat_minor": 2
}
