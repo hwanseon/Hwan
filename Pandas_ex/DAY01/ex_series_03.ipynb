{
 "cells": [
  {
   "cell_type": "markdown",
   "metadata": {},
   "source": [
    "### Series Data 자료형\n",
    "- 판다스에서 1줄 데이터 저장하는 자료형\n",
    "- 구성 : 인덱스 + 데이터"
   ]
  },
  {
   "cell_type": "code",
   "execution_count": 1,
   "metadata": {},
   "outputs": [],
   "source": [
    "# 모듈 로딩\n",
    "import pandas as pd"
   ]
  },
  {
   "cell_type": "code",
   "execution_count": 2,
   "metadata": {},
   "outputs": [],
   "source": [
    "# Data 준비\n",
    "jumsu = {\"korea\":98, \"english\":100, \"pe\": 100, \"scien\":99}"
   ]
  },
  {
   "cell_type": "code",
   "execution_count": 4,
   "metadata": {},
   "outputs": [],
   "source": [
    "# 시리즈 객체 생성\n",
    "score = pd.Series(jumsu)"
   ]
  },
  {
   "cell_type": "code",
   "execution_count": 5,
   "metadata": {},
   "outputs": [
    {
     "data": {
      "text/plain": [
       "korea       98\n",
       "english    100\n",
       "pe         100\n",
       "scien       99\n",
       "dtype: int64"
      ]
     },
     "execution_count": 5,
     "metadata": {},
     "output_type": "execute_result"
    }
   ],
   "source": [
    "score"
   ]
  },
  {
   "cell_type": "code",
   "execution_count": 6,
   "metadata": {},
   "outputs": [
    {
     "name": "stdout",
     "output_type": "stream",
     "text": [
      "index :  Index(['korea', 'english', 'pe', 'scien'], dtype='object')\n",
      "values :  [ 98 100 100  99]\n",
      "dtype :  int64\n",
      "ndim :  1\n"
     ]
    }
   ],
   "source": [
    "# 시리즈 객체의 속성 출력 => index, values, dtype, ndim\n",
    "print(\"index : \", score.index)\n",
    "print(\"values : \", score.values)\n",
    "print(\"dtype : \", score.dtype)\n",
    "print(\"ndim : \", score.ndim)"
   ]
  },
  {
   "cell_type": "code",
   "execution_count": 7,
   "metadata": {},
   "outputs": [
    {
     "data": {
      "text/plain": [
       "98"
      ]
     },
     "execution_count": 7,
     "metadata": {},
     "output_type": "execute_result"
    }
   ],
   "source": [
    "## 원소 읽기 ------------------\n",
    "# 1개 원소 읽기\n",
    "score['korea']"
   ]
  },
  {
   "cell_type": "code",
   "execution_count": 8,
   "metadata": {},
   "outputs": [
    {
     "data": {
      "text/plain": [
       "korea    98\n",
       "scien    99\n",
       "dtype: int64"
      ]
     },
     "execution_count": 8,
     "metadata": {},
     "output_type": "execute_result"
    }
   ],
   "source": [
    "## 2개 원소 읽기\n",
    "score[['korea', \"scien\"]]"
   ]
  },
  {
   "cell_type": "code",
   "execution_count": 10,
   "metadata": {},
   "outputs": [
    {
     "data": {
      "text/plain": [
       "korea       98\n",
       "english    100\n",
       "pe         100\n",
       "dtype: int64"
      ]
     },
     "execution_count": 10,
     "metadata": {},
     "output_type": "execute_result"
    }
   ],
   "source": [
    "# 국어, 영어, 체육 점수 읽기 => 슬라이싱\n",
    "# 정수 인덱스일 경우 => [시작 : 끝+1]\n",
    "# 정수가 아닌 인덱스인 경우 (즉, 문자 인덱스) => [시작:끝]\n",
    "score[\"korea\":\"scien\"]\n",
    "score[\"korea\":\"pe\"]"
   ]
  },
  {
   "cell_type": "code",
   "execution_count": 13,
   "metadata": {},
   "outputs": [
    {
     "data": {
      "text/plain": [
       "korea     98\n",
       "pe       100\n",
       "dtype: int64"
      ]
     },
     "execution_count": 13,
     "metadata": {},
     "output_type": "execute_result"
    }
   ],
   "source": [
    "# 국어, 체욱 점수 읽기 => 슬라이싱 [시작:끝:간격]\n",
    "score[\"korea\":\"pe\":2]\n",
    "score[0:3:2]"
   ]
  },
  {
   "cell_type": "markdown",
   "metadata": {},
   "source": [
    "- [인덱스 & 인덱스레이블/네임]\n",
    ": 원소/요소를 식별하기 위한 속성"
   ]
  },
  {
   "cell_type": "code",
   "execution_count": 15,
   "metadata": {},
   "outputs": [
    {
     "data": {
      "text/plain": [
       "Index(['korea', 'english', 'pe', 'scien'], dtype='object')"
      ]
     },
     "execution_count": 15,
     "metadata": {},
     "output_type": "execute_result"
    }
   ],
   "source": [
    "## 인덱스 속성 ==> 변수명.index\n",
    "score.index"
   ]
  },
  {
   "cell_type": "code",
   "execution_count": 19,
   "metadata": {},
   "outputs": [
    {
     "name": "stdout",
     "output_type": "stream",
     "text": [
      "98 98 98\n",
      "100 100 100\n"
     ]
    },
    {
     "name": "stderr",
     "output_type": "stream",
     "text": [
      "C:\\Users\\hwans\\AppData\\Local\\Temp\\ipykernel_68080\\1812817249.py:1: FutureWarning: Series.__getitem__ treating keys as positions is deprecated. In a future version, integer keys will always be treated as labels (consistent with DataFrame behavior). To access a value by position, use `ser.iloc[pos]`\n",
      "  print(score['korea'], score[0], score.iloc[0])\n",
      "C:\\Users\\hwans\\AppData\\Local\\Temp\\ipykernel_68080\\1812817249.py:2: FutureWarning: Series.__getitem__ treating keys as positions is deprecated. In a future version, integer keys will always be treated as labels (consistent with DataFrame behavior). To access a value by position, use `ser.iloc[pos]`\n",
      "  print(score['pe'], score[2], score.iloc[2])\n"
     ]
    }
   ],
   "source": [
    "print(score['korea'], score[0], score.iloc[0]) # iloc 정수 인덱스로 접근\n",
    "print(score['pe'], score[2], score.iloc[2])\n"
   ]
  }
 ],
 "metadata": {
  "kernelspec": {
   "display_name": "py39",
   "language": "python",
   "name": "python3"
  },
  "language_info": {
   "codemirror_mode": {
    "name": "ipython",
    "version": 3
   },
   "file_extension": ".py",
   "mimetype": "text/x-python",
   "name": "python",
   "nbconvert_exporter": "python",
   "pygments_lexer": "ipython3",
   "version": "3.9.19"
  }
 },
 "nbformat": 4,
 "nbformat_minor": 2
}
