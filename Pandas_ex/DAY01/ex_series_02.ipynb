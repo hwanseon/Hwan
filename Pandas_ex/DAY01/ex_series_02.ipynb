{
 "cells": [
  {
   "cell_type": "markdown",
   "metadata": {},
   "source": [
    "### Series Data 자료형\n",
    "- 판다스에서 1줄의 데이터를 저장한느 자료형 / 데이터 타입 \n",
    "- 형식: pandas.Series()\n",
    "- 구성: Index+Data"
   ]
  },
  {
   "cell_type": "code",
   "execution_count": 4,
   "metadata": {},
   "outputs": [],
   "source": [
    "# 모듈 로딩\n",
    "import pandas as pd"
   ]
  },
  {
   "cell_type": "code",
   "execution_count": 5,
   "metadata": {},
   "outputs": [],
   "source": [
    "# 데이터 준비\n",
    "data1 = [\"A\", \"B\", \"C\"]\n",
    "data2 = {'name':'kim', 'age':20}"
   ]
  },
  {
   "cell_type": "code",
   "execution_count": 6,
   "metadata": {},
   "outputs": [],
   "source": [
    "# 시리즈 객체 생성\n",
    "sr1 = pd.Series(data1)\n",
    "sr2 = pd.Series(data2)"
   ]
  },
  {
   "cell_type": "code",
   "execution_count": 8,
   "metadata": {},
   "outputs": [
    {
     "data": {
      "text/plain": [
       "0    A\n",
       "1    B\n",
       "2    C\n",
       "dtype: object"
      ]
     },
     "execution_count": 8,
     "metadata": {},
     "output_type": "execute_result"
    }
   ],
   "source": [
    "# 생성된 데이터 확인\n",
    "sr1"
   ]
  },
  {
   "cell_type": "code",
   "execution_count": 11,
   "metadata": {},
   "outputs": [
    {
     "data": {
      "text/plain": [
       "name    kim\n",
       "age      20\n",
       "dtype: object"
      ]
     },
     "execution_count": 11,
     "metadata": {},
     "output_type": "execute_result"
    }
   ],
   "source": [
    "sr2 # dict은 key가 인덱스, values가 값으로 "
   ]
  },
  {
   "cell_type": "code",
   "execution_count": 14,
   "metadata": {},
   "outputs": [
    {
     "name": "stdout",
     "output_type": "stream",
     "text": [
      "Index :  RangeIndex(start=0, stop=3, step=1)\n",
      "Values :  ['A' 'B' 'C']\n",
      "dtype :  object\n",
      "ndim :  1\n"
     ]
    }
   ],
   "source": [
    "# [list 데이터] 생성된 시르즈 객체 속성 확인 \n",
    "# 여러개 출력일땐 print 써줘야함\n",
    "print(\"Index : \", sr1.index)\n",
    "print(\"Values : \",sr1.values)\n",
    "print(\"dtype : \",sr1.dtype)\n",
    "print(\"ndim : \",sr1.ndim)"
   ]
  },
  {
   "cell_type": "code",
   "execution_count": 15,
   "metadata": {},
   "outputs": [
    {
     "name": "stdout",
     "output_type": "stream",
     "text": [
      "Index :  Index(['name', 'age'], dtype='object')\n",
      "Values :  ['kim' 20]\n",
      "dtype :  object\n",
      "ndim :  1\n"
     ]
    }
   ],
   "source": [
    "# [dict 데이터] 생성된 시르즈 객체 속성 확인\n",
    "print(\"Index : \", sr2.index)\n",
    "print(\"Values : \",sr2.values)\n",
    "print(\"dtype : \",sr2.dtype)\n",
    "print(\"ndim : \",sr2.ndim)"
   ]
  },
  {
   "cell_type": "code",
   "execution_count": 18,
   "metadata": {},
   "outputs": [
    {
     "name": "stdout",
     "output_type": "stream",
     "text": [
      "A B C\n"
     ]
    }
   ],
   "source": [
    "## 시리즈 객체의 원소/요소 읽기 ==> 변수명[인덱스]\n",
    "## sr1 객체의 원소 읽기\n",
    "print(sr1[0], sr1[1], sr1[2])  \n",
    "# sr1[-1] : 음수 인덱스는 사용 불가능 "
   ]
  },
  {
   "cell_type": "code",
   "execution_count": 21,
   "metadata": {},
   "outputs": [
    {
     "name": "stdout",
     "output_type": "stream",
     "text": [
      "kim 20\n"
     ]
    }
   ],
   "source": [
    "## sr2 객체의 원소 읽기\n",
    "print(sr2[\"name\"], sr2[\"age\"])  "
   ]
  },
  {
   "cell_type": "code",
   "execution_count": 28,
   "metadata": {},
   "outputs": [
    {
     "name": "stdout",
     "output_type": "stream",
     "text": [
      "A B\n",
      "<class 'str'> <class 'str'>\n",
      "0    A\n",
      "2    C\n",
      "dtype: object\n",
      "<class 'pandas.core.series.Series'>\n"
     ]
    }
   ],
   "source": [
    "## sr1 객체에서 2개의 원소 읽어보기\n",
    "# - 0번 원소와 2번 원소 읽기\n",
    "print(sr1[0], sr1[1]) # 1개씩 따로따로\n",
    "print(type(sr1[0]), type(sr1[2]))\n",
    "\n",
    "print(sr1[[0,2]])     # 2개 한번에 // 내가 가지고 오고 싶은걸 리스트에 담아서 가져옴 ==> 결과가 시리즈\n",
    "print(type(sr1[[0,2]]))"
   ]
  },
  {
   "cell_type": "code",
   "execution_count": 31,
   "metadata": {},
   "outputs": [
    {
     "data": {
      "text/plain": [
       "0    A\n",
       "1    B\n",
       "dtype: object"
      ]
     },
     "execution_count": 31,
     "metadata": {},
     "output_type": "execute_result"
    }
   ],
   "source": [
    "## 시리즈 객체의 원소/요소 읽기 ==> 변수명[슬라이싱] = 변수명[시작:끝+1]\n",
    "sr1[0:2] # 출력 타입 : Series\n"
   ]
  },
  {
   "cell_type": "code",
   "execution_count": 33,
   "metadata": {},
   "outputs": [
    {
     "data": {
      "text/plain": [
       "0    A\n",
       "dtype: object"
      ]
     },
     "execution_count": 33,
     "metadata": {},
     "output_type": "execute_result"
    }
   ],
   "source": [
    "sr1[0:2:2]"
   ]
  },
  {
   "cell_type": "code",
   "execution_count": 35,
   "metadata": {},
   "outputs": [
    {
     "data": {
      "text/plain": [
       "0    A\n",
       "1    B\n",
       "dtype: object"
      ]
     },
     "execution_count": 35,
     "metadata": {},
     "output_type": "execute_result"
    }
   ],
   "source": [
    "sr1[:2]"
   ]
  },
  {
   "cell_type": "code",
   "execution_count": 36,
   "metadata": {},
   "outputs": [
    {
     "data": {
      "text/plain": [
       "0    A\n",
       "1    B\n",
       "2    C\n",
       "dtype: object"
      ]
     },
     "execution_count": 36,
     "metadata": {},
     "output_type": "execute_result"
    }
   ],
   "source": [
    "sr1[:] # 처음부터 끝까지"
   ]
  }
 ],
 "metadata": {
  "kernelspec": {
   "display_name": "py39",
   "language": "python",
   "name": "python3"
  },
  "language_info": {
   "codemirror_mode": {
    "name": "ipython",
    "version": 3
   },
   "file_extension": ".py",
   "mimetype": "text/x-python",
   "name": "python",
   "nbconvert_exporter": "python",
   "pygments_lexer": "ipython3",
   "version": "3.9.19"
  }
 },
 "nbformat": 4,
 "nbformat_minor": 2
}
