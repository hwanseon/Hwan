{
 "cells": [
  {
   "cell_type": "markdown",
   "metadata": {},
   "source": [
    "### [그룹화 처리]\n",
    "- 주제: 타이타닉에서 선실에 등급에 따른 생존 비율"
   ]
  },
  {
   "cell_type": "code",
   "execution_count": 2,
   "metadata": {},
   "outputs": [],
   "source": [
    "import pandas as pd\n",
    "import df_util as util"
   ]
  },
  {
   "cell_type": "code",
   "execution_count": 3,
   "metadata": {},
   "outputs": [],
   "source": [
    "file1 = \"titanic.csv\""
   ]
  },
  {
   "cell_type": "code",
   "execution_count": 4,
   "metadata": {},
   "outputs": [],
   "source": [
    "dataDF = pd.read_csv(file1)"
   ]
  },
  {
   "cell_type": "code",
   "execution_count": 5,
   "metadata": {},
   "outputs": [
    {
     "name": "stdout",
     "output_type": "stream",
     "text": [
      "\n",
      "[dataDF]\n",
      "<class 'pandas.core.frame.DataFrame'>\n",
      "RangeIndex: 891 entries, 0 to 890\n",
      "Data columns (total 15 columns):\n",
      " #   Column       Non-Null Count  Dtype  \n",
      "---  ------       --------------  -----  \n",
      " 0   survived     891 non-null    int64  \n",
      " 1   pclass       891 non-null    int64  \n",
      " 2   sex          891 non-null    object \n",
      " 3   age          714 non-null    float64\n",
      " 4   sibsp        891 non-null    int64  \n",
      " 5   parch        891 non-null    int64  \n",
      " 6   fare         891 non-null    float64\n",
      " 7   embarked     889 non-null    object \n",
      " 8   class        891 non-null    object \n",
      " 9   who          891 non-null    object \n",
      " 10  adult_male   891 non-null    bool   \n",
      " 11  deck         203 non-null    object \n",
      " 12  embark_town  889 non-null    object \n",
      " 13  alive        891 non-null    object \n",
      " 14  alone        891 non-null    bool   \n",
      "dtypes: bool(2), float64(2), int64(4), object(7)\n",
      "memory usage: 92.4+ KB\n",
      "[index] : RangeIndex(start=0, stop=891, step=1)\n",
      "[Columns] : Index(['survived', 'pclass', 'sex', 'age', 'sibsp', 'parch', 'fare',\n",
      "       'embarked', 'class', 'who', 'adult_male', 'deck', 'embark_town',\n",
      "       'alive', 'alone'],\n",
      "      dtype='object')\n",
      "[NDim] : 2\n"
     ]
    }
   ],
   "source": [
    "util.checkDataFrame(dataDF, \"dataDF\")"
   ]
  },
  {
   "cell_type": "code",
   "execution_count": 6,
   "metadata": {},
   "outputs": [
    {
     "data": {
      "text/html": [
       "<div>\n",
       "<style scoped>\n",
       "    .dataframe tbody tr th:only-of-type {\n",
       "        vertical-align: middle;\n",
       "    }\n",
       "\n",
       "    .dataframe tbody tr th {\n",
       "        vertical-align: top;\n",
       "    }\n",
       "\n",
       "    .dataframe thead th {\n",
       "        text-align: right;\n",
       "    }\n",
       "</style>\n",
       "<table border=\"1\" class=\"dataframe\">\n",
       "  <thead>\n",
       "    <tr style=\"text-align: right;\">\n",
       "      <th></th>\n",
       "      <th>pclass</th>\n",
       "      <th>alive</th>\n",
       "    </tr>\n",
       "  </thead>\n",
       "  <tbody>\n",
       "    <tr>\n",
       "      <th>0</th>\n",
       "      <td>3</td>\n",
       "      <td>no</td>\n",
       "    </tr>\n",
       "    <tr>\n",
       "      <th>1</th>\n",
       "      <td>1</td>\n",
       "      <td>yes</td>\n",
       "    </tr>\n",
       "    <tr>\n",
       "      <th>2</th>\n",
       "      <td>3</td>\n",
       "      <td>yes</td>\n",
       "    </tr>\n",
       "    <tr>\n",
       "      <th>3</th>\n",
       "      <td>1</td>\n",
       "      <td>yes</td>\n",
       "    </tr>\n",
       "    <tr>\n",
       "      <th>4</th>\n",
       "      <td>3</td>\n",
       "      <td>no</td>\n",
       "    </tr>\n",
       "    <tr>\n",
       "      <th>...</th>\n",
       "      <td>...</td>\n",
       "      <td>...</td>\n",
       "    </tr>\n",
       "    <tr>\n",
       "      <th>886</th>\n",
       "      <td>2</td>\n",
       "      <td>no</td>\n",
       "    </tr>\n",
       "    <tr>\n",
       "      <th>887</th>\n",
       "      <td>1</td>\n",
       "      <td>yes</td>\n",
       "    </tr>\n",
       "    <tr>\n",
       "      <th>888</th>\n",
       "      <td>3</td>\n",
       "      <td>no</td>\n",
       "    </tr>\n",
       "    <tr>\n",
       "      <th>889</th>\n",
       "      <td>1</td>\n",
       "      <td>yes</td>\n",
       "    </tr>\n",
       "    <tr>\n",
       "      <th>890</th>\n",
       "      <td>3</td>\n",
       "      <td>no</td>\n",
       "    </tr>\n",
       "  </tbody>\n",
       "</table>\n",
       "<p>891 rows × 2 columns</p>\n",
       "</div>"
      ],
      "text/plain": [
       "     pclass alive\n",
       "0         3    no\n",
       "1         1   yes\n",
       "2         3   yes\n",
       "3         1   yes\n",
       "4         3    no\n",
       "..      ...   ...\n",
       "886       2    no\n",
       "887       1   yes\n",
       "888       3    no\n",
       "889       1   yes\n",
       "890       3    no\n",
       "\n",
       "[891 rows x 2 columns]"
      ]
     },
     "execution_count": 6,
     "metadata": {},
     "output_type": "execute_result"
    }
   ],
   "source": [
    "pclass_aliveDF = dataDF.loc[:, [\"pclass\", \"alive\"]]\n",
    "pclass_aliveDF"
   ]
  },
  {
   "cell_type": "code",
   "execution_count": 7,
   "metadata": {},
   "outputs": [
    {
     "data": {
      "text/plain": [
       "pclass    0\n",
       "alive     0\n",
       "dtype: int64"
      ]
     },
     "execution_count": 7,
     "metadata": {},
     "output_type": "execute_result"
    }
   ],
   "source": [
    "# 결측지\n",
    "pclass_aliveDF.isna().sum()"
   ]
  },
  {
   "cell_type": "code",
   "execution_count": 8,
   "metadata": {},
   "outputs": [
    {
     "data": {
      "text/plain": [
       "885"
      ]
     },
     "execution_count": 8,
     "metadata": {},
     "output_type": "execute_result"
    }
   ],
   "source": [
    "# 중복값\n",
    "pclass_aliveDF.duplicated().sum()"
   ]
  },
  {
   "cell_type": "code",
   "execution_count": 9,
   "metadata": {},
   "outputs": [],
   "source": [
    "groupobj = pclass_aliveDF.groupby(\"pclass\")"
   ]
  },
  {
   "cell_type": "code",
   "execution_count": 10,
   "metadata": {},
   "outputs": [
    {
     "name": "stdout",
     "output_type": "stream",
     "text": [
      "dict_keys([1, 2, 3])\n",
      "\n",
      "dict_values([Index([  1,   3,   6,  11,  23,  27,  30,  31,  34,  35,\n",
      "       ...\n",
      "       853, 856, 857, 862, 867, 871, 872, 879, 887, 889],\n",
      "      dtype='int64', length=216), Index([  9,  15,  17,  20,  21,  33,  41,  43,  53,  56,\n",
      "       ...\n",
      "       848, 854, 861, 864, 865, 866, 874, 880, 883, 886],\n",
      "      dtype='int64', length=184), Index([  0,   2,   4,   5,   7,   8,  10,  12,  13,  14,\n",
      "       ...\n",
      "       875, 876, 877, 878, 881, 882, 884, 885, 888, 890],\n",
      "      dtype='int64', length=491)])\n"
     ]
    }
   ],
   "source": [
    "print(groupobj.groups.keys())\n",
    "print()\n",
    "print(groupobj.groups.values())"
   ]
  },
  {
   "cell_type": "code",
   "execution_count": 11,
   "metadata": {},
   "outputs": [
    {
     "data": {
      "text/html": [
       "<div>\n",
       "<style scoped>\n",
       "    .dataframe tbody tr th:only-of-type {\n",
       "        vertical-align: middle;\n",
       "    }\n",
       "\n",
       "    .dataframe tbody tr th {\n",
       "        vertical-align: top;\n",
       "    }\n",
       "\n",
       "    .dataframe thead th {\n",
       "        text-align: right;\n",
       "    }\n",
       "</style>\n",
       "<table border=\"1\" class=\"dataframe\">\n",
       "  <thead>\n",
       "    <tr style=\"text-align: right;\">\n",
       "      <th></th>\n",
       "      <th>pclass</th>\n",
       "      <th>alive</th>\n",
       "    </tr>\n",
       "  </thead>\n",
       "  <tbody>\n",
       "    <tr>\n",
       "      <th>1</th>\n",
       "      <td>1</td>\n",
       "      <td>yes</td>\n",
       "    </tr>\n",
       "    <tr>\n",
       "      <th>3</th>\n",
       "      <td>1</td>\n",
       "      <td>yes</td>\n",
       "    </tr>\n",
       "    <tr>\n",
       "      <th>6</th>\n",
       "      <td>1</td>\n",
       "      <td>no</td>\n",
       "    </tr>\n",
       "    <tr>\n",
       "      <th>11</th>\n",
       "      <td>1</td>\n",
       "      <td>yes</td>\n",
       "    </tr>\n",
       "    <tr>\n",
       "      <th>23</th>\n",
       "      <td>1</td>\n",
       "      <td>yes</td>\n",
       "    </tr>\n",
       "    <tr>\n",
       "      <th>...</th>\n",
       "      <td>...</td>\n",
       "      <td>...</td>\n",
       "    </tr>\n",
       "    <tr>\n",
       "      <th>871</th>\n",
       "      <td>1</td>\n",
       "      <td>yes</td>\n",
       "    </tr>\n",
       "    <tr>\n",
       "      <th>872</th>\n",
       "      <td>1</td>\n",
       "      <td>no</td>\n",
       "    </tr>\n",
       "    <tr>\n",
       "      <th>879</th>\n",
       "      <td>1</td>\n",
       "      <td>yes</td>\n",
       "    </tr>\n",
       "    <tr>\n",
       "      <th>887</th>\n",
       "      <td>1</td>\n",
       "      <td>yes</td>\n",
       "    </tr>\n",
       "    <tr>\n",
       "      <th>889</th>\n",
       "      <td>1</td>\n",
       "      <td>yes</td>\n",
       "    </tr>\n",
       "  </tbody>\n",
       "</table>\n",
       "<p>216 rows × 2 columns</p>\n",
       "</div>"
      ],
      "text/plain": [
       "     pclass alive\n",
       "1         1   yes\n",
       "3         1   yes\n",
       "6         1    no\n",
       "11        1   yes\n",
       "23        1   yes\n",
       "..      ...   ...\n",
       "871       1   yes\n",
       "872       1    no\n",
       "879       1   yes\n",
       "887       1   yes\n",
       "889       1   yes\n",
       "\n",
       "[216 rows x 2 columns]"
      ]
     },
     "execution_count": 11,
     "metadata": {},
     "output_type": "execute_result"
    }
   ],
   "source": [
    "first = groupobj.get_group(1)\n",
    "first"
   ]
  },
  {
   "cell_type": "code",
   "execution_count": 26,
   "metadata": {},
   "outputs": [
    {
     "data": {
      "text/plain": [
       "{1: array([  1,   3,   6,  11,  23,  27,  30,  31,  34,  35,  52,  54,  55,\n",
       "         61,  62,  64,  83,  88,  92,  96,  97, 102, 110, 118, 124, 136,\n",
       "        137, 139, 151, 155, 166, 168, 170, 174, 177, 185, 187, 194, 195,\n",
       "        209, 215, 218, 224, 230, 245, 248, 252, 256, 257, 258, 262, 263,\n",
       "        268, 269, 270, 273, 275, 284, 290, 291, 295, 297, 298, 299, 305,\n",
       "        306, 307, 309, 310, 311, 318, 319, 325, 329, 331, 332, 334, 336,\n",
       "        337, 339, 341, 351, 356, 366, 369, 370, 373, 375, 377, 380, 383,\n",
       "        390, 393, 412, 430, 434, 435, 438, 445, 447, 449, 452, 453, 456,\n",
       "        457, 460, 462, 467, 475, 484, 486, 487, 492, 493, 496, 498, 504,\n",
       "        505, 507, 512, 513, 515, 520, 523, 527, 536, 537, 539, 540, 544,\n",
       "        545, 550, 555, 556, 557, 558, 571, 572, 577, 581, 583, 585, 587,\n",
       "        591, 599, 602, 604, 607, 609, 621, 625, 627, 630, 632, 633, 641,\n",
       "        645, 647, 659, 660, 662, 669, 671, 679, 681, 689, 690, 694, 698,\n",
       "        700, 701, 707, 708, 710, 711, 712, 716, 724, 730, 737, 740, 741,\n",
       "        742, 745, 748, 759, 763, 765, 766, 779, 781, 782, 789, 793, 796,\n",
       "        802, 806, 809, 815, 820, 822, 829, 835, 839, 842, 849, 853, 856,\n",
       "        857, 862, 867, 871, 872, 879, 887, 889], dtype=int64),\n",
       " 2: array([  9,  15,  17,  20,  21,  33,  41,  43,  53,  56,  58,  66,  70,\n",
       "         72,  78,  84,  98,  99, 117, 120, 122, 123, 133, 134, 135, 144,\n",
       "        145, 148, 149, 150, 161, 178, 181, 183, 190, 191, 193, 199, 211,\n",
       "        213, 217, 219, 221, 226, 228, 232, 234, 236, 237, 238, 239, 242,\n",
       "        247, 249, 259, 265, 272, 277, 288, 292, 303, 308, 312, 314, 316,\n",
       "        317, 322, 323, 327, 340, 342, 343, 344, 345, 346, 357, 361, 385,\n",
       "        387, 389, 397, 398, 399, 405, 407, 413, 416, 417, 418, 426, 427,\n",
       "        432, 437, 439, 440, 443, 446, 450, 458, 463, 466, 472, 473, 476,\n",
       "        481, 506, 516, 518, 526, 529, 530, 535, 543, 546, 547, 549, 551,\n",
       "        562, 570, 576, 580, 582, 586, 594, 596, 600, 608, 615, 618, 619,\n",
       "        626, 635, 637, 651, 655, 658, 665, 666, 670, 672, 673, 674, 684,\n",
       "        685, 695, 705, 706, 714, 717, 720, 722, 723, 726, 728, 732, 733,\n",
       "        734, 747, 750, 754, 755, 757, 772, 774, 791, 795, 800, 801, 808,\n",
       "        812, 817, 827, 831, 841, 848, 854, 861, 864, 865, 866, 874, 880,\n",
       "        883, 886], dtype=int64),\n",
       " 3: array([  0,   2,   4,   5,   7,   8,  10,  12,  13,  14,  16,  18,  19,\n",
       "         22,  24,  25,  26,  28,  29,  32,  36,  37,  38,  39,  40,  42,\n",
       "         44,  45,  46,  47,  48,  49,  50,  51,  57,  59,  60,  63,  65,\n",
       "         67,  68,  69,  71,  73,  74,  75,  76,  77,  79,  80,  81,  82,\n",
       "         85,  86,  87,  89,  90,  91,  93,  94,  95, 100, 101, 103, 104,\n",
       "        105, 106, 107, 108, 109, 111, 112, 113, 114, 115, 116, 119, 121,\n",
       "        125, 126, 127, 128, 129, 130, 131, 132, 138, 140, 141, 142, 143,\n",
       "        146, 147, 152, 153, 154, 156, 157, 158, 159, 160, 162, 163, 164,\n",
       "        165, 167, 169, 171, 172, 173, 175, 176, 179, 180, 182, 184, 186,\n",
       "        188, 189, 192, 196, 197, 198, 200, 201, 202, 203, 204, 205, 206,\n",
       "        207, 208, 210, 212, 214, 216, 220, 222, 223, 225, 227, 229, 231,\n",
       "        233, 235, 240, 241, 243, 244, 246, 250, 251, 253, 254, 255, 260,\n",
       "        261, 264, 266, 267, 271, 274, 276, 278, 279, 280, 281, 282, 283,\n",
       "        285, 286, 287, 289, 293, 294, 296, 300, 301, 302, 304, 313, 315,\n",
       "        320, 321, 324, 326, 328, 330, 333, 335, 338, 347, 348, 349, 350,\n",
       "        352, 353, 354, 355, 358, 359, 360, 362, 363, 364, 365, 367, 368,\n",
       "        371, 372, 374, 376, 378, 379, 381, 382, 384, 386, 388, 391, 392,\n",
       "        394, 395, 396, 400, 401, 402, 403, 404, 406, 408, 409, 410, 411,\n",
       "        414, 415, 419, 420, 421, 422, 423, 424, 425, 428, 429, 431, 433,\n",
       "        436, 441, 442, 444, 448, 451, 454, 455, 459, 461, 464, 465, 468,\n",
       "        469, 470, 471, 474, 477, 478, 479, 480, 482, 483, 485, 488, 489,\n",
       "        490, 491, 494, 495, 497, 499, 500, 501, 502, 503, 508, 509, 510,\n",
       "        511, 514, 517, 519, 521, 522, 524, 525, 528, 531, 532, 533, 534,\n",
       "        538, 541, 542, 548, 552, 553, 554, 559, 560, 561, 563, 564, 565,\n",
       "        566, 567, 568, 569, 573, 574, 575, 578, 579, 584, 588, 589, 590,\n",
       "        592, 593, 595, 597, 598, 601, 603, 605, 606, 610, 611, 612, 613,\n",
       "        614, 616, 617, 620, 622, 623, 624, 628, 629, 631, 634, 636, 638,\n",
       "        639, 640, 642, 643, 644, 646, 648, 649, 650, 652, 653, 654, 656,\n",
       "        657, 661, 663, 664, 667, 668, 675, 676, 677, 678, 680, 682, 683,\n",
       "        686, 687, 688, 691, 692, 693, 696, 697, 699, 702, 703, 704, 709,\n",
       "        713, 715, 718, 719, 721, 725, 727, 729, 731, 735, 736, 738, 739,\n",
       "        743, 744, 746, 749, 751, 752, 753, 756, 758, 760, 761, 762, 764,\n",
       "        767, 768, 769, 770, 771, 773, 775, 776, 777, 778, 780, 783, 784,\n",
       "        785, 786, 787, 788, 790, 792, 794, 797, 798, 799, 803, 804, 805,\n",
       "        807, 810, 811, 813, 814, 816, 818, 819, 821, 823, 824, 825, 826,\n",
       "        828, 830, 832, 833, 834, 836, 837, 838, 840, 843, 844, 845, 846,\n",
       "        847, 850, 851, 852, 855, 858, 859, 860, 863, 868, 869, 870, 873,\n",
       "        875, 876, 877, 878, 881, 882, 884, 885, 888, 890], dtype=int64)}"
      ]
     },
     "execution_count": 26,
     "metadata": {},
     "output_type": "execute_result"
    }
   ],
   "source": [
    "groupobj.indices"
   ]
  },
  {
   "cell_type": "code",
   "execution_count": 12,
   "metadata": {},
   "outputs": [
    {
     "name": "stdout",
     "output_type": "stream",
     "text": [
      "1등석 생존자 : 135명\n",
      "1등석 사망자 : 80명\n",
      "1등석 생존율 : 0.627906976744186\n"
     ]
    },
    {
     "name": "stderr",
     "output_type": "stream",
     "text": [
      "C:\\Users\\hwans\\AppData\\Local\\Temp\\ipykernel_18488\\111810386.py:4: FutureWarning: Series.__getitem__ treating keys as positions is deprecated. In a future version, integer keys will always be treated as labels (consistent with DataFrame behavior). To access a value by position, use `ser.iloc[pos]`\n",
      "  if first.iloc[i][1] == \"yes\" :\n"
     ]
    }
   ],
   "source": [
    "hap = 0\n",
    "total = 0\n",
    "for i in range(215) :\n",
    "    if first.iloc[i][1] == \"yes\" :\n",
    "        hap += 1\n",
    "    else : \n",
    "        total += 1\n",
    "\n",
    "print(f\"1등석 생존자 : {hap}명\\n1등석 사망자 : {total}명\\n1등석 생존율 : {hap/(total+hap)}\")"
   ]
  },
  {
   "cell_type": "code",
   "execution_count": 13,
   "metadata": {},
   "outputs": [
    {
     "data": {
      "text/html": [
       "<div>\n",
       "<style scoped>\n",
       "    .dataframe tbody tr th:only-of-type {\n",
       "        vertical-align: middle;\n",
       "    }\n",
       "\n",
       "    .dataframe tbody tr th {\n",
       "        vertical-align: top;\n",
       "    }\n",
       "\n",
       "    .dataframe thead th {\n",
       "        text-align: right;\n",
       "    }\n",
       "</style>\n",
       "<table border=\"1\" class=\"dataframe\">\n",
       "  <thead>\n",
       "    <tr style=\"text-align: right;\">\n",
       "      <th></th>\n",
       "      <th>pclass</th>\n",
       "      <th>alive</th>\n",
       "    </tr>\n",
       "  </thead>\n",
       "  <tbody>\n",
       "    <tr>\n",
       "      <th>9</th>\n",
       "      <td>2</td>\n",
       "      <td>yes</td>\n",
       "    </tr>\n",
       "    <tr>\n",
       "      <th>15</th>\n",
       "      <td>2</td>\n",
       "      <td>yes</td>\n",
       "    </tr>\n",
       "    <tr>\n",
       "      <th>17</th>\n",
       "      <td>2</td>\n",
       "      <td>yes</td>\n",
       "    </tr>\n",
       "    <tr>\n",
       "      <th>20</th>\n",
       "      <td>2</td>\n",
       "      <td>no</td>\n",
       "    </tr>\n",
       "    <tr>\n",
       "      <th>21</th>\n",
       "      <td>2</td>\n",
       "      <td>yes</td>\n",
       "    </tr>\n",
       "    <tr>\n",
       "      <th>...</th>\n",
       "      <td>...</td>\n",
       "      <td>...</td>\n",
       "    </tr>\n",
       "    <tr>\n",
       "      <th>866</th>\n",
       "      <td>2</td>\n",
       "      <td>yes</td>\n",
       "    </tr>\n",
       "    <tr>\n",
       "      <th>874</th>\n",
       "      <td>2</td>\n",
       "      <td>yes</td>\n",
       "    </tr>\n",
       "    <tr>\n",
       "      <th>880</th>\n",
       "      <td>2</td>\n",
       "      <td>yes</td>\n",
       "    </tr>\n",
       "    <tr>\n",
       "      <th>883</th>\n",
       "      <td>2</td>\n",
       "      <td>no</td>\n",
       "    </tr>\n",
       "    <tr>\n",
       "      <th>886</th>\n",
       "      <td>2</td>\n",
       "      <td>no</td>\n",
       "    </tr>\n",
       "  </tbody>\n",
       "</table>\n",
       "<p>184 rows × 2 columns</p>\n",
       "</div>"
      ],
      "text/plain": [
       "     pclass alive\n",
       "9         2   yes\n",
       "15        2   yes\n",
       "17        2   yes\n",
       "20        2    no\n",
       "21        2   yes\n",
       "..      ...   ...\n",
       "866       2   yes\n",
       "874       2   yes\n",
       "880       2   yes\n",
       "883       2    no\n",
       "886       2    no\n",
       "\n",
       "[184 rows x 2 columns]"
      ]
     },
     "execution_count": 13,
     "metadata": {},
     "output_type": "execute_result"
    }
   ],
   "source": [
    "sec = groupobj.get_group(2)\n",
    "sec"
   ]
  },
  {
   "cell_type": "code",
   "execution_count": 18,
   "metadata": {},
   "outputs": [
    {
     "name": "stdout",
     "output_type": "stream",
     "text": [
      "2등석 생존자 : 87명\n",
      "2등석 사망자 : 97명\n",
      "2등석 생존율 : 0.47282608695652173\n"
     ]
    },
    {
     "name": "stderr",
     "output_type": "stream",
     "text": [
      "C:\\Users\\hwans\\AppData\\Local\\Temp\\ipykernel_18488\\815647570.py:4: FutureWarning: Series.__getitem__ treating keys as positions is deprecated. In a future version, integer keys will always be treated as labels (consistent with DataFrame behavior). To access a value by position, use `ser.iloc[pos]`\n",
      "  if sec.iloc[i][1] == \"yes\" :\n"
     ]
    }
   ],
   "source": [
    "hap = 0\n",
    "total = 0\n",
    "for i in range(184) :\n",
    "    if sec.iloc[i][1] == \"yes\" :\n",
    "        hap += 1\n",
    "    else : \n",
    "        total += 1\n",
    "\n",
    "print(f\"2등석 생존자 : {hap}명\\n2등석 사망자 : {total}명\\n2등석 생존율 : {hap/(total+hap)}\")"
   ]
  },
  {
   "cell_type": "code",
   "execution_count": 15,
   "metadata": {},
   "outputs": [
    {
     "data": {
      "text/html": [
       "<div>\n",
       "<style scoped>\n",
       "    .dataframe tbody tr th:only-of-type {\n",
       "        vertical-align: middle;\n",
       "    }\n",
       "\n",
       "    .dataframe tbody tr th {\n",
       "        vertical-align: top;\n",
       "    }\n",
       "\n",
       "    .dataframe thead th {\n",
       "        text-align: right;\n",
       "    }\n",
       "</style>\n",
       "<table border=\"1\" class=\"dataframe\">\n",
       "  <thead>\n",
       "    <tr style=\"text-align: right;\">\n",
       "      <th></th>\n",
       "      <th>pclass</th>\n",
       "      <th>alive</th>\n",
       "    </tr>\n",
       "  </thead>\n",
       "  <tbody>\n",
       "    <tr>\n",
       "      <th>0</th>\n",
       "      <td>3</td>\n",
       "      <td>no</td>\n",
       "    </tr>\n",
       "    <tr>\n",
       "      <th>2</th>\n",
       "      <td>3</td>\n",
       "      <td>yes</td>\n",
       "    </tr>\n",
       "    <tr>\n",
       "      <th>4</th>\n",
       "      <td>3</td>\n",
       "      <td>no</td>\n",
       "    </tr>\n",
       "    <tr>\n",
       "      <th>5</th>\n",
       "      <td>3</td>\n",
       "      <td>no</td>\n",
       "    </tr>\n",
       "    <tr>\n",
       "      <th>7</th>\n",
       "      <td>3</td>\n",
       "      <td>no</td>\n",
       "    </tr>\n",
       "    <tr>\n",
       "      <th>...</th>\n",
       "      <td>...</td>\n",
       "      <td>...</td>\n",
       "    </tr>\n",
       "    <tr>\n",
       "      <th>882</th>\n",
       "      <td>3</td>\n",
       "      <td>no</td>\n",
       "    </tr>\n",
       "    <tr>\n",
       "      <th>884</th>\n",
       "      <td>3</td>\n",
       "      <td>no</td>\n",
       "    </tr>\n",
       "    <tr>\n",
       "      <th>885</th>\n",
       "      <td>3</td>\n",
       "      <td>no</td>\n",
       "    </tr>\n",
       "    <tr>\n",
       "      <th>888</th>\n",
       "      <td>3</td>\n",
       "      <td>no</td>\n",
       "    </tr>\n",
       "    <tr>\n",
       "      <th>890</th>\n",
       "      <td>3</td>\n",
       "      <td>no</td>\n",
       "    </tr>\n",
       "  </tbody>\n",
       "</table>\n",
       "<p>491 rows × 2 columns</p>\n",
       "</div>"
      ],
      "text/plain": [
       "     pclass alive\n",
       "0         3    no\n",
       "2         3   yes\n",
       "4         3    no\n",
       "5         3    no\n",
       "7         3    no\n",
       "..      ...   ...\n",
       "882       3    no\n",
       "884       3    no\n",
       "885       3    no\n",
       "888       3    no\n",
       "890       3    no\n",
       "\n",
       "[491 rows x 2 columns]"
      ]
     },
     "execution_count": 15,
     "metadata": {},
     "output_type": "execute_result"
    }
   ],
   "source": [
    "third = groupobj.get_group(3)\n",
    "third"
   ]
  },
  {
   "cell_type": "code",
   "execution_count": 19,
   "metadata": {},
   "outputs": [
    {
     "name": "stdout",
     "output_type": "stream",
     "text": [
      "3등석 생존자 : 119명\n",
      "3등석 사망자 : 372명\n",
      "3등석 생존율 : 0.24236252545824846\n"
     ]
    },
    {
     "name": "stderr",
     "output_type": "stream",
     "text": [
      "C:\\Users\\hwans\\AppData\\Local\\Temp\\ipykernel_18488\\3308510622.py:4: FutureWarning: Series.__getitem__ treating keys as positions is deprecated. In a future version, integer keys will always be treated as labels (consistent with DataFrame behavior). To access a value by position, use `ser.iloc[pos]`\n",
      "  if third.iloc[i][1] == \"yes\" :\n"
     ]
    }
   ],
   "source": [
    "hap = 0\n",
    "total = 0\n",
    "for i in range(491) :\n",
    "    if third.iloc[i][1] == \"yes\" :\n",
    "        hap += 1\n",
    "    else : \n",
    "        total += 1\n",
    "\n",
    "print(f\"3등석 생존자 : {hap}명\\n3등석 사망자 : {total}명\\n3등석 생존율 : {hap/(total+hap)}\")"
   ]
  },
  {
   "cell_type": "code",
   "execution_count": 21,
   "metadata": {},
   "outputs": [
    {
     "data": {
      "text/plain": [
       "342"
      ]
     },
     "execution_count": 21,
     "metadata": {},
     "output_type": "execute_result"
    }
   ],
   "source": [
    "# 강사님이랑\n",
    "dataDF.survived.sum()"
   ]
  },
  {
   "cell_type": "code",
   "execution_count": 22,
   "metadata": {},
   "outputs": [
    {
     "data": {
      "text/plain": [
       "549"
      ]
     },
     "execution_count": 22,
     "metadata": {},
     "output_type": "execute_result"
    }
   ],
   "source": [
    "#  사망자 수\n",
    "dataDF.survived.count() - dataDF.survived.sum()"
   ]
  },
  {
   "cell_type": "code",
   "execution_count": 23,
   "metadata": {},
   "outputs": [
    {
     "data": {
      "text/plain": [
       "0       True\n",
       "1      False\n",
       "2      False\n",
       "3      False\n",
       "4       True\n",
       "       ...  \n",
       "886     True\n",
       "887    False\n",
       "888     True\n",
       "889    False\n",
       "890     True\n",
       "Name: survived, Length: 891, dtype: bool"
      ]
     },
     "execution_count": 23,
     "metadata": {},
     "output_type": "execute_result"
    }
   ],
   "source": [
    "# ~ : 논리연산의 반대\n",
    "# 0 -> 1로 1 -> 0으로 바꾸기\n",
    "~ dataDF.survived.astype(\"bool\")"
   ]
  }
 ],
 "metadata": {
  "kernelspec": {
   "display_name": "py39",
   "language": "python",
   "name": "python3"
  },
  "language_info": {
   "codemirror_mode": {
    "name": "ipython",
    "version": 3
   },
   "file_extension": ".py",
   "mimetype": "text/x-python",
   "name": "python",
   "nbconvert_exporter": "python",
   "pygments_lexer": "ipython3",
   "version": "3.9.19"
  }
 },
 "nbformat": 4,
 "nbformat_minor": 2
}
