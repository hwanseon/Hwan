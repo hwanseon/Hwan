{
 "cells": [
  {
   "cell_type": "markdown",
   "metadata": {},
   "source": [
    "- 시각화 프로젝트\n",
    "    - 출연자와 감독의 영향력에 따른 분석 => 추이 \n",
    "    - 국가별 가입비에 따른 가입자 수"
   ]
  },
  {
   "cell_type": "markdown",
   "metadata": {},
   "source": [
    "1) 출연자와 감독의 영향력에 따른 분석"
   ]
  },
  {
   "cell_type": "markdown",
   "metadata": {},
   "source": [
    "- IMDb (Internet Movie Database) \n",
    "- TMDb (The Movie Database)"
   ]
  },
  {
   "cell_type": "code",
   "execution_count": 2,
   "metadata": {},
   "outputs": [],
   "source": [
    "# [1] 모듈로딩\n",
    "import pandas as pd\n",
    "import matplotlib.pyplot as plt\n",
    "import numpy as np"
   ]
  },
  {
   "cell_type": "code",
   "execution_count": 3,
   "metadata": {},
   "outputs": [],
   "source": [
    "# [2] Data 준비\n",
    "file1 = r\"C:\\Hwan\\Pandas_ex\\시각화 project\\titles.csv\"\n",
    "file2 = r\"C:\\Hwan\\Pandas_ex\\시각화 project\\credits.csv\""
   ]
  },
  {
   "cell_type": "code",
   "execution_count": 4,
   "metadata": {},
   "outputs": [],
   "source": [
    "# 테이블 합치기 \n",
    "titleDF = pd.read_csv(file1)\n",
    "creditDF = pd.read_csv(file2)"
   ]
  },
  {
   "cell_type": "code",
   "execution_count": 5,
   "metadata": {},
   "outputs": [
    {
     "name": "stdout",
     "output_type": "stream",
     "text": [
      "<class 'pandas.core.frame.DataFrame'>\n",
      "RangeIndex: 5850 entries, 0 to 5849\n",
      "Data columns (total 15 columns):\n",
      " #   Column                Non-Null Count  Dtype  \n",
      "---  ------                --------------  -----  \n",
      " 0   id                    5850 non-null   object \n",
      " 1   title                 5849 non-null   object \n",
      " 2   type                  5850 non-null   object \n",
      " 3   description           5832 non-null   object \n",
      " 4   release_year          5850 non-null   int64  \n",
      " 5   age_certification     3231 non-null   object \n",
      " 6   runtime               5850 non-null   int64  \n",
      " 7   genres                5850 non-null   object \n",
      " 8   production_countries  5850 non-null   object \n",
      " 9   seasons               2106 non-null   float64\n",
      " 10  imdb_id               5447 non-null   object \n",
      " 11  imdb_score            5368 non-null   float64\n",
      " 12  imdb_votes            5352 non-null   float64\n",
      " 13  tmdb_popularity       5759 non-null   float64\n",
      " 14  tmdb_score            5539 non-null   float64\n",
      "dtypes: float64(5), int64(2), object(8)\n",
      "memory usage: 685.7+ KB\n",
      "None\n"
     ]
    }
   ],
   "source": [
    "# 확인\n",
    "print(titleDF.info())"
   ]
  },
  {
   "cell_type": "code",
   "execution_count": 6,
   "metadata": {},
   "outputs": [
    {
     "name": "stdout",
     "output_type": "stream",
     "text": [
      "<class 'pandas.core.frame.DataFrame'>\n",
      "RangeIndex: 77801 entries, 0 to 77800\n",
      "Data columns (total 5 columns):\n",
      " #   Column     Non-Null Count  Dtype \n",
      "---  ------     --------------  ----- \n",
      " 0   person_id  77801 non-null  int64 \n",
      " 1   id         77801 non-null  object\n",
      " 2   name       77801 non-null  object\n",
      " 3   character  68029 non-null  object\n",
      " 4   role       77801 non-null  object\n",
      "dtypes: int64(1), object(4)\n",
      "memory usage: 3.0+ MB\n",
      "None\n"
     ]
    }
   ],
   "source": [
    "print(creditDF.info())"
   ]
  },
  {
   "cell_type": "code",
   "execution_count": 7,
   "metadata": {},
   "outputs": [
    {
     "data": {
      "text/plain": [
       "id                         0\n",
       "title                      1\n",
       "type                       0\n",
       "description               18\n",
       "release_year               0\n",
       "age_certification       2619\n",
       "runtime                    0\n",
       "genres                     0\n",
       "production_countries       0\n",
       "seasons                 3744\n",
       "imdb_id                  403\n",
       "imdb_score               482\n",
       "imdb_votes               498\n",
       "tmdb_popularity           91\n",
       "tmdb_score               311\n",
       "dtype: int64"
      ]
     },
     "execution_count": 7,
     "metadata": {},
     "output_type": "execute_result"
    }
   ],
   "source": [
    "# 결측치 확인\n",
    "titleDF.isna().sum()"
   ]
  },
  {
   "cell_type": "code",
   "execution_count": 8,
   "metadata": {},
   "outputs": [
    {
     "data": {
      "text/plain": [
       "0"
      ]
     },
     "execution_count": 8,
     "metadata": {},
     "output_type": "execute_result"
    }
   ],
   "source": [
    "# 중복값 확인\n",
    "titleDF.duplicated().sum()"
   ]
  },
  {
   "cell_type": "code",
   "execution_count": 9,
   "metadata": {},
   "outputs": [],
   "source": [
    "# 필요없는 칼럼 제거\n",
    "titleDF.columns\n",
    "titleDF.drop([\"description\", \"release_year\", \"age_certification\", \"runtime\", \"seasons\", \"imdb_id\"], axis = 1, inplace = True)"
   ]
  },
  {
   "cell_type": "code",
   "execution_count": 10,
   "metadata": {},
   "outputs": [
    {
     "data": {
      "text/html": [
       "<div>\n",
       "<style scoped>\n",
       "    .dataframe tbody tr th:only-of-type {\n",
       "        vertical-align: middle;\n",
       "    }\n",
       "\n",
       "    .dataframe tbody tr th {\n",
       "        vertical-align: top;\n",
       "    }\n",
       "\n",
       "    .dataframe thead th {\n",
       "        text-align: right;\n",
       "    }\n",
       "</style>\n",
       "<table border=\"1\" class=\"dataframe\">\n",
       "  <thead>\n",
       "    <tr style=\"text-align: right;\">\n",
       "      <th></th>\n",
       "      <th>imdb_score</th>\n",
       "      <th>imdb_votes</th>\n",
       "      <th>tmdb_popularity</th>\n",
       "      <th>tmdb_score</th>\n",
       "    </tr>\n",
       "  </thead>\n",
       "  <tbody>\n",
       "    <tr>\n",
       "      <th>count</th>\n",
       "      <td>5368.000000</td>\n",
       "      <td>5.352000e+03</td>\n",
       "      <td>5759.000000</td>\n",
       "      <td>5539.000000</td>\n",
       "    </tr>\n",
       "    <tr>\n",
       "      <th>mean</th>\n",
       "      <td>6.510861</td>\n",
       "      <td>2.343938e+04</td>\n",
       "      <td>22.637925</td>\n",
       "      <td>6.829175</td>\n",
       "    </tr>\n",
       "    <tr>\n",
       "      <th>std</th>\n",
       "      <td>1.163826</td>\n",
       "      <td>9.582047e+04</td>\n",
       "      <td>81.680263</td>\n",
       "      <td>1.170391</td>\n",
       "    </tr>\n",
       "    <tr>\n",
       "      <th>min</th>\n",
       "      <td>1.500000</td>\n",
       "      <td>5.000000e+00</td>\n",
       "      <td>0.009442</td>\n",
       "      <td>0.500000</td>\n",
       "    </tr>\n",
       "    <tr>\n",
       "      <th>25%</th>\n",
       "      <td>5.800000</td>\n",
       "      <td>5.167500e+02</td>\n",
       "      <td>2.728500</td>\n",
       "      <td>6.100000</td>\n",
       "    </tr>\n",
       "    <tr>\n",
       "      <th>50%</th>\n",
       "      <td>6.600000</td>\n",
       "      <td>2.233500e+03</td>\n",
       "      <td>6.821000</td>\n",
       "      <td>6.900000</td>\n",
       "    </tr>\n",
       "    <tr>\n",
       "      <th>75%</th>\n",
       "      <td>7.300000</td>\n",
       "      <td>9.494000e+03</td>\n",
       "      <td>16.590000</td>\n",
       "      <td>7.537500</td>\n",
       "    </tr>\n",
       "    <tr>\n",
       "      <th>max</th>\n",
       "      <td>9.600000</td>\n",
       "      <td>2.294231e+06</td>\n",
       "      <td>2274.044000</td>\n",
       "      <td>10.000000</td>\n",
       "    </tr>\n",
       "  </tbody>\n",
       "</table>\n",
       "</div>"
      ],
      "text/plain": [
       "        imdb_score    imdb_votes  tmdb_popularity   tmdb_score\n",
       "count  5368.000000  5.352000e+03      5759.000000  5539.000000\n",
       "mean      6.510861  2.343938e+04        22.637925     6.829175\n",
       "std       1.163826  9.582047e+04        81.680263     1.170391\n",
       "min       1.500000  5.000000e+00         0.009442     0.500000\n",
       "25%       5.800000  5.167500e+02         2.728500     6.100000\n",
       "50%       6.600000  2.233500e+03         6.821000     6.900000\n",
       "75%       7.300000  9.494000e+03        16.590000     7.537500\n",
       "max       9.600000  2.294231e+06      2274.044000    10.000000"
      ]
     },
     "execution_count": 10,
     "metadata": {},
     "output_type": "execute_result"
    }
   ],
   "source": [
    "titleDF.describe()"
   ]
  },
  {
   "cell_type": "code",
   "execution_count": 11,
   "metadata": {},
   "outputs": [
    {
     "name": "stdout",
     "output_type": "stream",
     "text": [
      "<class 'pandas.core.frame.DataFrame'>\n",
      "RangeIndex: 5850 entries, 0 to 5849\n",
      "Data columns (total 9 columns):\n",
      " #   Column                Non-Null Count  Dtype  \n",
      "---  ------                --------------  -----  \n",
      " 0   id                    5850 non-null   object \n",
      " 1   title                 5849 non-null   object \n",
      " 2   type                  5850 non-null   object \n",
      " 3   genres                5850 non-null   object \n",
      " 4   production_countries  5850 non-null   object \n",
      " 5   imdb_score            5368 non-null   float64\n",
      " 6   imdb_votes            5352 non-null   float64\n",
      " 7   tmdb_popularity       5759 non-null   float64\n",
      " 8   tmdb_score            5539 non-null   float64\n",
      "dtypes: float64(4), object(5)\n",
      "memory usage: 411.5+ KB\n"
     ]
    }
   ],
   "source": [
    "titleDF.info()"
   ]
  },
  {
   "cell_type": "markdown",
   "metadata": {},
   "source": [
    "##### 평균치 vs 이상치\n",
    "- 평균값 : 이상치에 매우 민감, 데이터에 극단적인 값이 있으면 평균이 그 값에 영향을 크게 받음 -> 전체 데이터 왜곡 가능성 ↑\n",
    "- 중앙값 : 데이터의 중간값이므로, 이상치의 영향을 받음 => 주관적인 평가가 포함된 데이터에서 사용 "
   ]
  },
  {
   "cell_type": "markdown",
   "metadata": {},
   "source": [
    "##### imdb_score, mdb_votes, tmdb_popularity, tmdb_score 평가 데이터, 투표 데이터, 인기도 데이터, 평점 데이터 모두 주관적\n",
    "==> 이상치의 영향을 받을 가능성 ↑\n",
    "==> 결측치를 모두 중앙값으로 대체"
   ]
  },
  {
   "cell_type": "code",
   "execution_count": 12,
   "metadata": {},
   "outputs": [
    {
     "name": "stderr",
     "output_type": "stream",
     "text": [
      "C:\\Users\\hwans\\AppData\\Local\\Temp\\ipykernel_14220\\3623337720.py:2: FutureWarning: A value is trying to be set on a copy of a DataFrame or Series through chained assignment using an inplace method.\n",
      "The behavior will change in pandas 3.0. This inplace method will never work because the intermediate object on which we are setting values always behaves as a copy.\n",
      "\n",
      "For example, when doing 'df[col].method(value, inplace=True)', try using 'df.method({col: value}, inplace=True)' or df[col] = df[col].method(value) instead, to perform the operation inplace on the original object.\n",
      "\n",
      "\n",
      "  titleDF['imdb_score'].fillna(titleDF['imdb_score'].median(), inplace=True)\n",
      "C:\\Users\\hwans\\AppData\\Local\\Temp\\ipykernel_14220\\3623337720.py:3: FutureWarning: A value is trying to be set on a copy of a DataFrame or Series through chained assignment using an inplace method.\n",
      "The behavior will change in pandas 3.0. This inplace method will never work because the intermediate object on which we are setting values always behaves as a copy.\n",
      "\n",
      "For example, when doing 'df[col].method(value, inplace=True)', try using 'df.method({col: value}, inplace=True)' or df[col] = df[col].method(value) instead, to perform the operation inplace on the original object.\n",
      "\n",
      "\n",
      "  titleDF['imdb_votes'].fillna(titleDF['imdb_votes'].median(), inplace=True)\n",
      "C:\\Users\\hwans\\AppData\\Local\\Temp\\ipykernel_14220\\3623337720.py:4: FutureWarning: A value is trying to be set on a copy of a DataFrame or Series through chained assignment using an inplace method.\n",
      "The behavior will change in pandas 3.0. This inplace method will never work because the intermediate object on which we are setting values always behaves as a copy.\n",
      "\n",
      "For example, when doing 'df[col].method(value, inplace=True)', try using 'df.method({col: value}, inplace=True)' or df[col] = df[col].method(value) instead, to perform the operation inplace on the original object.\n",
      "\n",
      "\n",
      "  titleDF['tmdb_popularity'].fillna(titleDF['tmdb_popularity'].median(), inplace=True)\n",
      "C:\\Users\\hwans\\AppData\\Local\\Temp\\ipykernel_14220\\3623337720.py:5: FutureWarning: A value is trying to be set on a copy of a DataFrame or Series through chained assignment using an inplace method.\n",
      "The behavior will change in pandas 3.0. This inplace method will never work because the intermediate object on which we are setting values always behaves as a copy.\n",
      "\n",
      "For example, when doing 'df[col].method(value, inplace=True)', try using 'df.method({col: value}, inplace=True)' or df[col] = df[col].method(value) instead, to perform the operation inplace on the original object.\n",
      "\n",
      "\n",
      "  titleDF['tmdb_score'].fillna(titleDF['tmdb_score'].median(), inplace=True)\n"
     ]
    }
   ],
   "source": [
    "# 결측치 => 중앙값으로 채우기\n",
    "titleDF['imdb_score'].fillna(titleDF['imdb_score'].median(), inplace=True)\n",
    "titleDF['imdb_votes'].fillna(titleDF['imdb_votes'].median(), inplace=True)\n",
    "titleDF['tmdb_popularity'].fillna(titleDF['tmdb_popularity'].median(), inplace=True)\n",
    "titleDF['tmdb_score'].fillna(titleDF['tmdb_score'].median(), inplace=True)"
   ]
  },
  {
   "cell_type": "code",
   "execution_count": 13,
   "metadata": {},
   "outputs": [
    {
     "data": {
      "text/plain": [
       "id                      0\n",
       "title                   1\n",
       "type                    0\n",
       "genres                  0\n",
       "production_countries    0\n",
       "imdb_score              0\n",
       "imdb_votes              0\n",
       "tmdb_popularity         0\n",
       "tmdb_score              0\n",
       "dtype: int64"
      ]
     },
     "execution_count": 13,
     "metadata": {},
     "output_type": "execute_result"
    }
   ],
   "source": [
    "titleDF.isna().sum()"
   ]
  },
  {
   "cell_type": "code",
   "execution_count": 14,
   "metadata": {},
   "outputs": [],
   "source": [
    "# title 칼럼 결측치 찾은 후 제거\n",
    "titleDF[titleDF['title'].isna()]\n",
    "titleDF = titleDF.drop(index = 1704)"
   ]
  },
  {
   "cell_type": "code",
   "execution_count": 15,
   "metadata": {},
   "outputs": [
    {
     "data": {
      "text/plain": [
       "id                      0\n",
       "title                   0\n",
       "type                    0\n",
       "genres                  0\n",
       "production_countries    0\n",
       "imdb_score              0\n",
       "imdb_votes              0\n",
       "tmdb_popularity         0\n",
       "tmdb_score              0\n",
       "dtype: int64"
      ]
     },
     "execution_count": 15,
     "metadata": {},
     "output_type": "execute_result"
    }
   ],
   "source": [
    "titleDF.isna().sum()"
   ]
  },
  {
   "cell_type": "code",
   "execution_count": 16,
   "metadata": {},
   "outputs": [
    {
     "name": "stdout",
     "output_type": "stream",
     "text": [
      "<class 'pandas.core.frame.DataFrame'>\n",
      "RangeIndex: 77801 entries, 0 to 77800\n",
      "Data columns (total 5 columns):\n",
      " #   Column     Non-Null Count  Dtype \n",
      "---  ------     --------------  ----- \n",
      " 0   person_id  77801 non-null  int64 \n",
      " 1   id         77801 non-null  object\n",
      " 2   name       77801 non-null  object\n",
      " 3   character  68029 non-null  object\n",
      " 4   role       77801 non-null  object\n",
      "dtypes: int64(1), object(4)\n",
      "memory usage: 3.0+ MB\n"
     ]
    },
    {
     "data": {
      "text/plain": [
       "person_id       0\n",
       "id              0\n",
       "name            0\n",
       "character    9772\n",
       "role            0\n",
       "dtype: int64"
      ]
     },
     "execution_count": 16,
     "metadata": {},
     "output_type": "execute_result"
    }
   ],
   "source": [
    "# credit 파일 결측치 확인 후 제거\n",
    "creditDF.info()\n",
    "creditDF.isna().sum()"
   ]
  },
  {
   "cell_type": "code",
   "execution_count": 17,
   "metadata": {},
   "outputs": [
    {
     "data": {
      "text/plain": [
       "0"
      ]
     },
     "execution_count": 17,
     "metadata": {},
     "output_type": "execute_result"
    }
   ],
   "source": [
    "# 중복값 확인 및 제거\n",
    "creditDF.duplicated().sum()"
   ]
  },
  {
   "cell_type": "code",
   "execution_count": 18,
   "metadata": {},
   "outputs": [],
   "source": [
    "# 필요없는 칼럼 제거\n",
    "creditDF = creditDF.drop([\"character\"], axis = 1)"
   ]
  },
  {
   "cell_type": "code",
   "execution_count": 19,
   "metadata": {},
   "outputs": [
    {
     "data": {
      "text/html": [
       "<div>\n",
       "<style scoped>\n",
       "    .dataframe tbody tr th:only-of-type {\n",
       "        vertical-align: middle;\n",
       "    }\n",
       "\n",
       "    .dataframe tbody tr th {\n",
       "        vertical-align: top;\n",
       "    }\n",
       "\n",
       "    .dataframe thead th {\n",
       "        text-align: right;\n",
       "    }\n",
       "</style>\n",
       "<table border=\"1\" class=\"dataframe\">\n",
       "  <thead>\n",
       "    <tr style=\"text-align: right;\">\n",
       "      <th></th>\n",
       "      <th>person_id</th>\n",
       "      <th>id</th>\n",
       "      <th>name</th>\n",
       "      <th>role</th>\n",
       "    </tr>\n",
       "  </thead>\n",
       "  <tbody>\n",
       "    <tr>\n",
       "      <th>0</th>\n",
       "      <td>3748</td>\n",
       "      <td>tm84618</td>\n",
       "      <td>Robert De Niro</td>\n",
       "      <td>ACTOR</td>\n",
       "    </tr>\n",
       "    <tr>\n",
       "      <th>1</th>\n",
       "      <td>14658</td>\n",
       "      <td>tm84618</td>\n",
       "      <td>Jodie Foster</td>\n",
       "      <td>ACTOR</td>\n",
       "    </tr>\n",
       "    <tr>\n",
       "      <th>2</th>\n",
       "      <td>7064</td>\n",
       "      <td>tm84618</td>\n",
       "      <td>Albert Brooks</td>\n",
       "      <td>ACTOR</td>\n",
       "    </tr>\n",
       "    <tr>\n",
       "      <th>3</th>\n",
       "      <td>3739</td>\n",
       "      <td>tm84618</td>\n",
       "      <td>Harvey Keitel</td>\n",
       "      <td>ACTOR</td>\n",
       "    </tr>\n",
       "    <tr>\n",
       "      <th>4</th>\n",
       "      <td>48933</td>\n",
       "      <td>tm84618</td>\n",
       "      <td>Cybill Shepherd</td>\n",
       "      <td>ACTOR</td>\n",
       "    </tr>\n",
       "    <tr>\n",
       "      <th>...</th>\n",
       "      <td>...</td>\n",
       "      <td>...</td>\n",
       "      <td>...</td>\n",
       "      <td>...</td>\n",
       "    </tr>\n",
       "    <tr>\n",
       "      <th>77796</th>\n",
       "      <td>736339</td>\n",
       "      <td>tm1059008</td>\n",
       "      <td>Adelaida Buscato</td>\n",
       "      <td>ACTOR</td>\n",
       "    </tr>\n",
       "    <tr>\n",
       "      <th>77797</th>\n",
       "      <td>399499</td>\n",
       "      <td>tm1059008</td>\n",
       "      <td>Luz Stella Luengas</td>\n",
       "      <td>ACTOR</td>\n",
       "    </tr>\n",
       "    <tr>\n",
       "      <th>77798</th>\n",
       "      <td>373198</td>\n",
       "      <td>tm1059008</td>\n",
       "      <td>Inés Prieto</td>\n",
       "      <td>ACTOR</td>\n",
       "    </tr>\n",
       "    <tr>\n",
       "      <th>77799</th>\n",
       "      <td>378132</td>\n",
       "      <td>tm1059008</td>\n",
       "      <td>Isabel Gaona</td>\n",
       "      <td>ACTOR</td>\n",
       "    </tr>\n",
       "    <tr>\n",
       "      <th>77800</th>\n",
       "      <td>1950416</td>\n",
       "      <td>tm1059008</td>\n",
       "      <td>Julian Gaviria</td>\n",
       "      <td>DIRECTOR</td>\n",
       "    </tr>\n",
       "  </tbody>\n",
       "</table>\n",
       "<p>77801 rows × 4 columns</p>\n",
       "</div>"
      ],
      "text/plain": [
       "       person_id         id                name      role\n",
       "0           3748    tm84618      Robert De Niro     ACTOR\n",
       "1          14658    tm84618        Jodie Foster     ACTOR\n",
       "2           7064    tm84618       Albert Brooks     ACTOR\n",
       "3           3739    tm84618       Harvey Keitel     ACTOR\n",
       "4          48933    tm84618     Cybill Shepherd     ACTOR\n",
       "...          ...        ...                 ...       ...\n",
       "77796     736339  tm1059008    Adelaida Buscato     ACTOR\n",
       "77797     399499  tm1059008  Luz Stella Luengas     ACTOR\n",
       "77798     373198  tm1059008         Inés Prieto     ACTOR\n",
       "77799     378132  tm1059008        Isabel Gaona     ACTOR\n",
       "77800    1950416  tm1059008      Julian Gaviria  DIRECTOR\n",
       "\n",
       "[77801 rows x 4 columns]"
      ]
     },
     "execution_count": 19,
     "metadata": {},
     "output_type": "execute_result"
    }
   ],
   "source": [
    "creditDF"
   ]
  },
  {
   "cell_type": "code",
   "execution_count": 20,
   "metadata": {},
   "outputs": [
    {
     "data": {
      "text/html": [
       "<div>\n",
       "<style scoped>\n",
       "    .dataframe tbody tr th:only-of-type {\n",
       "        vertical-align: middle;\n",
       "    }\n",
       "\n",
       "    .dataframe tbody tr th {\n",
       "        vertical-align: top;\n",
       "    }\n",
       "\n",
       "    .dataframe thead th {\n",
       "        text-align: right;\n",
       "    }\n",
       "</style>\n",
       "<table border=\"1\" class=\"dataframe\">\n",
       "  <thead>\n",
       "    <tr style=\"text-align: right;\">\n",
       "      <th></th>\n",
       "      <th>person_id</th>\n",
       "      <th>id</th>\n",
       "      <th>name</th>\n",
       "      <th>role</th>\n",
       "      <th>title</th>\n",
       "      <th>type</th>\n",
       "      <th>genres</th>\n",
       "      <th>production_countries</th>\n",
       "      <th>imdb_score</th>\n",
       "      <th>imdb_votes</th>\n",
       "      <th>tmdb_popularity</th>\n",
       "      <th>tmdb_score</th>\n",
       "    </tr>\n",
       "  </thead>\n",
       "  <tbody>\n",
       "    <tr>\n",
       "      <th>0</th>\n",
       "      <td>3748</td>\n",
       "      <td>tm84618</td>\n",
       "      <td>Robert De Niro</td>\n",
       "      <td>ACTOR</td>\n",
       "      <td>Taxi Driver</td>\n",
       "      <td>MOVIE</td>\n",
       "      <td>['drama', 'crime']</td>\n",
       "      <td>['US']</td>\n",
       "      <td>8.2</td>\n",
       "      <td>808582.0</td>\n",
       "      <td>40.965</td>\n",
       "      <td>8.179</td>\n",
       "    </tr>\n",
       "    <tr>\n",
       "      <th>1</th>\n",
       "      <td>14658</td>\n",
       "      <td>tm84618</td>\n",
       "      <td>Jodie Foster</td>\n",
       "      <td>ACTOR</td>\n",
       "      <td>Taxi Driver</td>\n",
       "      <td>MOVIE</td>\n",
       "      <td>['drama', 'crime']</td>\n",
       "      <td>['US']</td>\n",
       "      <td>8.2</td>\n",
       "      <td>808582.0</td>\n",
       "      <td>40.965</td>\n",
       "      <td>8.179</td>\n",
       "    </tr>\n",
       "    <tr>\n",
       "      <th>2</th>\n",
       "      <td>7064</td>\n",
       "      <td>tm84618</td>\n",
       "      <td>Albert Brooks</td>\n",
       "      <td>ACTOR</td>\n",
       "      <td>Taxi Driver</td>\n",
       "      <td>MOVIE</td>\n",
       "      <td>['drama', 'crime']</td>\n",
       "      <td>['US']</td>\n",
       "      <td>8.2</td>\n",
       "      <td>808582.0</td>\n",
       "      <td>40.965</td>\n",
       "      <td>8.179</td>\n",
       "    </tr>\n",
       "    <tr>\n",
       "      <th>3</th>\n",
       "      <td>3739</td>\n",
       "      <td>tm84618</td>\n",
       "      <td>Harvey Keitel</td>\n",
       "      <td>ACTOR</td>\n",
       "      <td>Taxi Driver</td>\n",
       "      <td>MOVIE</td>\n",
       "      <td>['drama', 'crime']</td>\n",
       "      <td>['US']</td>\n",
       "      <td>8.2</td>\n",
       "      <td>808582.0</td>\n",
       "      <td>40.965</td>\n",
       "      <td>8.179</td>\n",
       "    </tr>\n",
       "    <tr>\n",
       "      <th>4</th>\n",
       "      <td>48933</td>\n",
       "      <td>tm84618</td>\n",
       "      <td>Cybill Shepherd</td>\n",
       "      <td>ACTOR</td>\n",
       "      <td>Taxi Driver</td>\n",
       "      <td>MOVIE</td>\n",
       "      <td>['drama', 'crime']</td>\n",
       "      <td>['US']</td>\n",
       "      <td>8.2</td>\n",
       "      <td>808582.0</td>\n",
       "      <td>40.965</td>\n",
       "      <td>8.179</td>\n",
       "    </tr>\n",
       "    <tr>\n",
       "      <th>...</th>\n",
       "      <td>...</td>\n",
       "      <td>...</td>\n",
       "      <td>...</td>\n",
       "      <td>...</td>\n",
       "      <td>...</td>\n",
       "      <td>...</td>\n",
       "      <td>...</td>\n",
       "      <td>...</td>\n",
       "      <td>...</td>\n",
       "      <td>...</td>\n",
       "      <td>...</td>\n",
       "      <td>...</td>\n",
       "    </tr>\n",
       "    <tr>\n",
       "      <th>77795</th>\n",
       "      <td>736339</td>\n",
       "      <td>tm1059008</td>\n",
       "      <td>Adelaida Buscato</td>\n",
       "      <td>ACTOR</td>\n",
       "      <td>Lokillo</td>\n",
       "      <td>MOVIE</td>\n",
       "      <td>['comedy']</td>\n",
       "      <td>['CO']</td>\n",
       "      <td>3.8</td>\n",
       "      <td>68.0</td>\n",
       "      <td>26.005</td>\n",
       "      <td>6.300</td>\n",
       "    </tr>\n",
       "    <tr>\n",
       "      <th>77796</th>\n",
       "      <td>399499</td>\n",
       "      <td>tm1059008</td>\n",
       "      <td>Luz Stella Luengas</td>\n",
       "      <td>ACTOR</td>\n",
       "      <td>Lokillo</td>\n",
       "      <td>MOVIE</td>\n",
       "      <td>['comedy']</td>\n",
       "      <td>['CO']</td>\n",
       "      <td>3.8</td>\n",
       "      <td>68.0</td>\n",
       "      <td>26.005</td>\n",
       "      <td>6.300</td>\n",
       "    </tr>\n",
       "    <tr>\n",
       "      <th>77797</th>\n",
       "      <td>373198</td>\n",
       "      <td>tm1059008</td>\n",
       "      <td>Inés Prieto</td>\n",
       "      <td>ACTOR</td>\n",
       "      <td>Lokillo</td>\n",
       "      <td>MOVIE</td>\n",
       "      <td>['comedy']</td>\n",
       "      <td>['CO']</td>\n",
       "      <td>3.8</td>\n",
       "      <td>68.0</td>\n",
       "      <td>26.005</td>\n",
       "      <td>6.300</td>\n",
       "    </tr>\n",
       "    <tr>\n",
       "      <th>77798</th>\n",
       "      <td>378132</td>\n",
       "      <td>tm1059008</td>\n",
       "      <td>Isabel Gaona</td>\n",
       "      <td>ACTOR</td>\n",
       "      <td>Lokillo</td>\n",
       "      <td>MOVIE</td>\n",
       "      <td>['comedy']</td>\n",
       "      <td>['CO']</td>\n",
       "      <td>3.8</td>\n",
       "      <td>68.0</td>\n",
       "      <td>26.005</td>\n",
       "      <td>6.300</td>\n",
       "    </tr>\n",
       "    <tr>\n",
       "      <th>77799</th>\n",
       "      <td>1950416</td>\n",
       "      <td>tm1059008</td>\n",
       "      <td>Julian Gaviria</td>\n",
       "      <td>DIRECTOR</td>\n",
       "      <td>Lokillo</td>\n",
       "      <td>MOVIE</td>\n",
       "      <td>['comedy']</td>\n",
       "      <td>['CO']</td>\n",
       "      <td>3.8</td>\n",
       "      <td>68.0</td>\n",
       "      <td>26.005</td>\n",
       "      <td>6.300</td>\n",
       "    </tr>\n",
       "  </tbody>\n",
       "</table>\n",
       "<p>77800 rows × 12 columns</p>\n",
       "</div>"
      ],
      "text/plain": [
       "       person_id         id                name      role        title   type  \\\n",
       "0           3748    tm84618      Robert De Niro     ACTOR  Taxi Driver  MOVIE   \n",
       "1          14658    tm84618        Jodie Foster     ACTOR  Taxi Driver  MOVIE   \n",
       "2           7064    tm84618       Albert Brooks     ACTOR  Taxi Driver  MOVIE   \n",
       "3           3739    tm84618       Harvey Keitel     ACTOR  Taxi Driver  MOVIE   \n",
       "4          48933    tm84618     Cybill Shepherd     ACTOR  Taxi Driver  MOVIE   \n",
       "...          ...        ...                 ...       ...          ...    ...   \n",
       "77795     736339  tm1059008    Adelaida Buscato     ACTOR      Lokillo  MOVIE   \n",
       "77796     399499  tm1059008  Luz Stella Luengas     ACTOR      Lokillo  MOVIE   \n",
       "77797     373198  tm1059008         Inés Prieto     ACTOR      Lokillo  MOVIE   \n",
       "77798     378132  tm1059008        Isabel Gaona     ACTOR      Lokillo  MOVIE   \n",
       "77799    1950416  tm1059008      Julian Gaviria  DIRECTOR      Lokillo  MOVIE   \n",
       "\n",
       "                   genres production_countries  imdb_score  imdb_votes  \\\n",
       "0      ['drama', 'crime']               ['US']         8.2    808582.0   \n",
       "1      ['drama', 'crime']               ['US']         8.2    808582.0   \n",
       "2      ['drama', 'crime']               ['US']         8.2    808582.0   \n",
       "3      ['drama', 'crime']               ['US']         8.2    808582.0   \n",
       "4      ['drama', 'crime']               ['US']         8.2    808582.0   \n",
       "...                   ...                  ...         ...         ...   \n",
       "77795          ['comedy']               ['CO']         3.8        68.0   \n",
       "77796          ['comedy']               ['CO']         3.8        68.0   \n",
       "77797          ['comedy']               ['CO']         3.8        68.0   \n",
       "77798          ['comedy']               ['CO']         3.8        68.0   \n",
       "77799          ['comedy']               ['CO']         3.8        68.0   \n",
       "\n",
       "       tmdb_popularity  tmdb_score  \n",
       "0               40.965       8.179  \n",
       "1               40.965       8.179  \n",
       "2               40.965       8.179  \n",
       "3               40.965       8.179  \n",
       "4               40.965       8.179  \n",
       "...                ...         ...  \n",
       "77795           26.005       6.300  \n",
       "77796           26.005       6.300  \n",
       "77797           26.005       6.300  \n",
       "77798           26.005       6.300  \n",
       "77799           26.005       6.300  \n",
       "\n",
       "[77800 rows x 12 columns]"
      ]
     },
     "execution_count": 20,
     "metadata": {},
     "output_type": "execute_result"
    }
   ],
   "source": [
    "# 2개의 DataFrame 합치기\n",
    "TotlaDF = pd.merge(creditDF, titleDF, left_on = \"id\", right_on = \"id\")\n",
    "TotlaDF"
   ]
  },
  {
   "cell_type": "markdown",
   "metadata": {},
   "source": [
    "- [분석]"
   ]
  },
  {
   "cell_type": "code",
   "execution_count": 29,
   "metadata": {},
   "outputs": [
    {
     "name": "stdout",
     "output_type": "stream",
     "text": [
      "                      name      role  count  avg_tmdb_popularity  \\\n",
      "0           Michael Hayden     ACTOR      1                6.159   \n",
      "1             'Jeeva' Ravi     ACTOR      1                2.540   \n",
      "2      'Weird Al' Yankovic     ACTOR      2               10.963   \n",
      "3                21 Savage     ACTOR      1               12.640   \n",
      "4                     2Mex     ACTOR      1                1.859   \n",
      "...                    ...       ...    ...                  ...   \n",
      "54746                   장성  DIRECTOR      2                0.641   \n",
      "54747                  정지환     ACTOR      1               50.095   \n",
      "54748                  주둥닝  DIRECTOR      1               29.769   \n",
      "54749                   지뢰  DIRECTOR      1                8.369   \n",
      "54750                   탕빈  DIRECTOR      1               42.708   \n",
      "\n",
      "       avg_imdb_score  \n",
      "0                 6.9  \n",
      "1                 7.6  \n",
      "2                 6.5  \n",
      "3                 4.3  \n",
      "4                 6.3  \n",
      "...               ...  \n",
      "54746             6.6  \n",
      "54747             8.6  \n",
      "54748             8.0  \n",
      "54749             7.3  \n",
      "54750             8.0  \n",
      "\n",
      "[54751 rows x 5 columns]\n"
     ]
    }
   ],
   "source": [
    "# 출연배우별 참여한 콘텐츠의 수와 인기도 분석\n",
    "# 주요 배우와 감독별로 참여한 콘텐츠 수\n",
    "role_counts = TotlaDF.groupby(['name', 'role']).size().reset_index(name='count')\n",
    "\n",
    "# 주요 배우와 감독별로 TMDB 인기 점수 평균\n",
    "role_popularity = TotlaDF.groupby(['name', 'role'])['tmdb_popularity'].mean().reset_index(name='avg_tmdb_popularity')\n",
    "\n",
    "# 주요 배우와 감독별로 IMDb 평점 평균\n",
    "role_imdb_score = TotlaDF.groupby(['name', 'role'])['imdb_score'].mean().reset_index(name='avg_imdb_score')\n",
    "\n",
    "# 데이터 병합\n",
    "role_analysis = pd.merge(role_counts, role_popularity, on=['name', 'role'])\n",
    "role_analysis = pd.merge(role_analysis, role_imdb_score, on=['name', 'role'])\n",
    "\n",
    "# 결과 확인\n",
    "role_analysis_df = pd.DataFrame(role_analysis)\n",
    "print(role_analysis_df)"
   ]
  },
  {
   "cell_type": "code",
   "execution_count": 32,
   "metadata": {},
   "outputs": [
    {
     "data": {
      "text/html": [
       "<div>\n",
       "<style scoped>\n",
       "    .dataframe tbody tr th:only-of-type {\n",
       "        vertical-align: middle;\n",
       "    }\n",
       "\n",
       "    .dataframe tbody tr th {\n",
       "        vertical-align: top;\n",
       "    }\n",
       "\n",
       "    .dataframe thead th {\n",
       "        text-align: right;\n",
       "    }\n",
       "</style>\n",
       "<table border=\"1\" class=\"dataframe\">\n",
       "  <thead>\n",
       "    <tr style=\"text-align: right;\">\n",
       "      <th></th>\n",
       "      <th>name</th>\n",
       "      <th>role</th>\n",
       "      <th>count</th>\n",
       "    </tr>\n",
       "  </thead>\n",
       "  <tbody>\n",
       "    <tr>\n",
       "      <th>0</th>\n",
       "      <td>Michael Hayden</td>\n",
       "      <td>ACTOR</td>\n",
       "      <td>1</td>\n",
       "    </tr>\n",
       "    <tr>\n",
       "      <th>1</th>\n",
       "      <td>'Jeeva' Ravi</td>\n",
       "      <td>ACTOR</td>\n",
       "      <td>1</td>\n",
       "    </tr>\n",
       "    <tr>\n",
       "      <th>2</th>\n",
       "      <td>'Weird Al' Yankovic</td>\n",
       "      <td>ACTOR</td>\n",
       "      <td>2</td>\n",
       "    </tr>\n",
       "    <tr>\n",
       "      <th>3</th>\n",
       "      <td>21 Savage</td>\n",
       "      <td>ACTOR</td>\n",
       "      <td>1</td>\n",
       "    </tr>\n",
       "    <tr>\n",
       "      <th>4</th>\n",
       "      <td>2Mex</td>\n",
       "      <td>ACTOR</td>\n",
       "      <td>1</td>\n",
       "    </tr>\n",
       "    <tr>\n",
       "      <th>...</th>\n",
       "      <td>...</td>\n",
       "      <td>...</td>\n",
       "      <td>...</td>\n",
       "    </tr>\n",
       "    <tr>\n",
       "      <th>54746</th>\n",
       "      <td>장성</td>\n",
       "      <td>DIRECTOR</td>\n",
       "      <td>2</td>\n",
       "    </tr>\n",
       "    <tr>\n",
       "      <th>54747</th>\n",
       "      <td>정지환</td>\n",
       "      <td>ACTOR</td>\n",
       "      <td>1</td>\n",
       "    </tr>\n",
       "    <tr>\n",
       "      <th>54748</th>\n",
       "      <td>주둥닝</td>\n",
       "      <td>DIRECTOR</td>\n",
       "      <td>1</td>\n",
       "    </tr>\n",
       "    <tr>\n",
       "      <th>54749</th>\n",
       "      <td>지뢰</td>\n",
       "      <td>DIRECTOR</td>\n",
       "      <td>1</td>\n",
       "    </tr>\n",
       "    <tr>\n",
       "      <th>54750</th>\n",
       "      <td>탕빈</td>\n",
       "      <td>DIRECTOR</td>\n",
       "      <td>1</td>\n",
       "    </tr>\n",
       "  </tbody>\n",
       "</table>\n",
       "<p>54751 rows × 3 columns</p>\n",
       "</div>"
      ],
      "text/plain": [
       "                      name      role  count\n",
       "0           Michael Hayden     ACTOR      1\n",
       "1             'Jeeva' Ravi     ACTOR      1\n",
       "2      'Weird Al' Yankovic     ACTOR      2\n",
       "3                21 Savage     ACTOR      1\n",
       "4                     2Mex     ACTOR      1\n",
       "...                    ...       ...    ...\n",
       "54746                   장성  DIRECTOR      2\n",
       "54747                  정지환     ACTOR      1\n",
       "54748                  주둥닝  DIRECTOR      1\n",
       "54749                   지뢰  DIRECTOR      1\n",
       "54750                   탕빈  DIRECTOR      1\n",
       "\n",
       "[54751 rows x 3 columns]"
      ]
     },
     "execution_count": 32,
     "metadata": {},
     "output_type": "execute_result"
    }
   ],
   "source": [
    "role_counts"
   ]
  },
  {
   "cell_type": "code",
   "execution_count": 30,
   "metadata": {},
   "outputs": [
    {
     "name": "stdout",
     "output_type": "stream",
     "text": [
      "Top Actors by TMDB Popularity:\n",
      "                       name   role  count  avg_tmdb_popularity  avg_imdb_score\n",
      "45839              Sean Lin  ACTOR      1             2274.044             6.2\n",
      "41405                    RQ  ACTOR      1             2274.044             6.2\n",
      "41340          Queenie Chen  ACTOR      1             2274.044             6.2\n",
      "47269        Sin-Ting Huang  ACTOR      1             2274.044             6.2\n",
      "19827        Hsuan-yen Tsai  ACTOR      1             2274.044             6.2\n",
      "8964         Charlie Heaton  ACTOR      1             2226.231             8.7\n",
      "21668  Jamie Campbell Bower  ACTOR      1             2226.231             8.7\n",
      "41197        Priah Ferguson  ACTOR      1             2226.231             8.7\n",
      "54282     Zaris-Angel Hator  ACTOR      1             1723.363             7.1\n",
      "39945         Paul Chowdhry  ACTOR      1             1723.363             7.1\n",
      "\n",
      "Top Directors by TMDB Popularity:\n",
      "                      name      role  count  avg_tmdb_popularity  \\\n",
      "9672        Chris Williams  DIRECTOR      1            1723.3630   \n",
      "1397       Alberto de Toro  DIRECTOR      1            1668.2960   \n",
      "39803       Patrick Hughes  DIRECTOR      1            1439.9060   \n",
      "15821     Fabien Martorell  DIRECTOR      1            1194.1490   \n",
      "27685             Kevin Ko  DIRECTOR      2            1138.6155   \n",
      "25013      Joseph Kosinski  DIRECTOR      1             996.8690   \n",
      "22212  Javier Ruiz Caldera  DIRECTOR      2             839.6245   \n",
      "35192        Michael Lewen  DIRECTOR      1             564.0040   \n",
      "33528      Martina Pastori  DIRECTOR      1             561.7220   \n",
      "49873        Tetsuro Araki  DIRECTOR      1             550.6430   \n",
      "\n",
      "       avg_imdb_score  \n",
      "9672             7.10  \n",
      "1397             6.50  \n",
      "39803            5.80  \n",
      "15821            3.90  \n",
      "27685            5.85  \n",
      "25013            5.40  \n",
      "22212            5.95  \n",
      "35192            4.90  \n",
      "33528            5.20  \n",
      "49873            6.30  \n"
     ]
    }
   ],
   "source": [
    "# 가장 영향력 있는 배우 식별 (TMDB 인기 점수를 기준으로 상위 10명)\n",
    "top_actors = role_analysis_df[role_analysis_df['role'] == 'ACTOR'].sort_values(by='avg_tmdb_popularity', ascending=False).head(10)\n",
    "\n",
    "# 가장 영향력 있는 감독 식별 (TMDB 인기 점수를 기준으로 상위 10명)\n",
    "top_directors = role_analysis_df[role_analysis_df['role'] == 'DIRECTOR'].sort_values(by='avg_tmdb_popularity', ascending=False).head(10)\n",
    "\n",
    "# 결과 출력\n",
    "print(\"Top Actors by TMDB Popularity:\")\n",
    "print(top_actors)\n",
    "print(\"\\nTop Directors by TMDB Popularity:\")\n",
    "print(top_directors)"
   ]
  },
  {
   "cell_type": "code",
   "execution_count": 31,
   "metadata": {},
   "outputs": [
    {
     "data": {
      "image/png": "[encoded data removed]",
      "text/plain": [
       "<Figure size 1000x600 with 1 Axes>"
      ]
     },
     "metadata": {},
     "output_type": "display_data"
    },
    {
     "data": {
      "image/png": "[encoded data removed]",
      "text/plain": [
       "<Figure size 1000x600 with 1 Axes>"
      ]
     },
     "metadata": {},
     "output_type": "display_data"
    }
   ],
   "source": [
    "def plot_bar_graph(data, title, x_label, y_label, column_name):\n",
    "    plt.figure(figsize=(10, 6))\n",
    "    plt.barh(data['name'], data[column_name], color='skyblue')\n",
    "    plt.xlabel(x_label)\n",
    "    plt.ylabel(y_label)\n",
    "    plt.title(title)\n",
    "    plt.gca().invert_yaxis() # 가장 높은 값이 위에 오도록 설정\n",
    "    plt.show()\n",
    "\n",
    "# 가장 영향력 있는 배우 시각화 (TMDB 인기 점수 기준)\n",
    "plot_bar_graph(top_actors, 'Top 10 Actors by TMDB Popularity', 'TMDB Popularity', 'Actor', 'avg_tmdb_popularity')\n",
    "\n",
    "# 가장 영향력 있는 감독 시각화 (TMDB 인기 점수 기준)\n",
    "plot_bar_graph(top_directors, 'Top 10 Directors by TMDB Popularity', 'TMDB Popularity', 'Director', 'avg_tmdb_popularity')"
   ]
  }
 ],
 "metadata": {
  "kernelspec": {
   "display_name": "py39",
   "language": "python",
   "name": "python3"
  },
  "language_info": {
   "codemirror_mode": {
    "name": "ipython",
    "version": 3
   },
   "file_extension": ".py",
   "mimetype": "text/x-python",
   "name": "python",
   "nbconvert_exporter": "python",
   "pygments_lexer": "ipython3",
   "version": "3.9.19"
  }
 },
 "nbformat": 4,
 "nbformat_minor": 2
}
