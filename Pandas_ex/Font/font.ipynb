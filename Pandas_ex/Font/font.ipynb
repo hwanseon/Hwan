{
 "cells": [
  {
   "cell_type": "code",
   "execution_count": null,
   "metadata": {},
   "outputs": [],
   "source": [
    "# 폰트 불러오는 함수 \n",
    "def set_customFont(font_path) :\n",
    "    from matplotlib import font_manager as fm, rc\n",
    "    # 폰트 패밀리 이름 가져오기\n",
    "    font_name = fm.FontProperties(fname = FONT_FILE).get_name()\n",
    "\n",
    "    # 새로운 폰트 패밀리 이름 지정\n",
    "    rc('font', family = font_name)"
   ]
  },
  {
   "cell_type": "code",
   "execution_count": null,
   "metadata": {},
   "outputs": [],
   "source": [
    "#- 데이터 시각화 \n",
    "# (1) 한글 처리\n",
    "# 한글폰트 설정 => 폰트 매니저 모듈\n",
    "from matplotlib import font_manager as fm \n",
    "from matplotlib import rc \n",
    "\n",
    "# 적용할 폰트 파일\n",
    "FONT_FILE = r'C:\\Windows\\Fonts\\Hancom Gothic Regular.ttf'\n",
    "\n",
    "# 폰트 패밀리 이름 가져오기\n",
    "font_name=fm.FontProperties(fname=FONT_FILE).get_name()\n",
    "\n",
    "# 새로운 폰트 패밀리 이름 지정\n",
    "rc('font', family=font_name)"
   ]
  }
 ],
 "metadata": {
  "kernelspec": {
   "display_name": "py39",
   "language": "python",
   "name": "python3"
  },
  "language_info": {
   "name": "python",
   "version": "3.9.19"
  }
 },
 "nbformat": 4,
 "nbformat_minor": 2
}
