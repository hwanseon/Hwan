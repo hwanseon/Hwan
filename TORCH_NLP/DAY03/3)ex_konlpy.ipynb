{
 "cells": [
  {
   "cell_type": "markdown",
   "metadata": {},
   "source": [
    "#### 한국어 형태소 분석\n",
    "- Konlpy package 활용\n",
    "    * 내부에 5가지 형태소 분석 package 포함\n",
    "    * 5가지 형태소 분석기 사용법 동일 => Easy"
   ]
  },
  {
   "cell_type": "markdown",
   "metadata": {},
   "source": [
    "- [1] Module Loading <hr> "
   ]
  },
  {
   "cell_type": "code",
   "execution_count": 1,
   "metadata": {},
   "outputs": [],
   "source": [
    "from konlpy.tag import *            # * : package 안에 모든 것들 다 가져오기"
   ]
  },
  {
   "cell_type": "markdown",
   "metadata": {},
   "source": [
    "- [2] 다양한 형태소 분석기 활용 <hr>"
   ]
  },
  {
   "cell_type": "markdown",
   "metadata": {},
   "source": [
    "#### [2-1] Hannanum, 한나눔 형태소 분석기 사용"
   ]
  },
  {
   "cell_type": "code",
   "execution_count": 2,
   "metadata": {},
   "outputs": [],
   "source": [
    "han = Hannanum()\n",
    "\n",
    "text = \"조혜리 미국에서 비지니스타고 언제 돌아와. 얼른 쏘자!\""
   ]
  },
  {
   "cell_type": "code",
   "execution_count": 4,
   "metadata": {},
   "outputs": [
    {
     "name": "stdout",
     "output_type": "stream",
     "text": [
      " 형태소 분리 : ['조혜리', '미국', '에서', '비지니스타', '이', '고', '언제', '돌', '아', '오', '아', '.', '얼른', '쏘', '자', '!']\n"
     ]
    }
   ],
   "source": [
    "## 형태소 분리  -> 조사를 뗴어냄\n",
    "result = han.morphs(text)\n",
    "\n",
    "print(f\" 형태소 분리 : {result}\")\n",
    "\n",
    "# -> 동사를 처리하는 부분에서 가장 많이 문제 발생"
   ]
  },
  {
   "cell_type": "code",
   "execution_count": 5,
   "metadata": {},
   "outputs": [
    {
     "name": "stdout",
     "output_type": "stream",
     "text": [
      " 명사 추출 분리 : ['조혜리', '미국', '비지니스타']\n"
     ]
    }
   ],
   "source": [
    "## 명사만 추출 분리\n",
    "result = han.nouns(text)\n",
    "\n",
    "print(f\" 명사 추출 분리 : {result}\")"
   ]
  },
  {
   "cell_type": "code",
   "execution_count": 6,
   "metadata": {},
   "outputs": [
    {
     "name": "stdout",
     "output_type": "stream",
     "text": [
      " 품사 태깅 : [('조혜리', 'N'), ('미국', 'N'), ('에서', 'J'), ('비지니스타', 'N'), ('이', 'J'), ('고', 'E'), ('언제', 'M'), ('돌', 'P'), ('아', 'E'), ('오', 'P'), ('아', 'E'), ('.', 'S'), ('얼른', 'M'), ('쏘', 'P'), ('자', 'E'), ('!', 'S')]\n"
     ]
    }
   ],
   "source": [
    "# 품사태깅 추출 분리 => 형태소랑 품사로 나눠주는 형태 \n",
    "# -> 형태소 분리 후 품사 태깅 처리\n",
    "result = han.pos(text)\n",
    "\n",
    "print(f\" 품사 태깅 : {result}\")"
   ]
  },
  {
   "cell_type": "markdown",
   "metadata": {},
   "source": [
    "#### [2-2] Kkma, 꼬꼬마 형태소 분석기 사용"
   ]
  },
  {
   "cell_type": "code",
   "execution_count": 8,
   "metadata": {},
   "outputs": [],
   "source": [
    "# 꼬꼬마 형태소 분리\n",
    "kkma = Kkma()"
   ]
  },
  {
   "cell_type": "code",
   "execution_count": 11,
   "metadata": {},
   "outputs": [
    {
     "name": "stdout",
     "output_type": "stream",
     "text": [
      "형태소 분석 : ['조', '혜', '리', '미국', '에서', '비지니스', '타', '고', '언제', '돌아오', '아', '.', '얼르', 'ㄴ', '쏘', '자', '!']\n",
      "명사 추출 : ['조', '조혜리', '혜', '리', '미국', '비지니스']\n",
      "품사 태깅 후 분리 : [('조', 'NNG'), ('혜', 'UN'), ('리', 'NNG'), ('미국', 'NNP'), ('에서', 'JKM'), ('비지니스', 'NNG'), ('타', 'VV'), ('고', 'ECE'), ('언제', 'MAG'), ('돌아오', 'VV'), ('아', 'ECS'), ('.', 'SF'), ('얼르', 'VV'), ('ㄴ', 'ETD'), ('쏘', 'VV'), ('자', 'ECE'), ('!', 'SF')]\n"
     ]
    }
   ],
   "source": [
    "# 형태소 분석\n",
    "print(f\"형태소 분석 : {kkma.morphs(text)}\")\n",
    "\n",
    "# 명사만 추출\n",
    "print(f\"명사 추출 : {kkma.nouns(text)}\")\n",
    "\n",
    "# 품사 태깅 후 분리\n",
    "print(f\"품사 태깅 후 분리 : {kkma.pos(text)}\")\n"
   ]
  },
  {
   "cell_type": "markdown",
   "metadata": {},
   "source": [
    "#### [2-3] Komoran, 코모란 형태소 분석기 사용"
   ]
  },
  {
   "cell_type": "code",
   "execution_count": 12,
   "metadata": {},
   "outputs": [],
   "source": [
    "## 코모란 형태소 분석기\n",
    "komo = Komoran()"
   ]
  },
  {
   "cell_type": "code",
   "execution_count": 14,
   "metadata": {},
   "outputs": [
    {
     "name": "stdout",
     "output_type": "stream",
     "text": [
      "형태소 분석 : ['조', '혜리', '미국', '에서', '비지니스', '타', '고', '언제', '돌아오', '아', '.', '얼른', '쏘', '자', '!']\n",
      "명사 추출 : ['혜리', '미국', '비지니스']\n",
      "품사 태깅 후 분리 : [('조', 'NR'), ('혜리', 'NNP'), ('미국', 'NNP'), ('에서', 'JKB'), ('비지니스', 'NNG'), ('타', 'VV'), ('고', 'EC'), ('언제', 'MAG'), ('돌아오', 'VV'), ('아', 'EF'), ('.', 'SF'), ('얼른', 'MAG'), ('쏘', 'VV'), ('자', 'EF'), ('!', 'SF')]\n"
     ]
    }
   ],
   "source": [
    "# 형태소 분석\n",
    "print(f\"형태소 분석 : {komo.morphs(text)}\")\n",
    "\n",
    "# 명사만 추출\n",
    "print(f\"명사 추출 : {komo.nouns(text)}\")\n",
    "\n",
    "# 품사 태깅 후 분리\n",
    "print(f\"품사 태깅 후 분리 : {komo.pos(text)}\")"
   ]
  },
  {
   "cell_type": "markdown",
   "metadata": {},
   "source": [
    "#### [2-4] Okt 형태소 분석기 사용"
   ]
  },
  {
   "cell_type": "code",
   "execution_count": 16,
   "metadata": {},
   "outputs": [],
   "source": [
    "# Okt 형태소 분석\n",
    "okt = Okt()"
   ]
  },
  {
   "cell_type": "code",
   "execution_count": 17,
   "metadata": {},
   "outputs": [
    {
     "name": "stdout",
     "output_type": "stream",
     "text": [
      "형태소 분석 : ['조', '혜리', '미국', '에서', '비지니스', '타고', '언제', '돌아와', '.', '얼른', '쏘자', '!']\n",
      "명사 추출 : ['혜리', '미국', '비지니스', '타고', '언제', '얼른']\n",
      "품사 태깅 후 분리 : [('조', 'Modifier'), ('혜리', 'Noun'), ('미국', 'Noun'), ('에서', 'Josa'), ('비지니스', 'Noun'), ('타고', 'Noun'), ('언제', 'Noun'), ('돌아와', 'Verb'), ('.', 'Punctuation'), ('얼른', 'Noun'), ('쏘자', 'Verb'), ('!', 'Punctuation')]\n"
     ]
    }
   ],
   "source": [
    "# 형태소 분석\n",
    "print(f\"형태소 분석 : {okt.morphs(text)}\")\n",
    "\n",
    "# 명사만 추출\n",
    "print(f\"명사 추출 : {okt.nouns(text)}\")\n",
    "\n",
    "# 품사 태깅 후 분리\n",
    "print(f\"품사 태깅 후 분리 : {okt.pos(text)}\")"
   ]
  },
  {
   "cell_type": "markdown",
   "metadata": {},
   "source": [
    "#### [2-5] Mecab, 메캅 형태소 분석기 사용"
   ]
  },
  {
   "cell_type": "code",
   "execution_count": 19,
   "metadata": {},
   "outputs": [],
   "source": [
    "# Mecab 형태소 분석기 사용\n",
    "# mecab = Macab() # --> window는 Macab 지원 X, ERROR 발생"
   ]
  },
  {
   "cell_type": "markdown",
   "metadata": {},
   "source": [
    "<hr>"
   ]
  },
  {
   "cell_type": "code",
   "execution_count": 23,
   "metadata": {},
   "outputs": [
    {
     "name": "stdout",
     "output_type": "stream",
     "text": [
      "형태소 분리 : ['조혜리', '미국', '에서', '비지니스타', '이', '고', '언제', '돌', '아', '오', '아', '.', '얼른', '쏘', '자', '!']\n",
      "형태소 분석 : ['조', '혜', '리', '미국', '에서', '비지니스', '타', '고', '언제', '돌아오', '아', '.', '얼르', 'ㄴ', '쏘', '자', '!']\n",
      "형태소 분석 : ['조', '혜리', '미국', '에서', '비지니스', '타', '고', '언제', '돌아오', '아', '.', '얼른', '쏘', '자', '!']\n",
      "형태소 분석 : ['조', '혜리', '미국', '에서', '비지니스', '타고', '언제', '돌아와', '.', '얼른', '쏘자', '!']\n",
      "\n",
      "명사 추출 분리 : ['조혜리', '미국', '비지니스타']\n",
      "명사 추출 : ['조', '조혜리', '혜', '리', '미국', '비지니스']\n",
      "명사 추출 : ['혜리', '미국', '비지니스']\n",
      "명사 추출 : ['혜리', '미국', '비지니스', '타고', '언제', '얼른']\n",
      "\n",
      "품사 태깅 : [('조혜리', 'N'), ('미국', 'N'), ('에서', 'J'), ('비지니스타', 'N'), ('이', 'J'), ('고', 'E'), ('언제', 'M'), ('돌', 'P'), ('아', 'E'), ('오', 'P'), ('아', 'E'), ('.', 'S'), ('얼른', 'M'), ('쏘', 'P'), ('자', 'E'), ('!', 'S')]\n",
      "품사 태깅 후 분리 : [('조', 'NNG'), ('혜', 'UN'), ('리', 'NNG'), ('미국', 'NNP'), ('에서', 'JKM'), ('비지니스', 'NNG'), ('타', 'VV'), ('고', 'ECE'), ('언제', 'MAG'), ('돌아오', 'VV'), ('아', 'ECS'), ('.', 'SF'), ('얼르', 'VV'), ('ㄴ', 'ETD'), ('쏘', 'VV'), ('자', 'ECE'), ('!', 'SF')]\n",
      "품사 태깅 후 분리 : [('조', 'NR'), ('혜리', 'NNP'), ('미국', 'NNP'), ('에서', 'JKB'), ('비지니스', 'NNG'), ('타', 'VV'), ('고', 'EC'), ('언제', 'MAG'), ('돌아오', 'VV'), ('아', 'EF'), ('.', 'SF'), ('얼른', 'MAG'), ('쏘', 'VV'), ('자', 'EF'), ('!', 'SF')]\n",
      "품사 태깅 후 분리 : [('조', 'Modifier'), ('혜리', 'Noun'), ('미국', 'Noun'), ('에서', 'Josa'), ('비지니스', 'Noun'), ('타고', 'Noun'), ('언제', 'Noun'), ('돌아와', 'Verb'), ('.', 'Punctuation'), ('얼른', 'Noun'), ('쏘자', 'Verb'), ('!', 'Punctuation')]\n",
      "\n"
     ]
    }
   ],
   "source": [
    "## 한나눔, 꼬꼬마, 코모란, okt 비교\n",
    "# 형태소 분석\n",
    "print(f\"형태소 분리 : {han.morphs(text)}\")\n",
    "print(f\"형태소 분석 : {kkma.morphs(text)}\")\n",
    "print(f\"형태소 분석 : {komo.morphs(text)}\")\n",
    "print(f\"형태소 분석 : {okt.morphs(text)}\")\n",
    "print()\n",
    "\n",
    "# 명사만 추출\n",
    "print(f\"명사 추출 분리 : {han.nouns(text)}\")\n",
    "print(f\"명사 추출 : {kkma.nouns(text)}\")\n",
    "print(f\"명사 추출 : {komo.nouns(text)}\")\n",
    "print(f\"명사 추출 : {okt.nouns(text)}\")\n",
    "print()\n",
    "\n",
    "# 품사 태깅 후 분리\n",
    "print(f\"품사 태깅 : {han.pos(text)}\")\n",
    "print(f\"품사 태깅 후 분리 : {kkma.pos(text)}\")\n",
    "print(f\"품사 태깅 후 분리 : {komo.pos(text)}\")\n",
    "print(f\"품사 태깅 후 분리 : {okt.pos(text)}\")\n",
    "print()\n",
    "\n",
    "## 형태소 분석기별 차이가 존재 -> 나에게 최적의 형태소 분석법을 찾는 것이 중요"
   ]
  }
 ],
 "metadata": {
  "kernelspec": {
   "display_name": "NLP_018_230_38",
   "language": "python",
   "name": "python3"
  },
  "language_info": {
   "codemirror_mode": {
    "name": "ipython",
    "version": 3
   },
   "file_extension": ".py",
   "mimetype": "text/x-python",
   "name": "python",
   "nbconvert_exporter": "python",
   "pygments_lexer": "ipython3",
   "version": "3.8.19"
  }
 },
 "nbformat": 4,
 "nbformat_minor": 2
}
