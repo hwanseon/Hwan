{
 "cells": [
  {
   "cell_type": "code",
   "execution_count": null,
   "metadata": {
    "vscode": {
     "languageId": "plaintext"
    }
   },
   "outputs": [],
   "source": [
    "# 10/30 개인프로젝트 뭐할건지 1차 계획서 작성 후 제출\n",
    "# 개인 프로젝트는 각자의 전공이나 도메인을 살려서 하는 것이 가장 좋음 or 관심사\n",
    "# ppt로 작성 -> pdf 변환\n",
    "\n",
    "# 깃허브 노션 하는ㄱ ㅓ정리 ? "
   ]
  }
 ],
 "metadata": {
  "language_info": {
   "name": "python"
  }
 },
 "nbformat": 4,
 "nbformat_minor": 2
}
