{
 "cells": [
  {
   "cell_type": "markdown",
   "metadata": {},
   "source": [
    "#### 자연어 처리를 위한 전처리\n",
    "- Data 정제\n",
    "    * 토큰화 전, 후로 진행\n",
    "    * 100% 완벽한 제거는 어려움 -> 얼마나 잘하느냐에 따라 결과값이 달라짐\n",
    "    * 불용어, 빈도에 따른 제거, 길이에 따른 제거"
   ]
  },
  {
   "cell_type": "markdown",
   "metadata": {},
   "source": [
    "###### 길이가 짧다고, 빈도가 작다고 무조건적인 제거는 아님"
   ]
  },
  {
   "cell_type": "code",
   "execution_count": 1,
   "metadata": {},
   "outputs": [],
   "source": [
    "# Module Loading\n",
    "from nltk.corpus import stopwords\n",
    "from nltk.tokenize import word_tokenize"
   ]
  },
  {
   "cell_type": "code",
   "execution_count": 7,
   "metadata": {},
   "outputs": [
    {
     "name": "stdout",
     "output_type": "stream",
     "text": [
      "영어 불용어 : 179개\n",
      "i\n",
      "me my myself we our ours ourselves you you're you've\n",
      "you'll you'd your yours yourself yourselves he him his himself\n",
      "she she's her hers herself it it's its itself they\n",
      "them their theirs themselves what which who whom this that\n",
      "that'll these those am is are was were be been\n",
      "being have has had having do does did doing a\n",
      "an the and but if or because as until while\n",
      "of at by for with about against between into through\n",
      "during before after above below to from up down in\n",
      "out on off over under again further then once here\n",
      "there when where why how all any both each few\n",
      "more most other some such no nor not only own\n",
      "same so than too very s t can will just\n",
      "don don't should should've now d ll m o "
     ]
    }
   ],
   "source": [
    "# NLTK에서 가져온 영어 불용어 List 가져오기\n",
    "english_sw = stopwords.words(\"english\")     # ( )안에는 원하는 언어 입력\n",
    "\n",
    "print(f\"영어 불용어 : {len(english_sw)}개\")\n",
    "\n",
    "for idx, _ in enumerate(english_sw[:140]) :\n",
    "    print(_, end = \" \" if idx%10 else \"\\n\")"
   ]
  },
  {
   "cell_type": "code",
   "execution_count": 13,
   "metadata": {},
   "outputs": [
    {
     "data": {
      "text/plain": [
       "\"Family is not an important thing It's everything\""
      ]
     },
     "execution_count": 13,
     "metadata": {},
     "output_type": "execute_result"
    }
   ],
   "source": [
    "# 토큰에서 불용어 제거하기\n",
    "text = \"Family is not an important thing. It's everything.\"\n",
    "\n",
    "# 구두점 제거 방법 1) Replace\n",
    "\n",
    "# 구두점의 리스트 \n",
    "import string\n",
    "punct = string.punctuation \n",
    "\n",
    "text.replace(\".\", \"\")"
   ]
  },
  {
   "cell_type": "code",
   "execution_count": 14,
   "metadata": {},
   "outputs": [
    {
     "name": "stdout",
     "output_type": "stream",
     "text": [
      "punctuation = ! : Family, is not an im?portant thi?ng. I;t's ev@erything.\n",
      "punctuation = \" : Family, is not an im?portant thi?ng. I;t's ev@erything.\n",
      "punctuation = # : Family, is not an im?portant thi?ng. I;t's ev@erything.\n",
      "punctuation = $ : Family, is not an im?portant thi?ng. I;t's ev@erything.\n",
      "punctuation = % : Family, is not an im?portant thi?ng. I;t's ev@erything.\n",
      "punctuation = & : Family, is not an im?portant thi?ng. I;t's ev@erything.\n",
      "punctuation = ' : Family, is not an im?portant thi?ng. I;ts ev@erything.\n",
      "punctuation = ( : Family, is not an im?portant thi?ng. I;ts ev@erything.\n",
      "punctuation = ) : Family, is not an im?portant thi?ng. I;ts ev@erything.\n",
      "punctuation = * : Family, is not an im?portant thi?ng. I;ts ev@erything.\n",
      "punctuation = + : Family, is not an im?portant thi?ng. I;ts ev@erything.\n",
      "punctuation = , : Family is not an im?portant thi?ng. I;ts ev@erything.\n",
      "punctuation = - : Family is not an im?portant thi?ng. I;ts ev@erything.\n",
      "punctuation = . : Family is not an im?portant thi?ng I;ts ev@erything\n",
      "punctuation = / : Family is not an im?portant thi?ng I;ts ev@erything\n",
      "punctuation = : : Family is not an im?portant thi?ng I;ts ev@erything\n",
      "punctuation = ; : Family is not an im?portant thi?ng Its ev@erything\n",
      "punctuation = < : Family is not an im?portant thi?ng Its ev@erything\n",
      "punctuation = = : Family is not an im?portant thi?ng Its ev@erything\n",
      "punctuation = > : Family is not an im?portant thi?ng Its ev@erything\n",
      "punctuation = ? : Family is not an important thing Its ev@erything\n",
      "punctuation = @ : Family is not an important thing Its everything\n",
      "punctuation = [ : Family is not an important thing Its everything\n",
      "punctuation = \\ : Family is not an important thing Its everything\n",
      "punctuation = ] : Family is not an important thing Its everything\n",
      "punctuation = ^ : Family is not an important thing Its everything\n",
      "punctuation = _ : Family is not an important thing Its everything\n",
      "punctuation = ` : Family is not an important thing Its everything\n",
      "punctuation = { : Family is not an important thing Its everything\n",
      "punctuation = | : Family is not an important thing Its everything\n",
      "punctuation = } : Family is not an important thing Its everything\n",
      "punctuation = ~ : Family is not an important thing Its everything\n",
      "\n",
      "Family is not an important thing Its everything\n"
     ]
    }
   ],
   "source": [
    "# 구두점 제거 방법 2) 반복문\n",
    "text = \"Family, is not! a!n im?portant thi?ng. I;t's ev@erything.\"\n",
    "\n",
    "for pun in punct :\n",
    "    text = text.replace(pun, \"\")\n",
    "    print(f\"punctuation = {pun} : {text}\")\n",
    "\n",
    "print()\n",
    "print(text)"
   ]
  },
  {
   "cell_type": "code",
   "execution_count": 17,
   "metadata": {},
   "outputs": [
    {
     "data": {
      "text/plain": [
       "['family', 'is', 'not', 'an', 'important', 'thing', 'its', 'everything']"
      ]
     },
     "execution_count": 17,
     "metadata": {},
     "output_type": "execute_result"
    }
   ],
   "source": [
    "# 토큰화\n",
    "# text를 대소문자 통일 \n",
    "text = text.lower()\n",
    "\n",
    "# 토큰화 진행\n",
    "tokens = word_tokenize(text)\n",
    "tokens"
   ]
  },
  {
   "cell_type": "code",
   "execution_count": 20,
   "metadata": {},
   "outputs": [
    {
     "name": "stdout",
     "output_type": "stream",
     "text": [
      "['family', 'important', 'thing', 'everything']\n",
      "영어 불용어 : 180개\n",
      "영어 불용어 : 181개\n"
     ]
    }
   ],
   "source": [
    "# is, not, an 이런건 필요가 없음 -> 불용어 제거\n",
    "# 불용어 제거 : 분석에 의미가 없는 토큰 제거\n",
    "for token in tokens :\n",
    "    if token in english_sw :\n",
    "        # 제거\n",
    "        tokens.remove(token)\n",
    "\n",
    "print(tokens)\n",
    "print(f\"영어 불용어 : {len(english_sw)}개\")\n",
    "# 필요시 커스텀 불용어 토큰/단어 추가하기\n",
    "english_sw.append(\"not\")        # english_sw가 리스트라서 append 가능\n",
    "print(f\"영어 불용어 : {len(english_sw)}개\")"
   ]
  },
  {
   "cell_type": "code",
   "execution_count": null,
   "metadata": {},
   "outputs": [],
   "source": [
    "# ['family', 'is', 'not', 'an', 'important', 'thing', 'its', 'everything']\n",
    "tokens"
   ]
  },
  {
   "cell_type": "markdown",
   "metadata": {},
   "source": [
    "<hr>"
   ]
  },
  {
   "cell_type": "code",
   "execution_count": 22,
   "metadata": {},
   "outputs": [
    {
     "data": {
      "text/plain": [
       "['family', 'important', 'thing', 'everything']"
      ]
     },
     "execution_count": 22,
     "metadata": {},
     "output_type": "execute_result"
    }
   ],
   "source": [
    "# 불용어 제거 : 분석에 의미가 없는 토큰 제거\n",
    "for token in tokens :\n",
    "    if token in english_sw :\n",
    "        # 제거\n",
    "        tokens.remove(token)\n",
    "    if token in list(punct) :       # List로 변환해서 구두점과 불용어 모두 제거 가능 \n",
    "        tokens.remove(token)\n",
    "\n",
    "# ['family', 'is', 'not', 'an', 'important', 'thing', 'its', 'everything']\n",
    "tokens"
   ]
  }
 ],
 "metadata": {
  "kernelspec": {
   "display_name": "NLP_018_230_38",
   "language": "python",
   "name": "python3"
  },
  "language_info": {
   "codemirror_mode": {
    "name": "ipython",
    "version": 3
   },
   "file_extension": ".py",
   "mimetype": "text/x-python",
   "name": "python",
   "nbconvert_exporter": "python",
   "pygments_lexer": "ipython3",
   "version": "3.8.19"
  }
 },
 "nbformat": 4,
 "nbformat_minor": 2
}
