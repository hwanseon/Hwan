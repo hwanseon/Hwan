{
 "cells": [
  {
   "cell_type": "markdown",
   "metadata": {},
   "source": [
    "#### Magic Code\n",
    "- Python System에서 특정 기능을 부여해서 미리 정의해둔 코드들\n",
    "- 종류\n",
    "    * 매직변수 : _ _ 변수명_ _ [ex) __name__]\n",
    "    * 매직메서드 : _ _ 함수명 _ _"
   ]
  },
  {
   "cell_type": "code",
   "execution_count": 11,
   "metadata": {},
   "outputs": [],
   "source": [
    "class A :\n",
    "    def __init__ (self, value) :\n",
    "        self.value = value\n",
    "\n",
    "    # 인스턴스/객체 호출 시 실행되는 메서드\n",
    "    def __call__(self, data) :\n",
    "        print(\"__call__\")\n",
    "        return self.value*data\n",
    "    \n",
    "    def __next__(self) :\n",
    "        self.value"
   ]
  },
  {
   "cell_type": "code",
   "execution_count": 8,
   "metadata": {},
   "outputs": [],
   "source": [
    "# 인스턴스 생성\n",
    "a1 = A(2024)"
   ]
  },
  {
   "cell_type": "code",
   "execution_count": 17,
   "metadata": {},
   "outputs": [
    {
     "name": "stdout",
     "output_type": "stream",
     "text": [
      "__call__\n",
      "__call__\n"
     ]
    },
    {
     "data": {
      "text/plain": [
       "300"
      ]
     },
     "execution_count": 17,
     "metadata": {},
     "output_type": "execute_result"
    }
   ],
   "source": [
    "# 인스턴스 변수명으로 실행하기\n",
    "# a(10)        Error: 'A' object is not callable\n",
    "a1(10)\n",
    "A(100)(3)"
   ]
  },
  {
   "cell_type": "code",
   "execution_count": 13,
   "metadata": {},
   "outputs": [],
   "source": [
    "import torch\n",
    "import torch.nn as nn"
   ]
  },
  {
   "cell_type": "code",
   "execution_count": 18,
   "metadata": {},
   "outputs": [
    {
     "data": {
      "text/plain": [
       "(tensor(123), tensor(123))"
      ]
     },
     "execution_count": 18,
     "metadata": {},
     "output_type": "execute_result"
    }
   ],
   "source": [
    "ff = nn.ReLU()\n",
    "ff(torch.tensor(123)),  nn.ReLU()(torch.tensor(123))"
   ]
  },
  {
   "cell_type": "code",
   "execution_count": null,
   "metadata": {},
   "outputs": [],
   "source": []
  }
 ],
 "metadata": {
  "kernelspec": {
   "display_name": "NLP_018_230_38",
   "language": "python",
   "name": "python3"
  },
  "language_info": {
   "codemirror_mode": {
    "name": "ipython",
    "version": 3
   },
   "file_extension": ".py",
   "mimetype": "text/x-python",
   "name": "python",
   "nbconvert_exporter": "python",
   "pygments_lexer": "ipython3",
   "version": "3.8.19"
  }
 },
 "nbformat": 4,
 "nbformat_minor": 2
}
