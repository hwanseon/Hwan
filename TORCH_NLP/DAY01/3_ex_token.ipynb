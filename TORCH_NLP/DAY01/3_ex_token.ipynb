{
 "cells": [
  {
   "cell_type": "markdown",
   "metadata": {},
   "source": [
    "#### 자연어 처리를 위한 전처리\n",
    "- 토큰화 (Tokenizer) : 의미를 가진 최소 단위로 나누는 작업\n",
    "    * 단어 토큰화\n",
    "    * 문장 토큰화\n",
    "    * 바이트 토큰화 "
   ]
  },
  {
   "cell_type": "markdown",
   "metadata": {},
   "source": [
    "[1] Module Loading 및 Data 준비"
   ]
  },
  {
   "cell_type": "code",
   "execution_count": 3,
   "metadata": {},
   "outputs": [],
   "source": [
    "# Module Loading\n",
    "from nltk.tokenize import word_tokenize, sent_tokenize, wordpunct_tokenize"
   ]
  },
  {
   "cell_type": "code",
   "execution_count": 10,
   "metadata": {},
   "outputs": [],
   "source": [
    "# 임시 Data\n",
    "text = \"Happy, New Year! Don't stop. 2025.\"\n",
    "text2 = \"Happy, New Year ~ Don't stop. 2025.\""
   ]
  },
  {
   "cell_type": "code",
   "execution_count": 8,
   "metadata": {},
   "outputs": [
    {
     "data": {
      "text/plain": [
       "['Happy', ',', 'New', 'Year', '!', 'Do', \"n't\", 'stop', '.', '2025', '.']"
      ]
     },
     "execution_count": 8,
     "metadata": {},
     "output_type": "execute_result"
    }
   ],
   "source": [
    "# [1] 단어 단위 토큰화\n",
    "result = word_tokenize(text)\n",
    "result"
   ]
  },
  {
   "cell_type": "code",
   "execution_count": 12,
   "metadata": {},
   "outputs": [
    {
     "name": "stdout",
     "output_type": "stream",
     "text": [
      "['Happy, New Year!', \"Don't stop.\", '2025.']\n",
      "[\"Happy, New Year ~ Don't stop.\", '2025.']\n"
     ]
    }
   ],
   "source": [
    "# [2] 문장 단위 토큰화\n",
    "result = sent_tokenize(text)\n",
    "result2 = sent_tokenize(text2)\n",
    "\n",
    "# 문장을 나누는 것은 . or ! or ? 등을 기준으로 문장을 나눔\n",
    "print(result)           # 2문장으로 출력\n",
    "print(result2)          # 1문장으로 출력"
   ]
  },
  {
   "cell_type": "code",
   "execution_count": 13,
   "metadata": {},
   "outputs": [
    {
     "name": "stdout",
     "output_type": "stream",
     "text": [
      "['Happy', ',', 'New', 'Year', '!', 'Do', \"n't\", 'stop', '.', '2025', '.']\n",
      "['Happy', ',', 'New', 'Year', '~', 'Do', \"n't\", 'stop', '.', '2025', '.']\n"
     ]
    }
   ],
   "source": [
    "# [3] 단위와 구두점 단위 토큰화\n",
    "result = word_tokenize(text)\n",
    "result2 = word_tokenize(text2)\n",
    "\n",
    "# 모두 분리해줌\n",
    "print(result)\n",
    "print(result2)"
   ]
  },
  {
   "cell_type": "markdown",
   "metadata": {},
   "source": [
    "[2] 품사 태깅 <hr>"
   ]
  },
  {
   "cell_type": "code",
   "execution_count": 15,
   "metadata": {},
   "outputs": [],
   "source": [
    "from nltk.tag import pos_tag"
   ]
  },
  {
   "cell_type": "code",
   "execution_count": 16,
   "metadata": {},
   "outputs": [],
   "source": [
    "text = \"The Matrix is everywhere its all around us, here even in this room\""
   ]
  },
  {
   "cell_type": "code",
   "execution_count": 17,
   "metadata": {},
   "outputs": [
    {
     "data": {
      "text/plain": [
       "[('The', 'DT'),\n",
       " ('Matrix', 'NNP'),\n",
       " ('is', 'VBZ'),\n",
       " ('everywhere', 'RB'),\n",
       " ('its', 'PRP$'),\n",
       " ('all', 'DT'),\n",
       " ('around', 'IN'),\n",
       " ('us', 'PRP'),\n",
       " (',', ','),\n",
       " ('here', 'RB'),\n",
       " ('even', 'RB'),\n",
       " ('in', 'IN'),\n",
       " ('this', 'DT'),\n",
       " ('room', 'NN')]"
      ]
     },
     "execution_count": 17,
     "metadata": {},
     "output_type": "execute_result"
    }
   ],
   "source": [
    "# 단순 단어기반  토큰화\n",
    "result = word_tokenize(text)\n",
    "\n",
    "pos_tag(result)"
   ]
  },
  {
   "cell_type": "code",
   "execution_count": 23,
   "metadata": {},
   "outputs": [],
   "source": [
    "# 단어 사전에 존재하는 어간, 표제어 추출 \n",
    "from nltk.stem import WordNetLemmatizer"
   ]
  },
  {
   "cell_type": "code",
   "execution_count": 19,
   "metadata": {},
   "outputs": [],
   "source": [
    "# 표제어 추출\n",
    "words = ['policy', 'doing', 'organization', 'have', 'going', 'love', 'lives', 'fly', \n",
    "'dies', 'watched', 'has', 'starting']"
   ]
  },
  {
   "cell_type": "code",
   "execution_count": 20,
   "metadata": {},
   "outputs": [
    {
     "data": {
      "text/plain": [
       "['policy',\n",
       " 'doing',\n",
       " 'organization',\n",
       " 'have',\n",
       " 'going',\n",
       " 'love',\n",
       " 'life',\n",
       " 'fly',\n",
       " 'dy',\n",
       " 'watched',\n",
       " 'ha',\n",
       " 'starting']"
      ]
     },
     "execution_count": 20,
     "metadata": {},
     "output_type": "execute_result"
    }
   ],
   "source": [
    "# 표제어 추출 # 기본 명사\n",
    "[WordNetLemmatizer().lemmatize(w) for w in words]"
   ]
  },
  {
   "cell_type": "code",
   "execution_count": 21,
   "metadata": {},
   "outputs": [
    {
     "data": {
      "text/plain": [
       "['policy',\n",
       " 'do',\n",
       " 'organization',\n",
       " 'have',\n",
       " 'go',\n",
       " 'love',\n",
       " 'live',\n",
       " 'fly',\n",
       " 'die',\n",
       " 'watch',\n",
       " 'have',\n",
       " 'start']"
      ]
     },
     "execution_count": 21,
     "metadata": {},
     "output_type": "execute_result"
    }
   ],
   "source": [
    "# 표제어 추출 # 기본 동사\n",
    "[WordNetLemmatizer().lemmatize(w, pos = \"v\") for w in words]"
   ]
  },
  {
   "cell_type": "code",
   "execution_count": 24,
   "metadata": {},
   "outputs": [],
   "source": [
    "# 단어 사전에 존재하지 않을 수 있는 어간 추출\n",
    "# 단어의 형태학적 측면에서 어간 추출하는 방식\n",
    "from nltk.stem import PorterStemmer, LancasterStemmer"
   ]
  },
  {
   "cell_type": "code",
   "execution_count": 28,
   "metadata": {},
   "outputs": [
    {
     "name": "stdout",
     "output_type": "stream",
     "text": [
      "polici  do  organ  have  go  love  live  fli  die  watch  ha  start  "
     ]
    }
   ],
   "source": [
    "# Poster 알고리즘 기반 형태적 측면 어간 추출\n",
    "# words = ['policy', 'doing', 'organization', 'have', 'going', 'love', 'lives', 'fly', \n",
    "#           'dies', 'watched', 'has', 'starting']\n",
    "for _ in  [PorterStemmer().stem(w) for w in words]: print(_, end = \"  \")\n",
    "\n",
    "# -> 출력하면 형태가 많이 바뀜, 단어사전에 없는 단어들이 출력될 가능성도 있음"
   ]
  },
  {
   "cell_type": "code",
   "execution_count": 29,
   "metadata": {},
   "outputs": [
    {
     "name": "stdout",
     "output_type": "stream",
     "text": [
      "policy  doing  org  hav  going  lov  liv  fly  die  watch  has  start  "
     ]
    }
   ],
   "source": [
    "# LancasterStemmer 알고리즘 기반 형태적 측면 어간 추출\n",
    "# words = ['policy', 'doing', 'organization', 'have', 'going', 'love', 'lives', 'fly', \n",
    "#           'dies', 'watched', 'has', 'starting']\n",
    "for _ in [LancasterStemmer().stem(w) for w in words] : print(_, end = \"  \")"
   ]
  }
 ],
 "metadata": {
  "kernelspec": {
   "display_name": "NLP_018_230_38",
   "language": "python",
   "name": "python3"
  },
  "language_info": {
   "codemirror_mode": {
    "name": "ipython",
    "version": 3
   },
   "file_extension": ".py",
   "mimetype": "text/x-python",
   "name": "python",
   "nbconvert_exporter": "python",
   "pygments_lexer": "ipython3",
   "version": "3.8.19"
  }
 },
 "nbformat": 4,
 "nbformat_minor": 2
}
