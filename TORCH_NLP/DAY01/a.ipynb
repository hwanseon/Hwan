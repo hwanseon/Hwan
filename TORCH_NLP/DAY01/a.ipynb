{
 "cells": [
  {
   "cell_type": "code",
   "execution_count": 1,
   "metadata": {},
   "outputs": [],
   "source": [
    "# 모듈로딩\n",
    "import torch\n",
    "import torchtext\n",
    "import torchdata\n",
    "\n",
    "# run하면 install 설치 버튼이 나옴 -> 따로 conda install ~ 할 필요 X"
   ]
  },
  {
   "cell_type": "code",
   "execution_count": 1,
   "metadata": {},
   "outputs": [],
   "source": [
    " # pandas, matplotlib, sklearn, seaborn 설치 후 버전 확인"
   ]
  },
  {
   "cell_type": "code",
   "execution_count": null,
   "metadata": {},
   "outputs": [],
   "source": [
    "# >>> import pandas \n",
    "# >>> pandas.__version__\n",
    "# '2.0.3'\n",
    "# >>> import matplotlib\n",
    "# >>> matplotlib.__version__\n",
    "# '3.7.2'\n",
    "# >>> import sklearn\n",
    "# >>> sklearn.__version__\n",
    "# '1.3.0'\n",
    "# >>> import seaborn\n",
    "# >>> seaborn.__version__\n",
    "# '0.13.2'"
   ]
  }
 ],
 "metadata": {
  "kernelspec": {
   "display_name": "NLP_018_230_38",
   "language": "python",
   "name": "python3"
  },
  "language_info": {
   "codemirror_mode": {
    "name": "ipython",
    "version": 3
   },
   "file_extension": ".py",
   "mimetype": "text/x-python",
   "name": "python",
   "nbconvert_exporter": "python",
   "pygments_lexer": "ipython3",
   "version": "3.8.19"
  }
 },
 "nbformat": 4,
 "nbformat_minor": 2
}
