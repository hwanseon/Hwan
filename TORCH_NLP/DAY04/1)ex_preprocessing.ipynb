{
 "cells": [
  {
   "cell_type": "markdown",
   "metadata": {},
   "source": [
    "#### 자연어처리 => 수치화 단계\n",
    "- 코퍼스/말뭉치에서 단어 사전 추출 및 수치화 진행\n",
    "    * 국소/이산수치표현 : One-Hot-Encoding, N-gram 방식\n",
    "        - 단어 하나하나 따로 따로 수치화\n",
    "        - 희소행렬로 표현 (0과 정수)\n",
    "    * 분산/연속수치표현 : Word2Vec, Doc2Vec 방식\n",
    "        - 단어 사이의 관계를 수치화\n",
    "        - 밀집행렬로 표현 (다차원, 실수값)"
   ]
  },
  {
   "cell_type": "markdown",
   "metadata": {},
   "source": [
    "[1] Module Loading <hr>"
   ]
  },
  {
   "cell_type": "code",
   "execution_count": 1,
   "metadata": {},
   "outputs": [],
   "source": [
    "# Module Loading\n",
    "from sklearn.feature_extraction.text import CountVectorizer"
   ]
  },
  {
   "cell_type": "markdown",
   "metadata": {},
   "source": [
    "[2] Data 준비 및 처리 <hr>"
   ]
  },
  {
   "cell_type": "markdown",
   "metadata": {},
   "source": [
    "- [BOW 방법] <hr>"
   ]
  },
  {
   "cell_type": "code",
   "execution_count": 2,
   "metadata": {},
   "outputs": [],
   "source": [
    "# 임의의 말뭉치/코퍼스 DataSet\n",
    "corpus = [\n",
    "    'This is the first document.',\n",
    "    'This document is the second document.',\n",
    "    'And this is the third one.',\n",
    "    'Is this the first document?',\n",
    "]"
   ]
  },
  {
   "cell_type": "code",
   "execution_count": 6,
   "metadata": {},
   "outputs": [],
   "source": [
    "# 단어 사전 생성 및 변환\n",
    "cv = CountVectorizer()\n",
    "result = cv.fit_transform(corpus)\n",
    "\n",
    "# -> _를 하면 바로 결과 뽑아서 반환"
   ]
  },
  {
   "cell_type": "code",
   "execution_count": 12,
   "metadata": {},
   "outputs": [
    {
     "name": "stdout",
     "output_type": "stream",
     "text": [
      "[[0 1 1 1 0 0 1 0 1]\n",
      " [0 2 0 1 0 1 1 0 1]\n",
      " [1 0 0 1 1 0 1 1 1]\n",
      " [0 1 1 1 0 0 1 0 1]]\n"
     ]
    }
   ],
   "source": [
    "# 문장 -> 수치화\n",
    "print(result.toarray())\n",
    "\n",
    "# corpus에서 나온 단어가 9개 이기때문에 9열\n",
    "# 0~9까지의 인덱스를 보고 숫자를 부여 \n",
    "# ex 0 and인데 첫번째 문장에 and가 없어서 0, 1 document인데 첫번째 문장에 document가 1번 들어가서 인덱스 1자리에 1\n",
    "# 2 first는 첫번째 문장에 1번 들어가서 인덱스 2번자리에 1, is도 1번 들어가서 1 ...\n",
    "# 문맥이랑 상관없이 단어 존재 여부에 따라 결정됨"
   ]
  },
  {
   "cell_type": "code",
   "execution_count": 10,
   "metadata": {},
   "outputs": [
    {
     "data": {
      "text/plain": [
       "{'this': 8,\n",
       " 'is': 3,\n",
       " 'the': 6,\n",
       " 'first': 2,\n",
       " 'document': 1,\n",
       " 'second': 5,\n",
       " 'and': 0,\n",
       " 'third': 7,\n",
       " 'one': 4}"
      ]
     },
     "execution_count": 10,
     "metadata": {},
     "output_type": "execute_result"
    }
   ],
   "source": [
    "# 생성된 단어사전 \n",
    "cv.vocabulary_\n",
    "\n",
    "# alphabet 순서대로 번호를 부여"
   ]
  },
  {
   "cell_type": "markdown",
   "metadata": {},
   "source": [
    "- [DTM 방법] <hr>"
   ]
  },
  {
   "cell_type": "markdown",
   "metadata": {},
   "source": [
    "- 서로 다른 문서들의 BoW들을 결합한 표현 방법인 문서 단어 행렬 (DTM) 표현\n",
    "- 다수의 문서에 등장하는 각 단어들의 빈도로 행렬로 표현\n",
    "- 각 문서에 대해 BOW를 하나의 행렬로 만든 것\n",
    "- 방법\n",
    "    * 각 문서의 단어 벡터 생성\n",
    "    * 해당 단어가 존재하는 빈도 수 채움\n",
    "- 단점\n",
    "    * 각 문서에는 중요한 단어와 불필요 단어가 혼재\n",
    "    * 빈도가 높아도 의미가 없는 단어들 존재\n",
    "    * 단어가 많은수록 벡터 사이즈가 커짐 -> Memory 낭비\n",
    "    * 대부분 0인 값으로 희소 벡터/희소 행렬 -> 희소 표현"
   ]
  },
  {
   "cell_type": "code",
   "execution_count": null,
   "metadata": {},
   "outputs": [],
   "source": []
  }
 ],
 "metadata": {
  "kernelspec": {
   "display_name": "NLP_018_230_38",
   "language": "python",
   "name": "python3"
  },
  "language_info": {
   "codemirror_mode": {
    "name": "ipython",
    "version": 3
   },
   "file_extension": ".py",
   "mimetype": "text/x-python",
   "name": "python",
   "nbconvert_exporter": "python",
   "pygments_lexer": "ipython3",
   "version": "3.8.19"
  }
 },
 "nbformat": 4,
 "nbformat_minor": 2
}
