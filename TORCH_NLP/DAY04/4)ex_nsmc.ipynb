{
 "cells": [
  {
   "cell_type": "markdown",
   "metadata": {},
   "source": [
    "#### 한국어 코퍼스 전처리\n",
    "- DataSet : Korpora에서 Loading\n",
    "- 형태소 분석기 설정 : 본인 원하는 것\n",
    "- 단어사전 생성"
   ]
  },
  {
   "cell_type": "markdown",
   "metadata": {},
   "source": [
    "[1] Module Loading 및 Data 준비 <hr>"
   ]
  },
  {
   "cell_type": "code",
   "execution_count": 8,
   "metadata": {},
   "outputs": [
    {
     "name": "stderr",
     "output_type": "stream",
     "text": [
      "c:\\Users\\hwans\\anaconda3\\envs\\NLP_018_230_38\\lib\\site-packages\\torchtext\\data\\__init__.py:4: UserWarning: \n",
      "/!\\ IMPORTANT WARNING ABOUT TORCHTEXT STATUS /!\\ \n",
      "Torchtext is deprecated and the last released version will be 0.18 (this one). You can silence this warning by calling the following at the beginnign of your scripts: `import torchtext; torchtext.disable_torchtext_deprecation_warning()`\n",
      "  warnings.warn(torchtext._TORCHTEXT_DEPRECATION_MSG)\n",
      "c:\\Users\\hwans\\anaconda3\\envs\\NLP_018_230_38\\lib\\site-packages\\torchtext\\vocab\\__init__.py:4: UserWarning: \n",
      "/!\\ IMPORTANT WARNING ABOUT TORCHTEXT STATUS /!\\ \n",
      "Torchtext is deprecated and the last released version will be 0.18 (this one). You can silence this warning by calling the following at the beginnign of your scripts: `import torchtext; torchtext.disable_torchtext_deprecation_warning()`\n",
      "  warnings.warn(torchtext._TORCHTEXT_DEPRECATION_MSG)\n",
      "c:\\Users\\hwans\\anaconda3\\envs\\NLP_018_230_38\\lib\\site-packages\\torchtext\\utils.py:4: UserWarning: \n",
      "/!\\ IMPORTANT WARNING ABOUT TORCHTEXT STATUS /!\\ \n",
      "Torchtext is deprecated and the last released version will be 0.18 (this one). You can silence this warning by calling the following at the beginnign of your scripts: `import torchtext; torchtext.disable_torchtext_deprecation_warning()`\n",
      "  warnings.warn(torchtext._TORCHTEXT_DEPRECATION_MSG)\n"
     ]
    }
   ],
   "source": [
    "# Module Loading\n",
    "from Korpora import Korpora                             # Open Korean DataSet\n",
    "from konlpy.tag import *                                # 형태소 분석기\n",
    "import spacy                                            # 형태소 분석기\n",
    "\n",
    "from torchtext.data.utils import get_tokenizer          # Pytorch 자연어처리 Module\n",
    "from torchtext.vocab import *                           # Pytorch 자연어처리 단어사전 관련 Module\n",
    "from torch.utils.data import Dataset, DataLoader        # Pytorch DataSet 관련 Module\n",
    "\n",
    "import pandas as pd\n",
    "import numpy as np"
   ]
  },
  {
   "cell_type": "code",
   "execution_count": 9,
   "metadata": {},
   "outputs": [
    {
     "name": "stdout",
     "output_type": "stream",
     "text": [
      "\n",
      "    Korpora 는 다른 분들이 연구 목적으로 공유해주신 말뭉치들을\n",
      "    손쉽게 다운로드, 사용할 수 있는 기능만을 제공합니다.\n",
      "\n",
      "    말뭉치들을 공유해 주신 분들에게 감사드리며, 각 말뭉치 별 설명과 라이센스를 공유 드립니다.\n",
      "    해당 말뭉치에 대해 자세히 알고 싶으신 분은 아래의 description 을 참고,\n",
      "    해당 말뭉치를 연구/상용의 목적으로 이용하실 때에는 아래의 라이센스를 참고해 주시기 바랍니다.\n",
      "\n",
      "    # Description\n",
      "    Author : e9t@github\n",
      "    Repository : https://github.com/e9t/nsmc\n",
      "    References : www.lucypark.kr/docs/2015-pyconkr/#39\n",
      "\n",
      "    Naver sentiment movie corpus v1.0\n",
      "    This is a movie review dataset in the Korean language.\n",
      "    Reviews were scraped from Naver Movies.\n",
      "\n",
      "    The dataset construction is based on the method noted in\n",
      "    [Large movie review dataset][^1] from Maas et al., 2011.\n",
      "\n",
      "    [^1]: http://ai.stanford.edu/~amaas/data/sentiment/\n",
      "\n",
      "    # License\n",
      "    CC0 1.0 Universal (CC0 1.0) Public Domain Dedication\n",
      "    Details in https://creativecommons.org/publicdomain/zero/1.0/\n",
      "\n",
      "[Korpora] Corpus `nsmc` is already installed at C:\\Users\\hwans\\Korpora\\nsmc\\ratings_train.txt\n",
      "[Korpora] Corpus `nsmc` is already installed at C:\\Users\\hwans\\Korpora\\nsmc\\ratings_test.txt\n"
     ]
    }
   ],
   "source": [
    "# Data Loading\n",
    "nsmc = Korpora.load(\"nsmc\")"
   ]
  },
  {
   "cell_type": "code",
   "execution_count": 10,
   "metadata": {},
   "outputs": [
    {
     "data": {
      "text/plain": [
       "(LabeledSentence(text='아 더빙.. 진짜 짜증나네요 목소리', label=0),\n",
       " LabeledSentence(text='굳 ㅋ', label=1))"
      ]
     },
     "execution_count": 10,
     "metadata": {},
     "output_type": "execute_result"
    }
   ],
   "source": [
    "nsmc.train[0], nsmc.test[0]"
   ]
  },
  {
   "cell_type": "code",
   "execution_count": 11,
   "metadata": {},
   "outputs": [
    {
     "name": "stdout",
     "output_type": "stream",
     "text": [
      "<class 'pandas.core.frame.DataFrame'>\n",
      "RangeIndex: 50000 entries, 0 to 49999\n",
      "Data columns (total 2 columns):\n",
      " #   Column  Non-Null Count  Dtype \n",
      "---  ------  --------------  ----- \n",
      " 0   text    50000 non-null  object\n",
      " 1   label   50000 non-null  int64 \n",
      "dtypes: int64(1), object(1)\n",
      "memory usage: 781.4+ KB\n"
     ]
    }
   ],
   "source": [
    "# Test DataSet을 DataFrame으로 로딩\n",
    "nsmcDF = pd.DataFrame(nsmc.test)\n",
    "nsmcDF.info()\n",
    "\n",
    "# text가 Frature가 되고 label이 Target"
   ]
  },
  {
   "cell_type": "code",
   "execution_count": 12,
   "metadata": {},
   "outputs": [],
   "source": [
    "# 원래 tarin data를 가져와서 해야하지만 train data가 많아서 test data로 진행하는 것"
   ]
  },
  {
   "cell_type": "markdown",
   "metadata": {},
   "source": [
    "- [2] 커스텀 DataSet 정의 <hr>"
   ]
  },
  {
   "cell_type": "code",
   "execution_count": 13,
   "metadata": {},
   "outputs": [],
   "source": [
    "# 단어사전을 생성 시 활용\n",
    "# 단어사전을 생성하는거라서 tensor 값이 아닌 텍스트를 줘야함 \n",
    "\n",
    "class TextDataset(Dataset) :\n",
    "    def __init__ (self, feature, label) :\n",
    "        self.feature = feature\n",
    "        self.label = label\n",
    "        self.length = feature.shape[0]\n",
    "\n",
    "    def __len__(self) :\n",
    "        return self.length\n",
    "\n",
    "    def __getitem__ (self, index) :\n",
    "        return self.feature.iloc[index], self.label.iloc[index]"
   ]
  },
  {
   "cell_type": "code",
   "execution_count": 14,
   "metadata": {},
   "outputs": [],
   "source": [
    "# nsmc의 DataSet 인스턴스 생성\n",
    "nsmcDS = TextDataset(nsmcDF[\"text\"], nsmcDF[\"label\"])"
   ]
  },
  {
   "cell_type": "code",
   "execution_count": 15,
   "metadata": {},
   "outputs": [
    {
     "name": "stdout",
     "output_type": "stream",
     "text": [
      "굳 ㅋ 1\n"
     ]
    }
   ],
   "source": [
    "# Data 확인\n",
    "for f, l in nsmcDS :\n",
    "    print(f, l)\n",
    "    break"
   ]
  },
  {
   "cell_type": "markdown",
   "metadata": {},
   "source": [
    "[3] Text Data 전처리 <hr>\n",
    "- 토큰화/정제 (불용어, 구두점, 오타, ...)\n",
    "- 단어사전 생성\n",
    "- 모든 문장을 수치화 \n",
    "- -------------------"
   ]
  },
  {
   "cell_type": "code",
   "execution_count": 16,
   "metadata": {},
   "outputs": [],
   "source": [
    "# 불용어 제거 함수\n",
    "from nltk.corpus import stopwords\n",
    "\n",
    "# 토큰화\n",
    "from nltk.tokenize import word_tokenize"
   ]
  },
  {
   "cell_type": "code",
   "execution_count": 31,
   "metadata": {},
   "outputs": [],
   "source": [
    "# Tokenize 생성\n",
    "get_tokenizer(Okt().morphs)            # 그냥 함수를 호출하는 것 -> 저장을 해야함     \n",
    "# morphs: 형태소를 분석해주는 애\n",
    "\n",
    "def preprocessing(text) :\n",
    "        # 불용어 처리\n",
    "        kor_sw = stopwords.words(text)\n",
    "        text = text.lower()\n",
    "        tokens = word_tokenize(text)\n",
    "        for token in tokens :\n",
    "                if token not in kor_sw :\n",
    "                        tokens.remove(token)\n",
    "\n",
    "okt_tokenizer = get_tokenizer(Okt().morphs)  \n",
    "spacy_tokenizer = get_tokenizer(\"spacy\", language=\"ko_core_news_sm\")        # language에 내가 설치했던 이름을 넣어줘야함"
   ]
  },
  {
   "cell_type": "code",
   "execution_count": 32,
   "metadata": {},
   "outputs": [],
   "source": [
    "# Text DataSet에서 처리할 DataSet만 Loading해서 토큰화 진행하는 반복자 함수\n",
    "def generateToken(dataset) :\n",
    "    for text, label in dataset :\n",
    "        # 토큰화 \n",
    "        yield okt_tokenizer(text)\n",
    "        pass"
   ]
  },
  {
   "cell_type": "code",
   "execution_count": 33,
   "metadata": {},
   "outputs": [],
   "source": [
    "# 단어사전 생성 \n",
    "UNK_TOKEN = \"<UNK>\"\n",
    "PAD_TOKEN = \"<PAD>\"\n",
    "\n",
    "nsmcVocab = build_vocab_from_iterator(iterator=generateToken(nsmcDS),\n",
    "                                      specials=[UNK_TOKEN])\n",
    "\n",
    "nsmcVocab.set_default_index(nsmcVocab[UNK_TOKEN])                   # OOV 토큰의 인덱스를 지정할 수 있음"
   ]
  },
  {
   "cell_type": "code",
   "execution_count": 34,
   "metadata": {},
   "outputs": [
    {
     "data": {
      "text/plain": [
       "56812"
      ]
     },
     "execution_count": 34,
     "metadata": {},
     "output_type": "execute_result"
    }
   ],
   "source": [
    "len(nsmcVocab)"
   ]
  }
 ],
 "metadata": {
  "kernelspec": {
   "display_name": "NLP_018_230_38",
   "language": "python",
   "name": "python3"
  },
  "language_info": {
   "codemirror_mode": {
    "name": "ipython",
    "version": 3
   },
   "file_extension": ".py",
   "mimetype": "text/x-python",
   "name": "python",
   "nbconvert_exporter": "python",
   "pygments_lexer": "ipython3",
   "version": "3.8.19"
  }
 },
 "nbformat": 4,
 "nbformat_minor": 2
}
